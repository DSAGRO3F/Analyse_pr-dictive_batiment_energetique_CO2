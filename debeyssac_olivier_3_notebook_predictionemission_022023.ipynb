{
 "cells": [
  {
   "cell_type": "markdown",
   "id": "af402bb3",
   "metadata": {},
   "source": [
    "##  Contexte et objectifs de l'étude.\n",
    "### Bâtiment et énergie:\n",
    "Le secteur du bâtiment représente 44 % de l’énergie consommée en France, loin devant le secteur des transports (31,3%). Chaque année, le secteur du bâtiment émet plus de 123 millions de tonnes de C02, ce qui en fait l’un des domaines clé dans la lutte contre le réchauffement climatique et la transition énergétique. Pour rendre le bâtiment plus économe en énergie, il faut rénover massivement l’existant et développer des normes plus strictes en termes de consommation d’énergie pour les bâtiments neufs. C’est l’objet de la politique de l’énergie dans les bâtiments. (https://www.ecologie.gouv.fr/energie-dans-batiments). Dans ce contexte de réduction drastique de la consommation énergétique des bâtiments et de la réduction tout aussi sévère des émissions de CO2, ainsi que du renchérissement du coût de l'énergie la ville a depuis plusieurs années procédé à des relevés de mesures.\n",
    "Celles-ci sont couteuses. A partir de ces relevés, existe t-il des techniques fiables permettant d'estimer la consommation et les niveaux d'émissions pour des bâtiments non destinés à l'habitation et pour lesquels on n'a pas de mesures ?\n",
    "Les relevés fournis concernent des données structurelles des bâtiments (taille et usage des bâtiments, date de construction, situation géographique, ...)\n",
    "Dans cette étude, on s'intéresse également à la mesure \"Energy star score\" pour la prédiction d'émissions. Mesure d'une approche fastidieuse et l'on cherchera à juger de son intérêt.\n",
    "### Objectifs:\n",
    "Réaliser une courte analyse exploratoire.\n",
    "Tester différents modèles de prédiction afin de répondre au mieux à la problématique. Dans cette partie, on s'intéresse à la prédiction de CO2 des bâtiments non dédiés à l'habitation.\n"
   ]
  },
  {
   "cell_type": "markdown",
   "id": "f5544c35",
   "metadata": {},
   "source": [
    "## Import packages"
   ]
  },
  {
   "cell_type": "code",
   "execution_count": 633,
   "id": "afa4a85b",
   "metadata": {},
   "outputs": [],
   "source": [
    "import numpy as np\n",
    "import pandas as pd\n",
    "import matplotlib.pyplot as plt\n",
    "import seaborn as sns\n",
    "import sklearn\n",
    "\n",
    "from sklearn.linear_model import LinearRegression\n",
    "from sklearn.neighbors import KNeighborsClassifier\n",
    "from sklearn.svm import SVR\n",
    "\n",
    "from sklearn.model_selection import train_test_split\n",
    "from sklearn.model_selection import cross_val_score\n",
    "from sklearn.model_selection import validation_curve\n",
    "from sklearn.model_selection import GridSearchCV\n",
    "from sklearn.model_selection import RandomizedSearchCV\n",
    "from sklearn.model_selection import learning_curve\n",
    "\n",
    "from sklearn.metrics import confusion_matrix\n",
    "from sklearn.metrics import mean_absolute_error, mean_squared_error\n",
    "\n",
    "from sklearn.preprocessing import PolynomialFeatures\n",
    "from sklearn.preprocessing import RobustScaler, StandardScaler, MinMaxScaler\n",
    "from sklearn.preprocessing import OneHotEncoder\n",
    "\n",
    "from sklearn.compose import make_column_transformer\n",
    "from sklearn.compose import make_column_selector\n",
    "\n",
    "from sklearn.pipeline import make_pipeline\n",
    "\n",
    "from sklearn.impute import SimpleImputer\n",
    "from sklearn.impute import KNNImputer\n",
    "\n",
    "from sklearn.decomposition import PCA\n",
    "\n",
    "from sklearn.feature_selection import VarianceThreshold, SelectKBest, f_classif, f_regression\n",
    "\n",
    "from sklearn.ensemble import RandomForestRegressor, AdaBoostRegressor, GradientBoostingRegressor\n"
   ]
  },
  {
   "cell_type": "markdown",
   "id": "37d3f6ed",
   "metadata": {},
   "source": [
    "## Chargement data"
   ]
  },
  {
   "cell_type": "code",
   "execution_count": 634,
   "id": "ee71269d",
   "metadata": {},
   "outputs": [],
   "source": [
    "path= '/Users/olivierdebeyssac/Open Classrooms/Data_scientist/Projet_4_Anticipez_les_besoins_en_consommation_de_bâtiments/Data/2016_Building_Energy_Benchmarking.csv'\n",
    "df = pd.read_csv (path, sep=',')"
   ]
  },
  {
   "cell_type": "markdown",
   "id": "42949ab4",
   "metadata": {},
   "source": [
    "## Constitution d'un dataset avec qualité de données"
   ]
  },
  {
   "cell_type": "markdown",
   "id": "a4d710ab",
   "metadata": {},
   "source": [
    "### Exclusion variables"
   ]
  },
  {
   "cell_type": "code",
   "execution_count": 635,
   "id": "49284c43",
   "metadata": {},
   "outputs": [],
   "source": [
    "dropped_1 = ['DataYear', 'ZipCode', 'CouncilDistrictCode', 'OSEBuildingID','Comments', 'Outlier', 'DefaultData']"
   ]
  },
  {
   "cell_type": "code",
   "execution_count": 636,
   "id": "49945b3a",
   "metadata": {},
   "outputs": [],
   "source": [
    "# Suppression colonnes \"Comments\" et \"Outlier\", ..., inutiles dans la suite des analyses.\n",
    "df_temp = df.drop(dropped_1, axis=1)"
   ]
  },
  {
   "cell_type": "code",
   "execution_count": 637,
   "id": "99a70bf9",
   "metadata": {},
   "outputs": [
    {
     "name": "stdout",
     "output_type": "stream",
     "text": [
      "(3376, 25)\n"
     ]
    }
   ],
   "source": [
    "# Numerical dataset\n",
    "numerical_features = df_temp.loc[:, df_temp.dtypes != 'object']\n",
    "print(numerical_features.shape)"
   ]
  },
  {
   "cell_type": "markdown",
   "id": "83e7c25f",
   "metadata": {},
   "source": [
    "Suppression des features numériques fortement corrélées entre elles."
   ]
  },
  {
   "cell_type": "code",
   "execution_count": 638,
   "id": "1cae3f22",
   "metadata": {},
   "outputs": [],
   "source": [
    "dropped_2=['PropertyGFATotal','SiteEUIWN(kBtu/sf)', 'SourceEUIWN(kBtu/sf)', 'SiteEnergyUseWN(kBtu)', 'Electricity(kWh)',\n",
    "          'NaturalGas(therms)']\n",
    "\n",
    "# Suppression des features fortement corrélées entre elles.\n",
    "numerical_features = numerical_features.loc[:,~numerical_features.columns.isin(dropped_2)]"
   ]
  },
  {
   "cell_type": "markdown",
   "id": "4cf9c8fa",
   "metadata": {},
   "source": [
    "Pour les colonnes numériques ayant des valeurs manquantes on peut remplacer par la valeurs médiane des features"
   ]
  },
  {
   "cell_type": "markdown",
   "id": "4ac99402",
   "metadata": {},
   "source": [
    "### Remplacement valeurs numériques manquantes."
   ]
  },
  {
   "cell_type": "code",
   "execution_count": 639,
   "id": "c2690d7a",
   "metadata": {},
   "outputs": [
    {
     "data": {
      "text/plain": [
       "Latitude                            0.000000\n",
       "Longitude                           0.000000\n",
       "YearBuilt                           0.000000\n",
       "NumberofBuildings                   0.236967\n",
       "NumberofFloors                      0.000000\n",
       "PropertyGFAParking                  0.000000\n",
       "PropertyGFABuilding(s)              0.000000\n",
       "LargestPropertyUseTypeGFA           0.592417\n",
       "SecondLargestPropertyUseTypeGFA    50.266588\n",
       "ThirdLargestPropertyUseTypeGFA     82.345972\n",
       "ENERGYSTARScore                    24.970379\n",
       "SiteEUI(kBtu/sf)                    0.207346\n",
       "SourceEUI(kBtu/sf)                  0.266588\n",
       "SiteEnergyUse(kBtu)                 0.148104\n",
       "SteamUse(kBtu)                      0.266588\n",
       "Electricity(kBtu)                   0.266588\n",
       "NaturalGas(kBtu)                    0.266588\n",
       "TotalGHGEmissions                   0.266588\n",
       "GHGEmissionsIntensity               0.266588\n",
       "dtype: float64"
      ]
     },
     "execution_count": 639,
     "metadata": {},
     "output_type": "execute_result"
    }
   ],
   "source": [
    "numerical_features.isna().mean()*100"
   ]
  },
  {
   "cell_type": "code",
   "execution_count": 640,
   "id": "8c42dc1c",
   "metadata": {},
   "outputs": [],
   "source": [
    "numerical_features = numerical_features.fillna(numerical_features.median())"
   ]
  },
  {
   "cell_type": "markdown",
   "id": "5dbdb44c",
   "metadata": {},
   "source": [
    "### Construction dataset X_cat (valeurs catégorielles)."
   ]
  },
  {
   "cell_type": "code",
   "execution_count": 641,
   "id": "00baa5f6",
   "metadata": {},
   "outputs": [],
   "source": [
    "# Exclusion des features de type catégoriel n'ayant pas d'interêt.\n",
    "to_be_excluded_cat = ['City', 'State', 'TaxParcelIdentificationNumber', 'ListOfAllPropertyUseTypes',\n",
    "                 'YearsENERGYSTARCertified', 'PropertyName', 'Address', 'ComplianceStatus']\n",
    "condition_1 = (df_temp.columns.isin(to_be_excluded_cat))\n",
    "\n",
    "df_temp = df_temp.loc[:,condition_1==False]\n",
    "X_cat = df_temp.select_dtypes(object)"
   ]
  },
  {
   "cell_type": "markdown",
   "id": "7e635f3b",
   "metadata": {},
   "source": [
    "### Occurences des catégories."
   ]
  },
  {
   "cell_type": "markdown",
   "id": "1e3bfef0",
   "metadata": {},
   "source": [
    "Pour plusieurs variables, on a des catégories pour lesquelles on a un seul échantillon. Ceci posera problème lors de l'étape \"train_test_split\". En effet pour la catégorie pour laquelle on a une seule valeur, on ne pourra pas dispatcher cette catégorie entre \"train\" et \"test\". On exclut ces catégories pour ne pas provoquer d'erreur par la suite.\n",
    "- On renomme numerical_features en X_num\n",
    "- On concatène X_num et X_cat ==> X\n",
    "- On exclut les lignes avec occurence=1"
   ]
  },
  {
   "cell_type": "code",
   "execution_count": 642,
   "id": "dc44797a",
   "metadata": {},
   "outputs": [],
   "source": [
    "X_num = numerical_features\n",
    "X = pd.concat([X_num, X_cat], axis=1)"
   ]
  },
  {
   "cell_type": "code",
   "execution_count": 643,
   "id": "526c0eb0",
   "metadata": {},
   "outputs": [],
   "source": [
    "# Vérification des valeurs des features X_cat\n",
    "def check(df):\n",
    "    l_pos = []\n",
    "    \n",
    "    for i in range(len(df.columns)):\n",
    "        col_name = df.columns[i]\n",
    "        \n",
    "        s = df.iloc[:,i]\n",
    "        cond = (s.dtypes == object)\n",
    "        \n",
    "        if cond:\n",
    "\n",
    "            f = s.value_counts() # comptage des fréquences d'apparition        \n",
    "            v = f[f<=1] # ensemble des valeurs avec fréquence <=1\n",
    "        \n",
    "            for j in range(len(v.index)):\n",
    "                e = v.index[j] # chaine de caractère correspondant à l'index de la série\n",
    "                        \n",
    "                pos_df = df.loc[df[col_name] == e].index # chercher la chaine de caractére dans df et obtenir l'index\n",
    "                \n",
    "                pos_df = list(pos_df)\n",
    "            \n",
    "                l_pos.append(pos_df)\n",
    "        \n",
    "            \n",
    "    return l_pos\n"
   ]
  },
  {
   "cell_type": "code",
   "execution_count": 644,
   "id": "4c85bde2",
   "metadata": {},
   "outputs": [],
   "source": [
    "list_of_list = check(X)"
   ]
  },
  {
   "cell_type": "code",
   "execution_count": 645,
   "id": "da092879",
   "metadata": {},
   "outputs": [],
   "source": [
    "# Exclusion des lignes portant l'index indiqué dans \"list_of_list\".\n",
    "def supp_rows (df, liste):\n",
    "    pos = [val for sublist in list_of_list for val in sublist]\n",
    "    df = df.drop(pos, axis=0)\n",
    "    \n",
    "    return df\n",
    "    "
   ]
  },
  {
   "cell_type": "code",
   "execution_count": 646,
   "id": "7fbf5e01",
   "metadata": {},
   "outputs": [],
   "source": [
    "# Exclusion des lignes avec occurence=1.\n",
    "\n",
    "X = supp_rows(X, list_of_list)\n"
   ]
  },
  {
   "cell_type": "code",
   "execution_count": 647,
   "id": "7eb970d9",
   "metadata": {},
   "outputs": [],
   "source": [
    "# Reset de l'index\n",
    "\n",
    "X.reset_index(drop=True,inplace=True)"
   ]
  },
  {
   "cell_type": "code",
   "execution_count": 648,
   "id": "56706948",
   "metadata": {},
   "outputs": [
    {
     "data": {
      "text/plain": [
       "Latitude                            0.000000\n",
       "Longitude                           0.000000\n",
       "YearBuilt                           0.000000\n",
       "NumberofBuildings                   0.000000\n",
       "NumberofFloors                      0.000000\n",
       "PropertyGFAParking                  0.000000\n",
       "PropertyGFABuilding(s)              0.000000\n",
       "LargestPropertyUseTypeGFA           0.000000\n",
       "SecondLargestPropertyUseTypeGFA     0.000000\n",
       "ThirdLargestPropertyUseTypeGFA      0.000000\n",
       "ENERGYSTARScore                     0.000000\n",
       "SiteEUI(kBtu/sf)                    0.000000\n",
       "SourceEUI(kBtu/sf)                  0.000000\n",
       "SiteEnergyUse(kBtu)                 0.000000\n",
       "SteamUse(kBtu)                      0.000000\n",
       "Electricity(kBtu)                   0.000000\n",
       "NaturalGas(kBtu)                    0.000000\n",
       "TotalGHGEmissions                   0.000000\n",
       "GHGEmissionsIntensity               0.000000\n",
       "BuildingType                        0.000000\n",
       "PrimaryPropertyType                 0.000000\n",
       "Neighborhood                        0.000000\n",
       "LargestPropertyUseType              0.597907\n",
       "SecondLargestPropertyUseType       50.433483\n",
       "ThirdLargestPropertyUseType        82.600897\n",
       "dtype: float64"
      ]
     },
     "execution_count": 648,
     "metadata": {},
     "output_type": "execute_result"
    }
   ],
   "source": [
    "X.isnull().mean()*100"
   ]
  },
  {
   "cell_type": "code",
   "execution_count": 649,
   "id": "a357333c",
   "metadata": {},
   "outputs": [],
   "source": [
    "X.drop('ThirdLargestPropertyUseType', axis=1,inplace=True)"
   ]
  },
  {
   "cell_type": "markdown",
   "id": "15fbe893",
   "metadata": {},
   "source": [
    "## Modélisation, SVR et selectKBest"
   ]
  },
  {
   "cell_type": "markdown",
   "id": "ea268027",
   "metadata": {},
   "source": [
    "### Choix label"
   ]
  },
  {
   "cell_type": "markdown",
   "id": "2cb6f770",
   "metadata": {},
   "source": [
    "Quelle label faut il choisir pour obtenir des prédictions qui répondent à l'objectif fixé ?"
   ]
  },
  {
   "cell_type": "code",
   "execution_count": 650,
   "id": "673665bc",
   "metadata": {},
   "outputs": [],
   "source": [
    "label = 'GHGEmissionsIntensity'"
   ]
  },
  {
   "cell_type": "code",
   "execution_count": 651,
   "id": "0e1f2456",
   "metadata": {},
   "outputs": [],
   "source": [
    "y = X[label]"
   ]
  },
  {
   "cell_type": "code",
   "execution_count": 652,
   "id": "e27143c0",
   "metadata": {},
   "outputs": [],
   "source": [
    "X_wo_Y = X.drop(label, axis=1)"
   ]
  },
  {
   "cell_type": "markdown",
   "id": "ffbf5578",
   "metadata": {},
   "source": [
    "### Vérification valeurs manquantes label, dimensions"
   ]
  },
  {
   "cell_type": "code",
   "execution_count": 653,
   "id": "da11e273",
   "metadata": {},
   "outputs": [],
   "source": [
    "y_nan = y.loc[y.isnull() == True]"
   ]
  },
  {
   "cell_type": "code",
   "execution_count": 654,
   "id": "05d8f6a7",
   "metadata": {},
   "outputs": [
    {
     "data": {
      "text/plain": [
       "Int64Index([], dtype='int64')"
      ]
     },
     "execution_count": 654,
     "metadata": {},
     "output_type": "execute_result"
    }
   ],
   "source": [
    "y_nan.index"
   ]
  },
  {
   "cell_type": "code",
   "execution_count": 655,
   "id": "69a7cdbe",
   "metadata": {},
   "outputs": [
    {
     "name": "stdout",
     "output_type": "stream",
     "text": [
      "Dimensions sur X: (3345, 23)\n",
      "Dimensions sur y: (3345,)\n"
     ]
    }
   ],
   "source": [
    "print(\"Dimensions sur X: {}\".format(X_wo_Y.shape))\n",
    "print(\"Dimensions sur y: {}\".format(y.shape))"
   ]
  },
  {
   "cell_type": "markdown",
   "id": "aced24ef",
   "metadata": {},
   "source": [
    "### Définition des features"
   ]
  },
  {
   "cell_type": "code",
   "execution_count": 656,
   "id": "20940b07",
   "metadata": {},
   "outputs": [],
   "source": [
    "# Distinguer les formats \"Num\" et \"Cat\" pour X\n",
    "numerical_features = X_wo_Y.select_dtypes(include=['float64']).columns.tolist()\n",
    "categorical_features = X_wo_Y.select_dtypes(include=\"object\").columns.tolist()"
   ]
  },
  {
   "cell_type": "markdown",
   "id": "fb5035a1",
   "metadata": {},
   "source": [
    "### Construction des pipelines \"Num\" et \"Cat\""
   ]
  },
  {
   "cell_type": "code",
   "execution_count": 657,
   "id": "c2729989",
   "metadata": {},
   "outputs": [],
   "source": [
    "# Pipeline numérique features\n",
    "\n",
    "numerical_pipeline = make_pipeline(SimpleImputer(strategy='median'),\n",
    "                                   RobustScaler())\n"
   ]
  },
  {
   "cell_type": "code",
   "execution_count": 658,
   "id": "9d3639a7",
   "metadata": {},
   "outputs": [],
   "source": [
    "# Pipeline categorical features\n",
    "\n",
    "categorical_pipeline = make_pipeline(SimpleImputer(strategy='most_frequent'), \n",
    "                                     OneHotEncoder(categories='auto', \n",
    "                                                   handle_unknown='infrequent_if_exist',\n",
    "                                                   sparse_output=False))\n"
   ]
  },
  {
   "cell_type": "markdown",
   "id": "714cf5e0",
   "metadata": {},
   "source": [
    "### Définition des transformations"
   ]
  },
  {
   "cell_type": "code",
   "execution_count": 659,
   "id": "7ddd6755",
   "metadata": {},
   "outputs": [],
   "source": [
    "preprocessor = make_column_transformer((numerical_pipeline, numerical_features),\n",
    "                                         (categorical_pipeline, categorical_features))"
   ]
  },
  {
   "cell_type": "markdown",
   "id": "001599c5",
   "metadata": {},
   "source": [
    "### Transformations sur y"
   ]
  },
  {
   "cell_type": "code",
   "execution_count": 660,
   "id": "a9a5b25f",
   "metadata": {},
   "outputs": [
    {
     "name": "stdout",
     "output_type": "stream",
     "text": [
      "Dimensions sur y: (3345, 1)\n"
     ]
    }
   ],
   "source": [
    "robust_scaler = RobustScaler()\n",
    "y_reshaped = y.values.reshape(-1,1)\n",
    "y_scaled_T = robust_scaler.fit_transform(y_reshaped)\n",
    "print(\"Dimensions sur y: {}\".format(y_scaled_T.shape))"
   ]
  },
  {
   "cell_type": "markdown",
   "id": "1092110c",
   "metadata": {},
   "source": [
    "### Split dataset"
   ]
  },
  {
   "cell_type": "code",
   "execution_count": 661,
   "id": "ca437254",
   "metadata": {},
   "outputs": [],
   "source": [
    "X_train, X_test,y_train ,y_test = train_test_split(X_wo_Y, y_scaled_T, test_size=0.20, random_state=0)"
   ]
  },
  {
   "cell_type": "markdown",
   "id": "b644516d",
   "metadata": {},
   "source": [
    "### Construction de la pipeline transformations + selection features + estimateur"
   ]
  },
  {
   "cell_type": "code",
   "execution_count": 662,
   "id": "71b7fe2d",
   "metadata": {},
   "outputs": [],
   "source": [
    "selector = SelectKBest(f_regression,k=10)\n",
    "\n",
    "estimator = SVR(kernel='rbf')"
   ]
  },
  {
   "cell_type": "code",
   "execution_count": 663,
   "id": "aa1a202a",
   "metadata": {},
   "outputs": [],
   "source": [
    "pipe = make_pipeline(preprocessor, selector)"
   ]
  },
  {
   "cell_type": "code",
   "execution_count": 664,
   "id": "183d75b8",
   "metadata": {},
   "outputs": [],
   "source": [
    "model = make_pipeline(pipe, estimator)"
   ]
  },
  {
   "cell_type": "code",
   "execution_count": 665,
   "id": "ba5ac587",
   "metadata": {},
   "outputs": [
    {
     "name": "stderr",
     "output_type": "stream",
     "text": [
      "/Users/olivierdebeyssac/opt/anaconda3/lib/python3.9/site-packages/sklearn/utils/validation.py:1141: DataConversionWarning: A column-vector y was passed when a 1d array was expected. Please change the shape of y to (n_samples, ), for example using ravel().\n",
      "  y = column_or_1d(y, warn=True)\n",
      "/Users/olivierdebeyssac/opt/anaconda3/lib/python3.9/site-packages/sklearn/utils/validation.py:1141: DataConversionWarning: A column-vector y was passed when a 1d array was expected. Please change the shape of y to (n_samples, ), for example using ravel().\n",
      "  y = column_or_1d(y, warn=True)\n"
     ]
    },
    {
     "data": {
      "text/html": [
       "<style>#sk-container-id-46 {color: black;background-color: white;}#sk-container-id-46 pre{padding: 0;}#sk-container-id-46 div.sk-toggleable {background-color: white;}#sk-container-id-46 label.sk-toggleable__label {cursor: pointer;display: block;width: 100%;margin-bottom: 0;padding: 0.3em;box-sizing: border-box;text-align: center;}#sk-container-id-46 label.sk-toggleable__label-arrow:before {content: \"▸\";float: left;margin-right: 0.25em;color: #696969;}#sk-container-id-46 label.sk-toggleable__label-arrow:hover:before {color: black;}#sk-container-id-46 div.sk-estimator:hover label.sk-toggleable__label-arrow:before {color: black;}#sk-container-id-46 div.sk-toggleable__content {max-height: 0;max-width: 0;overflow: hidden;text-align: left;background-color: #f0f8ff;}#sk-container-id-46 div.sk-toggleable__content pre {margin: 0.2em;color: black;border-radius: 0.25em;background-color: #f0f8ff;}#sk-container-id-46 input.sk-toggleable__control:checked~div.sk-toggleable__content {max-height: 200px;max-width: 100%;overflow: auto;}#sk-container-id-46 input.sk-toggleable__control:checked~label.sk-toggleable__label-arrow:before {content: \"▾\";}#sk-container-id-46 div.sk-estimator input.sk-toggleable__control:checked~label.sk-toggleable__label {background-color: #d4ebff;}#sk-container-id-46 div.sk-label input.sk-toggleable__control:checked~label.sk-toggleable__label {background-color: #d4ebff;}#sk-container-id-46 input.sk-hidden--visually {border: 0;clip: rect(1px 1px 1px 1px);clip: rect(1px, 1px, 1px, 1px);height: 1px;margin: -1px;overflow: hidden;padding: 0;position: absolute;width: 1px;}#sk-container-id-46 div.sk-estimator {font-family: monospace;background-color: #f0f8ff;border: 1px dotted black;border-radius: 0.25em;box-sizing: border-box;margin-bottom: 0.5em;}#sk-container-id-46 div.sk-estimator:hover {background-color: #d4ebff;}#sk-container-id-46 div.sk-parallel-item::after {content: \"\";width: 100%;border-bottom: 1px solid gray;flex-grow: 1;}#sk-container-id-46 div.sk-label:hover label.sk-toggleable__label {background-color: #d4ebff;}#sk-container-id-46 div.sk-serial::before {content: \"\";position: absolute;border-left: 1px solid gray;box-sizing: border-box;top: 0;bottom: 0;left: 50%;z-index: 0;}#sk-container-id-46 div.sk-serial {display: flex;flex-direction: column;align-items: center;background-color: white;padding-right: 0.2em;padding-left: 0.2em;position: relative;}#sk-container-id-46 div.sk-item {position: relative;z-index: 1;}#sk-container-id-46 div.sk-parallel {display: flex;align-items: stretch;justify-content: center;background-color: white;position: relative;}#sk-container-id-46 div.sk-item::before, #sk-container-id-46 div.sk-parallel-item::before {content: \"\";position: absolute;border-left: 1px solid gray;box-sizing: border-box;top: 0;bottom: 0;left: 50%;z-index: -1;}#sk-container-id-46 div.sk-parallel-item {display: flex;flex-direction: column;z-index: 1;position: relative;background-color: white;}#sk-container-id-46 div.sk-parallel-item:first-child::after {align-self: flex-end;width: 50%;}#sk-container-id-46 div.sk-parallel-item:last-child::after {align-self: flex-start;width: 50%;}#sk-container-id-46 div.sk-parallel-item:only-child::after {width: 0;}#sk-container-id-46 div.sk-dashed-wrapped {border: 1px dashed gray;margin: 0 0.4em 0.5em 0.4em;box-sizing: border-box;padding-bottom: 0.4em;background-color: white;}#sk-container-id-46 div.sk-label label {font-family: monospace;font-weight: bold;display: inline-block;line-height: 1.2em;}#sk-container-id-46 div.sk-label-container {text-align: center;}#sk-container-id-46 div.sk-container {/* jupyter's `normalize.less` sets `[hidden] { display: none; }` but bootstrap.min.css set `[hidden] { display: none !important; }` so we also need the `!important` here to be able to override the default hidden behavior on the sphinx rendered scikit-learn.org. See: https://github.com/scikit-learn/scikit-learn/issues/21755 */display: inline-block !important;position: relative;}#sk-container-id-46 div.sk-text-repr-fallback {display: none;}</style><div id=\"sk-container-id-46\" class=\"sk-top-container\"><div class=\"sk-text-repr-fallback\"><pre>Pipeline(steps=[(&#x27;pipeline&#x27;,\n",
       "                 Pipeline(steps=[(&#x27;columntransformer&#x27;,\n",
       "                                  ColumnTransformer(transformers=[(&#x27;pipeline-1&#x27;,\n",
       "                                                                   Pipeline(steps=[(&#x27;simpleimputer&#x27;,\n",
       "                                                                                    SimpleImputer(strategy=&#x27;median&#x27;)),\n",
       "                                                                                   (&#x27;robustscaler&#x27;,\n",
       "                                                                                    RobustScaler())]),\n",
       "                                                                   [&#x27;Latitude&#x27;,\n",
       "                                                                    &#x27;Longitude&#x27;,\n",
       "                                                                    &#x27;NumberofBuildings&#x27;,\n",
       "                                                                    &#x27;LargestPropertyUseTypeGFA&#x27;,\n",
       "                                                                    &#x27;SecondLargestPropertyUseTypeGFA&#x27;,\n",
       "                                                                    &#x27;ThirdLargestPropertyUseTypeGFA&#x27;...\n",
       "                                                                   Pipeline(steps=[(&#x27;simpleimputer&#x27;,\n",
       "                                                                                    SimpleImputer(strategy=&#x27;most_frequent&#x27;)),\n",
       "                                                                                   (&#x27;onehotencoder&#x27;,\n",
       "                                                                                    OneHotEncoder(handle_unknown=&#x27;infrequent_if_exist&#x27;,\n",
       "                                                                                                  sparse_output=False))]),\n",
       "                                                                   [&#x27;BuildingType&#x27;,\n",
       "                                                                    &#x27;PrimaryPropertyType&#x27;,\n",
       "                                                                    &#x27;Neighborhood&#x27;,\n",
       "                                                                    &#x27;LargestPropertyUseType&#x27;,\n",
       "                                                                    &#x27;SecondLargestPropertyUseType&#x27;])])),\n",
       "                                 (&#x27;selectkbest&#x27;,\n",
       "                                  SelectKBest(score_func=&lt;function f_regression at 0x7f9e241cd0d0&gt;))])),\n",
       "                (&#x27;svr&#x27;, SVR())])</pre><b>In a Jupyter environment, please rerun this cell to show the HTML representation or trust the notebook. <br />On GitHub, the HTML representation is unable to render, please try loading this page with nbviewer.org.</b></div><div class=\"sk-container\" hidden><div class=\"sk-item sk-dashed-wrapped\"><div class=\"sk-label-container\"><div class=\"sk-label sk-toggleable\"><input class=\"sk-toggleable__control sk-hidden--visually\" id=\"sk-estimator-id-437\" type=\"checkbox\" ><label for=\"sk-estimator-id-437\" class=\"sk-toggleable__label sk-toggleable__label-arrow\">Pipeline</label><div class=\"sk-toggleable__content\"><pre>Pipeline(steps=[(&#x27;pipeline&#x27;,\n",
       "                 Pipeline(steps=[(&#x27;columntransformer&#x27;,\n",
       "                                  ColumnTransformer(transformers=[(&#x27;pipeline-1&#x27;,\n",
       "                                                                   Pipeline(steps=[(&#x27;simpleimputer&#x27;,\n",
       "                                                                                    SimpleImputer(strategy=&#x27;median&#x27;)),\n",
       "                                                                                   (&#x27;robustscaler&#x27;,\n",
       "                                                                                    RobustScaler())]),\n",
       "                                                                   [&#x27;Latitude&#x27;,\n",
       "                                                                    &#x27;Longitude&#x27;,\n",
       "                                                                    &#x27;NumberofBuildings&#x27;,\n",
       "                                                                    &#x27;LargestPropertyUseTypeGFA&#x27;,\n",
       "                                                                    &#x27;SecondLargestPropertyUseTypeGFA&#x27;,\n",
       "                                                                    &#x27;ThirdLargestPropertyUseTypeGFA&#x27;...\n",
       "                                                                   Pipeline(steps=[(&#x27;simpleimputer&#x27;,\n",
       "                                                                                    SimpleImputer(strategy=&#x27;most_frequent&#x27;)),\n",
       "                                                                                   (&#x27;onehotencoder&#x27;,\n",
       "                                                                                    OneHotEncoder(handle_unknown=&#x27;infrequent_if_exist&#x27;,\n",
       "                                                                                                  sparse_output=False))]),\n",
       "                                                                   [&#x27;BuildingType&#x27;,\n",
       "                                                                    &#x27;PrimaryPropertyType&#x27;,\n",
       "                                                                    &#x27;Neighborhood&#x27;,\n",
       "                                                                    &#x27;LargestPropertyUseType&#x27;,\n",
       "                                                                    &#x27;SecondLargestPropertyUseType&#x27;])])),\n",
       "                                 (&#x27;selectkbest&#x27;,\n",
       "                                  SelectKBest(score_func=&lt;function f_regression at 0x7f9e241cd0d0&gt;))])),\n",
       "                (&#x27;svr&#x27;, SVR())])</pre></div></div></div><div class=\"sk-serial\"><div class=\"sk-item\"><div class=\"sk-label-container\"><div class=\"sk-label sk-toggleable\"><input class=\"sk-toggleable__control sk-hidden--visually\" id=\"sk-estimator-id-438\" type=\"checkbox\" ><label for=\"sk-estimator-id-438\" class=\"sk-toggleable__label sk-toggleable__label-arrow\">pipeline: Pipeline</label><div class=\"sk-toggleable__content\"><pre>Pipeline(steps=[(&#x27;columntransformer&#x27;,\n",
       "                 ColumnTransformer(transformers=[(&#x27;pipeline-1&#x27;,\n",
       "                                                  Pipeline(steps=[(&#x27;simpleimputer&#x27;,\n",
       "                                                                   SimpleImputer(strategy=&#x27;median&#x27;)),\n",
       "                                                                  (&#x27;robustscaler&#x27;,\n",
       "                                                                   RobustScaler())]),\n",
       "                                                  [&#x27;Latitude&#x27;, &#x27;Longitude&#x27;,\n",
       "                                                   &#x27;NumberofBuildings&#x27;,\n",
       "                                                   &#x27;LargestPropertyUseTypeGFA&#x27;,\n",
       "                                                   &#x27;SecondLargestPropertyUseTypeGFA&#x27;,\n",
       "                                                   &#x27;ThirdLargestPropertyUseTypeGFA&#x27;,\n",
       "                                                   &#x27;ENERGYSTARScore&#x27;,\n",
       "                                                   &#x27;SiteEUI(...\n",
       "                                                  Pipeline(steps=[(&#x27;simpleimputer&#x27;,\n",
       "                                                                   SimpleImputer(strategy=&#x27;most_frequent&#x27;)),\n",
       "                                                                  (&#x27;onehotencoder&#x27;,\n",
       "                                                                   OneHotEncoder(handle_unknown=&#x27;infrequent_if_exist&#x27;,\n",
       "                                                                                 sparse_output=False))]),\n",
       "                                                  [&#x27;BuildingType&#x27;,\n",
       "                                                   &#x27;PrimaryPropertyType&#x27;,\n",
       "                                                   &#x27;Neighborhood&#x27;,\n",
       "                                                   &#x27;LargestPropertyUseType&#x27;,\n",
       "                                                   &#x27;SecondLargestPropertyUseType&#x27;])])),\n",
       "                (&#x27;selectkbest&#x27;,\n",
       "                 SelectKBest(score_func=&lt;function f_regression at 0x7f9e241cd0d0&gt;))])</pre></div></div></div><div class=\"sk-serial\"><div class=\"sk-item sk-dashed-wrapped\"><div class=\"sk-label-container\"><div class=\"sk-label sk-toggleable\"><input class=\"sk-toggleable__control sk-hidden--visually\" id=\"sk-estimator-id-439\" type=\"checkbox\" ><label for=\"sk-estimator-id-439\" class=\"sk-toggleable__label sk-toggleable__label-arrow\">columntransformer: ColumnTransformer</label><div class=\"sk-toggleable__content\"><pre>ColumnTransformer(transformers=[(&#x27;pipeline-1&#x27;,\n",
       "                                 Pipeline(steps=[(&#x27;simpleimputer&#x27;,\n",
       "                                                  SimpleImputer(strategy=&#x27;median&#x27;)),\n",
       "                                                 (&#x27;robustscaler&#x27;,\n",
       "                                                  RobustScaler())]),\n",
       "                                 [&#x27;Latitude&#x27;, &#x27;Longitude&#x27;, &#x27;NumberofBuildings&#x27;,\n",
       "                                  &#x27;LargestPropertyUseTypeGFA&#x27;,\n",
       "                                  &#x27;SecondLargestPropertyUseTypeGFA&#x27;,\n",
       "                                  &#x27;ThirdLargestPropertyUseTypeGFA&#x27;,\n",
       "                                  &#x27;ENERGYSTARScore&#x27;, &#x27;SiteEUI(kBtu/sf)&#x27;,\n",
       "                                  &#x27;SourceEUI(kBtu/sf)&#x27;, &#x27;SiteE...\n",
       "                                  &#x27;SteamUse(kBtu)&#x27;, &#x27;Electricity(kBtu)&#x27;,\n",
       "                                  &#x27;NaturalGas(kBtu)&#x27;, &#x27;TotalGHGEmissions&#x27;]),\n",
       "                                (&#x27;pipeline-2&#x27;,\n",
       "                                 Pipeline(steps=[(&#x27;simpleimputer&#x27;,\n",
       "                                                  SimpleImputer(strategy=&#x27;most_frequent&#x27;)),\n",
       "                                                 (&#x27;onehotencoder&#x27;,\n",
       "                                                  OneHotEncoder(handle_unknown=&#x27;infrequent_if_exist&#x27;,\n",
       "                                                                sparse_output=False))]),\n",
       "                                 [&#x27;BuildingType&#x27;, &#x27;PrimaryPropertyType&#x27;,\n",
       "                                  &#x27;Neighborhood&#x27;, &#x27;LargestPropertyUseType&#x27;,\n",
       "                                  &#x27;SecondLargestPropertyUseType&#x27;])])</pre></div></div></div><div class=\"sk-parallel\"><div class=\"sk-parallel-item\"><div class=\"sk-item\"><div class=\"sk-label-container\"><div class=\"sk-label sk-toggleable\"><input class=\"sk-toggleable__control sk-hidden--visually\" id=\"sk-estimator-id-440\" type=\"checkbox\" ><label for=\"sk-estimator-id-440\" class=\"sk-toggleable__label sk-toggleable__label-arrow\">pipeline-1</label><div class=\"sk-toggleable__content\"><pre>[&#x27;Latitude&#x27;, &#x27;Longitude&#x27;, &#x27;NumberofBuildings&#x27;, &#x27;LargestPropertyUseTypeGFA&#x27;, &#x27;SecondLargestPropertyUseTypeGFA&#x27;, &#x27;ThirdLargestPropertyUseTypeGFA&#x27;, &#x27;ENERGYSTARScore&#x27;, &#x27;SiteEUI(kBtu/sf)&#x27;, &#x27;SourceEUI(kBtu/sf)&#x27;, &#x27;SiteEnergyUse(kBtu)&#x27;, &#x27;SteamUse(kBtu)&#x27;, &#x27;Electricity(kBtu)&#x27;, &#x27;NaturalGas(kBtu)&#x27;, &#x27;TotalGHGEmissions&#x27;]</pre></div></div></div><div class=\"sk-serial\"><div class=\"sk-item\"><div class=\"sk-serial\"><div class=\"sk-item\"><div class=\"sk-estimator sk-toggleable\"><input class=\"sk-toggleable__control sk-hidden--visually\" id=\"sk-estimator-id-441\" type=\"checkbox\" ><label for=\"sk-estimator-id-441\" class=\"sk-toggleable__label sk-toggleable__label-arrow\">SimpleImputer</label><div class=\"sk-toggleable__content\"><pre>SimpleImputer(strategy=&#x27;median&#x27;)</pre></div></div></div><div class=\"sk-item\"><div class=\"sk-estimator sk-toggleable\"><input class=\"sk-toggleable__control sk-hidden--visually\" id=\"sk-estimator-id-442\" type=\"checkbox\" ><label for=\"sk-estimator-id-442\" class=\"sk-toggleable__label sk-toggleable__label-arrow\">RobustScaler</label><div class=\"sk-toggleable__content\"><pre>RobustScaler()</pre></div></div></div></div></div></div></div></div><div class=\"sk-parallel-item\"><div class=\"sk-item\"><div class=\"sk-label-container\"><div class=\"sk-label sk-toggleable\"><input class=\"sk-toggleable__control sk-hidden--visually\" id=\"sk-estimator-id-443\" type=\"checkbox\" ><label for=\"sk-estimator-id-443\" class=\"sk-toggleable__label sk-toggleable__label-arrow\">pipeline-2</label><div class=\"sk-toggleable__content\"><pre>[&#x27;BuildingType&#x27;, &#x27;PrimaryPropertyType&#x27;, &#x27;Neighborhood&#x27;, &#x27;LargestPropertyUseType&#x27;, &#x27;SecondLargestPropertyUseType&#x27;]</pre></div></div></div><div class=\"sk-serial\"><div class=\"sk-item\"><div class=\"sk-serial\"><div class=\"sk-item\"><div class=\"sk-estimator sk-toggleable\"><input class=\"sk-toggleable__control sk-hidden--visually\" id=\"sk-estimator-id-444\" type=\"checkbox\" ><label for=\"sk-estimator-id-444\" class=\"sk-toggleable__label sk-toggleable__label-arrow\">SimpleImputer</label><div class=\"sk-toggleable__content\"><pre>SimpleImputer(strategy=&#x27;most_frequent&#x27;)</pre></div></div></div><div class=\"sk-item\"><div class=\"sk-estimator sk-toggleable\"><input class=\"sk-toggleable__control sk-hidden--visually\" id=\"sk-estimator-id-445\" type=\"checkbox\" ><label for=\"sk-estimator-id-445\" class=\"sk-toggleable__label sk-toggleable__label-arrow\">OneHotEncoder</label><div class=\"sk-toggleable__content\"><pre>OneHotEncoder(handle_unknown=&#x27;infrequent_if_exist&#x27;, sparse_output=False)</pre></div></div></div></div></div></div></div></div></div></div><div class=\"sk-item\"><div class=\"sk-estimator sk-toggleable\"><input class=\"sk-toggleable__control sk-hidden--visually\" id=\"sk-estimator-id-446\" type=\"checkbox\" ><label for=\"sk-estimator-id-446\" class=\"sk-toggleable__label sk-toggleable__label-arrow\">SelectKBest</label><div class=\"sk-toggleable__content\"><pre>SelectKBest(score_func=&lt;function f_regression at 0x7f9e241cd0d0&gt;)</pre></div></div></div></div></div><div class=\"sk-item\"><div class=\"sk-estimator sk-toggleable\"><input class=\"sk-toggleable__control sk-hidden--visually\" id=\"sk-estimator-id-447\" type=\"checkbox\" ><label for=\"sk-estimator-id-447\" class=\"sk-toggleable__label sk-toggleable__label-arrow\">SVR</label><div class=\"sk-toggleable__content\"><pre>SVR()</pre></div></div></div></div></div></div></div>"
      ],
      "text/plain": [
       "Pipeline(steps=[('pipeline',\n",
       "                 Pipeline(steps=[('columntransformer',\n",
       "                                  ColumnTransformer(transformers=[('pipeline-1',\n",
       "                                                                   Pipeline(steps=[('simpleimputer',\n",
       "                                                                                    SimpleImputer(strategy='median')),\n",
       "                                                                                   ('robustscaler',\n",
       "                                                                                    RobustScaler())]),\n",
       "                                                                   ['Latitude',\n",
       "                                                                    'Longitude',\n",
       "                                                                    'NumberofBuildings',\n",
       "                                                                    'LargestPropertyUseTypeGFA',\n",
       "                                                                    'SecondLargestPropertyUseTypeGFA',\n",
       "                                                                    'ThirdLargestPropertyUseTypeGFA'...\n",
       "                                                                   Pipeline(steps=[('simpleimputer',\n",
       "                                                                                    SimpleImputer(strategy='most_frequent')),\n",
       "                                                                                   ('onehotencoder',\n",
       "                                                                                    OneHotEncoder(handle_unknown='infrequent_if_exist',\n",
       "                                                                                                  sparse_output=False))]),\n",
       "                                                                   ['BuildingType',\n",
       "                                                                    'PrimaryPropertyType',\n",
       "                                                                    'Neighborhood',\n",
       "                                                                    'LargestPropertyUseType',\n",
       "                                                                    'SecondLargestPropertyUseType'])])),\n",
       "                                 ('selectkbest',\n",
       "                                  SelectKBest(score_func=<function f_regression at 0x7f9e241cd0d0>))])),\n",
       "                ('svr', SVR())])"
      ]
     },
     "execution_count": 665,
     "metadata": {},
     "output_type": "execute_result"
    }
   ],
   "source": [
    "model.fit(X_train, y_train)"
   ]
  },
  {
   "cell_type": "markdown",
   "id": "7c790cee",
   "metadata": {},
   "source": [
    "### Score"
   ]
  },
  {
   "cell_type": "code",
   "execution_count": 666,
   "id": "15f75dc1",
   "metadata": {},
   "outputs": [
    {
     "data": {
      "text/plain": [
       "0.5776175063945691"
      ]
     },
     "execution_count": 666,
     "metadata": {},
     "output_type": "execute_result"
    }
   ],
   "source": [
    "model.score(X_test, y_test)"
   ]
  },
  {
   "cell_type": "code",
   "execution_count": 667,
   "id": "b652bf4e",
   "metadata": {},
   "outputs": [
    {
     "data": {
      "text/plain": [
       "array(['pipeline-1__SiteEUI(kBtu/sf)', 'pipeline-1__SourceEUI(kBtu/sf)',\n",
       "       'pipeline-1__SiteEnergyUse(kBtu)', 'pipeline-1__NaturalGas(kBtu)',\n",
       "       'pipeline-1__TotalGHGEmissions',\n",
       "       'pipeline-2__PrimaryPropertyType_Laboratory',\n",
       "       'pipeline-2__PrimaryPropertyType_Supermarket / Grocery Store',\n",
       "       'pipeline-2__LargestPropertyUseType_Multifamily Housing',\n",
       "       'pipeline-2__LargestPropertyUseType_Restaurant',\n",
       "       'pipeline-2__LargestPropertyUseType_Supermarket/Grocery Store'],\n",
       "      dtype=object)"
      ]
     },
     "execution_count": 667,
     "metadata": {},
     "output_type": "execute_result"
    }
   ],
   "source": [
    "pipe.get_feature_names_out(input_features=X_wo_Y.columns)"
   ]
  },
  {
   "cell_type": "markdown",
   "id": "6bc36c10",
   "metadata": {},
   "source": [
    "On voit que Support Vector regressor avec les features sélectionnées par KBest n'est pas performant. On va se tourner vers une méthode de Bagging avec Random Forest."
   ]
  },
  {
   "cell_type": "markdown",
   "id": "b3be23e9",
   "metadata": {},
   "source": [
    "## Modélisation, Random Forest."
   ]
  },
  {
   "cell_type": "markdown",
   "id": "c51ea7c3",
   "metadata": {},
   "source": [
    "### Instanciation modèle"
   ]
  },
  {
   "cell_type": "code",
   "execution_count": 668,
   "id": "a14ba6c5",
   "metadata": {},
   "outputs": [],
   "source": [
    "rf = RandomForestRegressor(n_estimators=1000, random_state=0)"
   ]
  },
  {
   "cell_type": "code",
   "execution_count": 669,
   "id": "f101cb1e",
   "metadata": {},
   "outputs": [],
   "source": [
    "pipe_rf = make_pipeline(preprocessor, rf)"
   ]
  },
  {
   "cell_type": "markdown",
   "id": "8b1eeb5a",
   "metadata": {},
   "source": [
    "### Entrainement du modèle."
   ]
  },
  {
   "cell_type": "code",
   "execution_count": 670,
   "id": "1d76b04f",
   "metadata": {},
   "outputs": [
    {
     "data": {
      "text/html": [
       "<style>#sk-container-id-47 {color: black;background-color: white;}#sk-container-id-47 pre{padding: 0;}#sk-container-id-47 div.sk-toggleable {background-color: white;}#sk-container-id-47 label.sk-toggleable__label {cursor: pointer;display: block;width: 100%;margin-bottom: 0;padding: 0.3em;box-sizing: border-box;text-align: center;}#sk-container-id-47 label.sk-toggleable__label-arrow:before {content: \"▸\";float: left;margin-right: 0.25em;color: #696969;}#sk-container-id-47 label.sk-toggleable__label-arrow:hover:before {color: black;}#sk-container-id-47 div.sk-estimator:hover label.sk-toggleable__label-arrow:before {color: black;}#sk-container-id-47 div.sk-toggleable__content {max-height: 0;max-width: 0;overflow: hidden;text-align: left;background-color: #f0f8ff;}#sk-container-id-47 div.sk-toggleable__content pre {margin: 0.2em;color: black;border-radius: 0.25em;background-color: #f0f8ff;}#sk-container-id-47 input.sk-toggleable__control:checked~div.sk-toggleable__content {max-height: 200px;max-width: 100%;overflow: auto;}#sk-container-id-47 input.sk-toggleable__control:checked~label.sk-toggleable__label-arrow:before {content: \"▾\";}#sk-container-id-47 div.sk-estimator input.sk-toggleable__control:checked~label.sk-toggleable__label {background-color: #d4ebff;}#sk-container-id-47 div.sk-label input.sk-toggleable__control:checked~label.sk-toggleable__label {background-color: #d4ebff;}#sk-container-id-47 input.sk-hidden--visually {border: 0;clip: rect(1px 1px 1px 1px);clip: rect(1px, 1px, 1px, 1px);height: 1px;margin: -1px;overflow: hidden;padding: 0;position: absolute;width: 1px;}#sk-container-id-47 div.sk-estimator {font-family: monospace;background-color: #f0f8ff;border: 1px dotted black;border-radius: 0.25em;box-sizing: border-box;margin-bottom: 0.5em;}#sk-container-id-47 div.sk-estimator:hover {background-color: #d4ebff;}#sk-container-id-47 div.sk-parallel-item::after {content: \"\";width: 100%;border-bottom: 1px solid gray;flex-grow: 1;}#sk-container-id-47 div.sk-label:hover label.sk-toggleable__label {background-color: #d4ebff;}#sk-container-id-47 div.sk-serial::before {content: \"\";position: absolute;border-left: 1px solid gray;box-sizing: border-box;top: 0;bottom: 0;left: 50%;z-index: 0;}#sk-container-id-47 div.sk-serial {display: flex;flex-direction: column;align-items: center;background-color: white;padding-right: 0.2em;padding-left: 0.2em;position: relative;}#sk-container-id-47 div.sk-item {position: relative;z-index: 1;}#sk-container-id-47 div.sk-parallel {display: flex;align-items: stretch;justify-content: center;background-color: white;position: relative;}#sk-container-id-47 div.sk-item::before, #sk-container-id-47 div.sk-parallel-item::before {content: \"\";position: absolute;border-left: 1px solid gray;box-sizing: border-box;top: 0;bottom: 0;left: 50%;z-index: -1;}#sk-container-id-47 div.sk-parallel-item {display: flex;flex-direction: column;z-index: 1;position: relative;background-color: white;}#sk-container-id-47 div.sk-parallel-item:first-child::after {align-self: flex-end;width: 50%;}#sk-container-id-47 div.sk-parallel-item:last-child::after {align-self: flex-start;width: 50%;}#sk-container-id-47 div.sk-parallel-item:only-child::after {width: 0;}#sk-container-id-47 div.sk-dashed-wrapped {border: 1px dashed gray;margin: 0 0.4em 0.5em 0.4em;box-sizing: border-box;padding-bottom: 0.4em;background-color: white;}#sk-container-id-47 div.sk-label label {font-family: monospace;font-weight: bold;display: inline-block;line-height: 1.2em;}#sk-container-id-47 div.sk-label-container {text-align: center;}#sk-container-id-47 div.sk-container {/* jupyter's `normalize.less` sets `[hidden] { display: none; }` but bootstrap.min.css set `[hidden] { display: none !important; }` so we also need the `!important` here to be able to override the default hidden behavior on the sphinx rendered scikit-learn.org. See: https://github.com/scikit-learn/scikit-learn/issues/21755 */display: inline-block !important;position: relative;}#sk-container-id-47 div.sk-text-repr-fallback {display: none;}</style><div id=\"sk-container-id-47\" class=\"sk-top-container\"><div class=\"sk-text-repr-fallback\"><pre>Pipeline(steps=[(&#x27;columntransformer&#x27;,\n",
       "                 ColumnTransformer(transformers=[(&#x27;pipeline-1&#x27;,\n",
       "                                                  Pipeline(steps=[(&#x27;simpleimputer&#x27;,\n",
       "                                                                   SimpleImputer(strategy=&#x27;median&#x27;)),\n",
       "                                                                  (&#x27;robustscaler&#x27;,\n",
       "                                                                   RobustScaler())]),\n",
       "                                                  [&#x27;Latitude&#x27;, &#x27;Longitude&#x27;,\n",
       "                                                   &#x27;NumberofBuildings&#x27;,\n",
       "                                                   &#x27;LargestPropertyUseTypeGFA&#x27;,\n",
       "                                                   &#x27;SecondLargestPropertyUseTypeGFA&#x27;,\n",
       "                                                   &#x27;ThirdLargestPropertyUseTypeGFA&#x27;,\n",
       "                                                   &#x27;ENERGYSTARScore&#x27;,\n",
       "                                                   &#x27;SiteEUI(...\n",
       "                                                  Pipeline(steps=[(&#x27;simpleimputer&#x27;,\n",
       "                                                                   SimpleImputer(strategy=&#x27;most_frequent&#x27;)),\n",
       "                                                                  (&#x27;onehotencoder&#x27;,\n",
       "                                                                   OneHotEncoder(handle_unknown=&#x27;infrequent_if_exist&#x27;,\n",
       "                                                                                 sparse_output=False))]),\n",
       "                                                  [&#x27;BuildingType&#x27;,\n",
       "                                                   &#x27;PrimaryPropertyType&#x27;,\n",
       "                                                   &#x27;Neighborhood&#x27;,\n",
       "                                                   &#x27;LargestPropertyUseType&#x27;,\n",
       "                                                   &#x27;SecondLargestPropertyUseType&#x27;])])),\n",
       "                (&#x27;randomforestregressor&#x27;,\n",
       "                 RandomForestRegressor(n_estimators=1000, random_state=0))])</pre><b>In a Jupyter environment, please rerun this cell to show the HTML representation or trust the notebook. <br />On GitHub, the HTML representation is unable to render, please try loading this page with nbviewer.org.</b></div><div class=\"sk-container\" hidden><div class=\"sk-item sk-dashed-wrapped\"><div class=\"sk-label-container\"><div class=\"sk-label sk-toggleable\"><input class=\"sk-toggleable__control sk-hidden--visually\" id=\"sk-estimator-id-448\" type=\"checkbox\" ><label for=\"sk-estimator-id-448\" class=\"sk-toggleable__label sk-toggleable__label-arrow\">Pipeline</label><div class=\"sk-toggleable__content\"><pre>Pipeline(steps=[(&#x27;columntransformer&#x27;,\n",
       "                 ColumnTransformer(transformers=[(&#x27;pipeline-1&#x27;,\n",
       "                                                  Pipeline(steps=[(&#x27;simpleimputer&#x27;,\n",
       "                                                                   SimpleImputer(strategy=&#x27;median&#x27;)),\n",
       "                                                                  (&#x27;robustscaler&#x27;,\n",
       "                                                                   RobustScaler())]),\n",
       "                                                  [&#x27;Latitude&#x27;, &#x27;Longitude&#x27;,\n",
       "                                                   &#x27;NumberofBuildings&#x27;,\n",
       "                                                   &#x27;LargestPropertyUseTypeGFA&#x27;,\n",
       "                                                   &#x27;SecondLargestPropertyUseTypeGFA&#x27;,\n",
       "                                                   &#x27;ThirdLargestPropertyUseTypeGFA&#x27;,\n",
       "                                                   &#x27;ENERGYSTARScore&#x27;,\n",
       "                                                   &#x27;SiteEUI(...\n",
       "                                                  Pipeline(steps=[(&#x27;simpleimputer&#x27;,\n",
       "                                                                   SimpleImputer(strategy=&#x27;most_frequent&#x27;)),\n",
       "                                                                  (&#x27;onehotencoder&#x27;,\n",
       "                                                                   OneHotEncoder(handle_unknown=&#x27;infrequent_if_exist&#x27;,\n",
       "                                                                                 sparse_output=False))]),\n",
       "                                                  [&#x27;BuildingType&#x27;,\n",
       "                                                   &#x27;PrimaryPropertyType&#x27;,\n",
       "                                                   &#x27;Neighborhood&#x27;,\n",
       "                                                   &#x27;LargestPropertyUseType&#x27;,\n",
       "                                                   &#x27;SecondLargestPropertyUseType&#x27;])])),\n",
       "                (&#x27;randomforestregressor&#x27;,\n",
       "                 RandomForestRegressor(n_estimators=1000, random_state=0))])</pre></div></div></div><div class=\"sk-serial\"><div class=\"sk-item sk-dashed-wrapped\"><div class=\"sk-label-container\"><div class=\"sk-label sk-toggleable\"><input class=\"sk-toggleable__control sk-hidden--visually\" id=\"sk-estimator-id-449\" type=\"checkbox\" ><label for=\"sk-estimator-id-449\" class=\"sk-toggleable__label sk-toggleable__label-arrow\">columntransformer: ColumnTransformer</label><div class=\"sk-toggleable__content\"><pre>ColumnTransformer(transformers=[(&#x27;pipeline-1&#x27;,\n",
       "                                 Pipeline(steps=[(&#x27;simpleimputer&#x27;,\n",
       "                                                  SimpleImputer(strategy=&#x27;median&#x27;)),\n",
       "                                                 (&#x27;robustscaler&#x27;,\n",
       "                                                  RobustScaler())]),\n",
       "                                 [&#x27;Latitude&#x27;, &#x27;Longitude&#x27;, &#x27;NumberofBuildings&#x27;,\n",
       "                                  &#x27;LargestPropertyUseTypeGFA&#x27;,\n",
       "                                  &#x27;SecondLargestPropertyUseTypeGFA&#x27;,\n",
       "                                  &#x27;ThirdLargestPropertyUseTypeGFA&#x27;,\n",
       "                                  &#x27;ENERGYSTARScore&#x27;, &#x27;SiteEUI(kBtu/sf)&#x27;,\n",
       "                                  &#x27;SourceEUI(kBtu/sf)&#x27;, &#x27;SiteE...\n",
       "                                  &#x27;SteamUse(kBtu)&#x27;, &#x27;Electricity(kBtu)&#x27;,\n",
       "                                  &#x27;NaturalGas(kBtu)&#x27;, &#x27;TotalGHGEmissions&#x27;]),\n",
       "                                (&#x27;pipeline-2&#x27;,\n",
       "                                 Pipeline(steps=[(&#x27;simpleimputer&#x27;,\n",
       "                                                  SimpleImputer(strategy=&#x27;most_frequent&#x27;)),\n",
       "                                                 (&#x27;onehotencoder&#x27;,\n",
       "                                                  OneHotEncoder(handle_unknown=&#x27;infrequent_if_exist&#x27;,\n",
       "                                                                sparse_output=False))]),\n",
       "                                 [&#x27;BuildingType&#x27;, &#x27;PrimaryPropertyType&#x27;,\n",
       "                                  &#x27;Neighborhood&#x27;, &#x27;LargestPropertyUseType&#x27;,\n",
       "                                  &#x27;SecondLargestPropertyUseType&#x27;])])</pre></div></div></div><div class=\"sk-parallel\"><div class=\"sk-parallel-item\"><div class=\"sk-item\"><div class=\"sk-label-container\"><div class=\"sk-label sk-toggleable\"><input class=\"sk-toggleable__control sk-hidden--visually\" id=\"sk-estimator-id-450\" type=\"checkbox\" ><label for=\"sk-estimator-id-450\" class=\"sk-toggleable__label sk-toggleable__label-arrow\">pipeline-1</label><div class=\"sk-toggleable__content\"><pre>[&#x27;Latitude&#x27;, &#x27;Longitude&#x27;, &#x27;NumberofBuildings&#x27;, &#x27;LargestPropertyUseTypeGFA&#x27;, &#x27;SecondLargestPropertyUseTypeGFA&#x27;, &#x27;ThirdLargestPropertyUseTypeGFA&#x27;, &#x27;ENERGYSTARScore&#x27;, &#x27;SiteEUI(kBtu/sf)&#x27;, &#x27;SourceEUI(kBtu/sf)&#x27;, &#x27;SiteEnergyUse(kBtu)&#x27;, &#x27;SteamUse(kBtu)&#x27;, &#x27;Electricity(kBtu)&#x27;, &#x27;NaturalGas(kBtu)&#x27;, &#x27;TotalGHGEmissions&#x27;]</pre></div></div></div><div class=\"sk-serial\"><div class=\"sk-item\"><div class=\"sk-serial\"><div class=\"sk-item\"><div class=\"sk-estimator sk-toggleable\"><input class=\"sk-toggleable__control sk-hidden--visually\" id=\"sk-estimator-id-451\" type=\"checkbox\" ><label for=\"sk-estimator-id-451\" class=\"sk-toggleable__label sk-toggleable__label-arrow\">SimpleImputer</label><div class=\"sk-toggleable__content\"><pre>SimpleImputer(strategy=&#x27;median&#x27;)</pre></div></div></div><div class=\"sk-item\"><div class=\"sk-estimator sk-toggleable\"><input class=\"sk-toggleable__control sk-hidden--visually\" id=\"sk-estimator-id-452\" type=\"checkbox\" ><label for=\"sk-estimator-id-452\" class=\"sk-toggleable__label sk-toggleable__label-arrow\">RobustScaler</label><div class=\"sk-toggleable__content\"><pre>RobustScaler()</pre></div></div></div></div></div></div></div></div><div class=\"sk-parallel-item\"><div class=\"sk-item\"><div class=\"sk-label-container\"><div class=\"sk-label sk-toggleable\"><input class=\"sk-toggleable__control sk-hidden--visually\" id=\"sk-estimator-id-453\" type=\"checkbox\" ><label for=\"sk-estimator-id-453\" class=\"sk-toggleable__label sk-toggleable__label-arrow\">pipeline-2</label><div class=\"sk-toggleable__content\"><pre>[&#x27;BuildingType&#x27;, &#x27;PrimaryPropertyType&#x27;, &#x27;Neighborhood&#x27;, &#x27;LargestPropertyUseType&#x27;, &#x27;SecondLargestPropertyUseType&#x27;]</pre></div></div></div><div class=\"sk-serial\"><div class=\"sk-item\"><div class=\"sk-serial\"><div class=\"sk-item\"><div class=\"sk-estimator sk-toggleable\"><input class=\"sk-toggleable__control sk-hidden--visually\" id=\"sk-estimator-id-454\" type=\"checkbox\" ><label for=\"sk-estimator-id-454\" class=\"sk-toggleable__label sk-toggleable__label-arrow\">SimpleImputer</label><div class=\"sk-toggleable__content\"><pre>SimpleImputer(strategy=&#x27;most_frequent&#x27;)</pre></div></div></div><div class=\"sk-item\"><div class=\"sk-estimator sk-toggleable\"><input class=\"sk-toggleable__control sk-hidden--visually\" id=\"sk-estimator-id-455\" type=\"checkbox\" ><label for=\"sk-estimator-id-455\" class=\"sk-toggleable__label sk-toggleable__label-arrow\">OneHotEncoder</label><div class=\"sk-toggleable__content\"><pre>OneHotEncoder(handle_unknown=&#x27;infrequent_if_exist&#x27;, sparse_output=False)</pre></div></div></div></div></div></div></div></div></div></div><div class=\"sk-item\"><div class=\"sk-estimator sk-toggleable\"><input class=\"sk-toggleable__control sk-hidden--visually\" id=\"sk-estimator-id-456\" type=\"checkbox\" ><label for=\"sk-estimator-id-456\" class=\"sk-toggleable__label sk-toggleable__label-arrow\">RandomForestRegressor</label><div class=\"sk-toggleable__content\"><pre>RandomForestRegressor(n_estimators=1000, random_state=0)</pre></div></div></div></div></div></div></div>"
      ],
      "text/plain": [
       "Pipeline(steps=[('columntransformer',\n",
       "                 ColumnTransformer(transformers=[('pipeline-1',\n",
       "                                                  Pipeline(steps=[('simpleimputer',\n",
       "                                                                   SimpleImputer(strategy='median')),\n",
       "                                                                  ('robustscaler',\n",
       "                                                                   RobustScaler())]),\n",
       "                                                  ['Latitude', 'Longitude',\n",
       "                                                   'NumberofBuildings',\n",
       "                                                   'LargestPropertyUseTypeGFA',\n",
       "                                                   'SecondLargestPropertyUseTypeGFA',\n",
       "                                                   'ThirdLargestPropertyUseTypeGFA',\n",
       "                                                   'ENERGYSTARScore',\n",
       "                                                   'SiteEUI(...\n",
       "                                                  Pipeline(steps=[('simpleimputer',\n",
       "                                                                   SimpleImputer(strategy='most_frequent')),\n",
       "                                                                  ('onehotencoder',\n",
       "                                                                   OneHotEncoder(handle_unknown='infrequent_if_exist',\n",
       "                                                                                 sparse_output=False))]),\n",
       "                                                  ['BuildingType',\n",
       "                                                   'PrimaryPropertyType',\n",
       "                                                   'Neighborhood',\n",
       "                                                   'LargestPropertyUseType',\n",
       "                                                   'SecondLargestPropertyUseType'])])),\n",
       "                ('randomforestregressor',\n",
       "                 RandomForestRegressor(n_estimators=1000, random_state=0))])"
      ]
     },
     "execution_count": 670,
     "metadata": {},
     "output_type": "execute_result"
    }
   ],
   "source": [
    "pipe_rf.fit(X_train, y_train.ravel())"
   ]
  },
  {
   "cell_type": "markdown",
   "id": "7a225f59",
   "metadata": {},
   "source": [
    "### Score, prédiction."
   ]
  },
  {
   "cell_type": "code",
   "execution_count": 671,
   "id": "d3aef048",
   "metadata": {},
   "outputs": [
    {
     "data": {
      "text/plain": [
       "0.6705059239564557"
      ]
     },
     "execution_count": 671,
     "metadata": {},
     "output_type": "execute_result"
    }
   ],
   "source": [
    "pipe_rf.score(X_test, y_test.ravel())"
   ]
  },
  {
   "cell_type": "markdown",
   "id": "23a02139",
   "metadata": {},
   "source": [
    "Peut on améliorer le modéle ?"
   ]
  },
  {
   "cell_type": "code",
   "execution_count": 672,
   "id": "467db52e",
   "metadata": {},
   "outputs": [],
   "source": [
    "y_rf_pred_reg = pipe_rf.predict(X_test)"
   ]
  },
  {
   "cell_type": "code",
   "execution_count": 673,
   "id": "68ea5c37",
   "metadata": {
    "scrolled": true
   },
   "outputs": [
    {
     "name": "stdout",
     "output_type": "stream",
     "text": [
      "(669,) (669, 1)\n"
     ]
    }
   ],
   "source": [
    "print(y_rf_pred_reg.shape, y_test.shape)"
   ]
  },
  {
   "cell_type": "code",
   "execution_count": 674,
   "id": "a0dcdf19",
   "metadata": {},
   "outputs": [
    {
     "name": "stdout",
     "output_type": "stream",
     "text": [
      "(669,)\n"
     ]
    }
   ],
   "source": [
    "y_test = y_test.reshape(669,)\n",
    "print(y_test.shape)"
   ]
  },
  {
   "cell_type": "markdown",
   "id": "78e58fca",
   "metadata": {},
   "source": [
    "### Optimisaiton hyperparamètres du modèle."
   ]
  },
  {
   "cell_type": "markdown",
   "id": "9475c851",
   "metadata": {},
   "source": [
    "Sans optimisation, Random Forest ne parvient pas à retranscrire la variance du dataset. On essaye une optimisation de deux paramètres, n_estimator, et max_depth."
   ]
  },
  {
   "cell_type": "code",
   "execution_count": 675,
   "id": "fb225a99",
   "metadata": {},
   "outputs": [],
   "source": [
    "pipe_rf_opt = make_pipeline(preprocessor, RandomForestRegressor())"
   ]
  },
  {
   "cell_type": "code",
   "execution_count": 676,
   "id": "4cb046c2",
   "metadata": {},
   "outputs": [
    {
     "data": {
      "text/plain": [
       "{'memory': None,\n",
       " 'steps': [('columntransformer',\n",
       "   ColumnTransformer(transformers=[('pipeline-1',\n",
       "                                    Pipeline(steps=[('simpleimputer',\n",
       "                                                     SimpleImputer(strategy='median')),\n",
       "                                                    ('robustscaler',\n",
       "                                                     RobustScaler())]),\n",
       "                                    ['Latitude', 'Longitude', 'NumberofBuildings',\n",
       "                                     'LargestPropertyUseTypeGFA',\n",
       "                                     'SecondLargestPropertyUseTypeGFA',\n",
       "                                     'ThirdLargestPropertyUseTypeGFA',\n",
       "                                     'ENERGYSTARScore', 'SiteEUI(kBtu/sf)',\n",
       "                                     'SourceEUI(kBtu/sf)', 'SiteE...\n",
       "                                     'SteamUse(kBtu)', 'Electricity(kBtu)',\n",
       "                                     'NaturalGas(kBtu)', 'TotalGHGEmissions']),\n",
       "                                   ('pipeline-2',\n",
       "                                    Pipeline(steps=[('simpleimputer',\n",
       "                                                     SimpleImputer(strategy='most_frequent')),\n",
       "                                                    ('onehotencoder',\n",
       "                                                     OneHotEncoder(handle_unknown='infrequent_if_exist',\n",
       "                                                                   sparse_output=False))]),\n",
       "                                    ['BuildingType', 'PrimaryPropertyType',\n",
       "                                     'Neighborhood', 'LargestPropertyUseType',\n",
       "                                     'SecondLargestPropertyUseType'])])),\n",
       "  ('randomforestregressor', RandomForestRegressor())],\n",
       " 'verbose': False,\n",
       " 'columntransformer': ColumnTransformer(transformers=[('pipeline-1',\n",
       "                                  Pipeline(steps=[('simpleimputer',\n",
       "                                                   SimpleImputer(strategy='median')),\n",
       "                                                  ('robustscaler',\n",
       "                                                   RobustScaler())]),\n",
       "                                  ['Latitude', 'Longitude', 'NumberofBuildings',\n",
       "                                   'LargestPropertyUseTypeGFA',\n",
       "                                   'SecondLargestPropertyUseTypeGFA',\n",
       "                                   'ThirdLargestPropertyUseTypeGFA',\n",
       "                                   'ENERGYSTARScore', 'SiteEUI(kBtu/sf)',\n",
       "                                   'SourceEUI(kBtu/sf)', 'SiteE...\n",
       "                                   'SteamUse(kBtu)', 'Electricity(kBtu)',\n",
       "                                   'NaturalGas(kBtu)', 'TotalGHGEmissions']),\n",
       "                                 ('pipeline-2',\n",
       "                                  Pipeline(steps=[('simpleimputer',\n",
       "                                                   SimpleImputer(strategy='most_frequent')),\n",
       "                                                  ('onehotencoder',\n",
       "                                                   OneHotEncoder(handle_unknown='infrequent_if_exist',\n",
       "                                                                 sparse_output=False))]),\n",
       "                                  ['BuildingType', 'PrimaryPropertyType',\n",
       "                                   'Neighborhood', 'LargestPropertyUseType',\n",
       "                                   'SecondLargestPropertyUseType'])]),\n",
       " 'randomforestregressor': RandomForestRegressor(),\n",
       " 'columntransformer__n_jobs': None,\n",
       " 'columntransformer__remainder': 'drop',\n",
       " 'columntransformer__sparse_threshold': 0.3,\n",
       " 'columntransformer__transformer_weights': None,\n",
       " 'columntransformer__transformers': [('pipeline-1',\n",
       "   Pipeline(steps=[('simpleimputer', SimpleImputer(strategy='median')),\n",
       "                   ('robustscaler', RobustScaler())]),\n",
       "   ['Latitude',\n",
       "    'Longitude',\n",
       "    'NumberofBuildings',\n",
       "    'LargestPropertyUseTypeGFA',\n",
       "    'SecondLargestPropertyUseTypeGFA',\n",
       "    'ThirdLargestPropertyUseTypeGFA',\n",
       "    'ENERGYSTARScore',\n",
       "    'SiteEUI(kBtu/sf)',\n",
       "    'SourceEUI(kBtu/sf)',\n",
       "    'SiteEnergyUse(kBtu)',\n",
       "    'SteamUse(kBtu)',\n",
       "    'Electricity(kBtu)',\n",
       "    'NaturalGas(kBtu)',\n",
       "    'TotalGHGEmissions']),\n",
       "  ('pipeline-2',\n",
       "   Pipeline(steps=[('simpleimputer', SimpleImputer(strategy='most_frequent')),\n",
       "                   ('onehotencoder',\n",
       "                    OneHotEncoder(handle_unknown='infrequent_if_exist',\n",
       "                                  sparse_output=False))]),\n",
       "   ['BuildingType',\n",
       "    'PrimaryPropertyType',\n",
       "    'Neighborhood',\n",
       "    'LargestPropertyUseType',\n",
       "    'SecondLargestPropertyUseType'])],\n",
       " 'columntransformer__verbose': False,\n",
       " 'columntransformer__verbose_feature_names_out': True,\n",
       " 'columntransformer__pipeline-1': Pipeline(steps=[('simpleimputer', SimpleImputer(strategy='median')),\n",
       "                 ('robustscaler', RobustScaler())]),\n",
       " 'columntransformer__pipeline-2': Pipeline(steps=[('simpleimputer', SimpleImputer(strategy='most_frequent')),\n",
       "                 ('onehotencoder',\n",
       "                  OneHotEncoder(handle_unknown='infrequent_if_exist',\n",
       "                                sparse_output=False))]),\n",
       " 'columntransformer__pipeline-1__memory': None,\n",
       " 'columntransformer__pipeline-1__steps': [('simpleimputer',\n",
       "   SimpleImputer(strategy='median')),\n",
       "  ('robustscaler', RobustScaler())],\n",
       " 'columntransformer__pipeline-1__verbose': False,\n",
       " 'columntransformer__pipeline-1__simpleimputer': SimpleImputer(strategy='median'),\n",
       " 'columntransformer__pipeline-1__robustscaler': RobustScaler(),\n",
       " 'columntransformer__pipeline-1__simpleimputer__add_indicator': False,\n",
       " 'columntransformer__pipeline-1__simpleimputer__copy': True,\n",
       " 'columntransformer__pipeline-1__simpleimputer__fill_value': None,\n",
       " 'columntransformer__pipeline-1__simpleimputer__keep_empty_features': False,\n",
       " 'columntransformer__pipeline-1__simpleimputer__missing_values': nan,\n",
       " 'columntransformer__pipeline-1__simpleimputer__strategy': 'median',\n",
       " 'columntransformer__pipeline-1__simpleimputer__verbose': 'deprecated',\n",
       " 'columntransformer__pipeline-1__robustscaler__copy': True,\n",
       " 'columntransformer__pipeline-1__robustscaler__quantile_range': (25.0, 75.0),\n",
       " 'columntransformer__pipeline-1__robustscaler__unit_variance': False,\n",
       " 'columntransformer__pipeline-1__robustscaler__with_centering': True,\n",
       " 'columntransformer__pipeline-1__robustscaler__with_scaling': True,\n",
       " 'columntransformer__pipeline-2__memory': None,\n",
       " 'columntransformer__pipeline-2__steps': [('simpleimputer',\n",
       "   SimpleImputer(strategy='most_frequent')),\n",
       "  ('onehotencoder',\n",
       "   OneHotEncoder(handle_unknown='infrequent_if_exist', sparse_output=False))],\n",
       " 'columntransformer__pipeline-2__verbose': False,\n",
       " 'columntransformer__pipeline-2__simpleimputer': SimpleImputer(strategy='most_frequent'),\n",
       " 'columntransformer__pipeline-2__onehotencoder': OneHotEncoder(handle_unknown='infrequent_if_exist', sparse_output=False),\n",
       " 'columntransformer__pipeline-2__simpleimputer__add_indicator': False,\n",
       " 'columntransformer__pipeline-2__simpleimputer__copy': True,\n",
       " 'columntransformer__pipeline-2__simpleimputer__fill_value': None,\n",
       " 'columntransformer__pipeline-2__simpleimputer__keep_empty_features': False,\n",
       " 'columntransformer__pipeline-2__simpleimputer__missing_values': nan,\n",
       " 'columntransformer__pipeline-2__simpleimputer__strategy': 'most_frequent',\n",
       " 'columntransformer__pipeline-2__simpleimputer__verbose': 'deprecated',\n",
       " 'columntransformer__pipeline-2__onehotencoder__categories': 'auto',\n",
       " 'columntransformer__pipeline-2__onehotencoder__drop': None,\n",
       " 'columntransformer__pipeline-2__onehotencoder__dtype': numpy.float64,\n",
       " 'columntransformer__pipeline-2__onehotencoder__handle_unknown': 'infrequent_if_exist',\n",
       " 'columntransformer__pipeline-2__onehotencoder__max_categories': None,\n",
       " 'columntransformer__pipeline-2__onehotencoder__min_frequency': None,\n",
       " 'columntransformer__pipeline-2__onehotencoder__sparse': 'deprecated',\n",
       " 'columntransformer__pipeline-2__onehotencoder__sparse_output': False,\n",
       " 'randomforestregressor__bootstrap': True,\n",
       " 'randomforestregressor__ccp_alpha': 0.0,\n",
       " 'randomforestregressor__criterion': 'squared_error',\n",
       " 'randomforestregressor__max_depth': None,\n",
       " 'randomforestregressor__max_features': 1.0,\n",
       " 'randomforestregressor__max_leaf_nodes': None,\n",
       " 'randomforestregressor__max_samples': None,\n",
       " 'randomforestregressor__min_impurity_decrease': 0.0,\n",
       " 'randomforestregressor__min_samples_leaf': 1,\n",
       " 'randomforestregressor__min_samples_split': 2,\n",
       " 'randomforestregressor__min_weight_fraction_leaf': 0.0,\n",
       " 'randomforestregressor__n_estimators': 100,\n",
       " 'randomforestregressor__n_jobs': None,\n",
       " 'randomforestregressor__oob_score': False,\n",
       " 'randomforestregressor__random_state': None,\n",
       " 'randomforestregressor__verbose': 0,\n",
       " 'randomforestregressor__warm_start': False}"
      ]
     },
     "execution_count": 676,
     "metadata": {},
     "output_type": "execute_result"
    }
   ],
   "source": [
    "pipe_rf_opt.get_params()"
   ]
  },
  {
   "cell_type": "code",
   "execution_count": 677,
   "id": "d356718c",
   "metadata": {},
   "outputs": [],
   "source": [
    "param_grid={'randomforestregressor__max_depth':[2, 3, 4, 5, 6, 7, 8], \n",
    "            'randomforestregressor__n_estimators':[200,400,600,800, 1000]}"
   ]
  },
  {
   "cell_type": "code",
   "execution_count": 678,
   "id": "56ed4fa5",
   "metadata": {},
   "outputs": [
    {
     "data": {
      "text/html": [
       "<style>#sk-container-id-48 {color: black;background-color: white;}#sk-container-id-48 pre{padding: 0;}#sk-container-id-48 div.sk-toggleable {background-color: white;}#sk-container-id-48 label.sk-toggleable__label {cursor: pointer;display: block;width: 100%;margin-bottom: 0;padding: 0.3em;box-sizing: border-box;text-align: center;}#sk-container-id-48 label.sk-toggleable__label-arrow:before {content: \"▸\";float: left;margin-right: 0.25em;color: #696969;}#sk-container-id-48 label.sk-toggleable__label-arrow:hover:before {color: black;}#sk-container-id-48 div.sk-estimator:hover label.sk-toggleable__label-arrow:before {color: black;}#sk-container-id-48 div.sk-toggleable__content {max-height: 0;max-width: 0;overflow: hidden;text-align: left;background-color: #f0f8ff;}#sk-container-id-48 div.sk-toggleable__content pre {margin: 0.2em;color: black;border-radius: 0.25em;background-color: #f0f8ff;}#sk-container-id-48 input.sk-toggleable__control:checked~div.sk-toggleable__content {max-height: 200px;max-width: 100%;overflow: auto;}#sk-container-id-48 input.sk-toggleable__control:checked~label.sk-toggleable__label-arrow:before {content: \"▾\";}#sk-container-id-48 div.sk-estimator input.sk-toggleable__control:checked~label.sk-toggleable__label {background-color: #d4ebff;}#sk-container-id-48 div.sk-label input.sk-toggleable__control:checked~label.sk-toggleable__label {background-color: #d4ebff;}#sk-container-id-48 input.sk-hidden--visually {border: 0;clip: rect(1px 1px 1px 1px);clip: rect(1px, 1px, 1px, 1px);height: 1px;margin: -1px;overflow: hidden;padding: 0;position: absolute;width: 1px;}#sk-container-id-48 div.sk-estimator {font-family: monospace;background-color: #f0f8ff;border: 1px dotted black;border-radius: 0.25em;box-sizing: border-box;margin-bottom: 0.5em;}#sk-container-id-48 div.sk-estimator:hover {background-color: #d4ebff;}#sk-container-id-48 div.sk-parallel-item::after {content: \"\";width: 100%;border-bottom: 1px solid gray;flex-grow: 1;}#sk-container-id-48 div.sk-label:hover label.sk-toggleable__label {background-color: #d4ebff;}#sk-container-id-48 div.sk-serial::before {content: \"\";position: absolute;border-left: 1px solid gray;box-sizing: border-box;top: 0;bottom: 0;left: 50%;z-index: 0;}#sk-container-id-48 div.sk-serial {display: flex;flex-direction: column;align-items: center;background-color: white;padding-right: 0.2em;padding-left: 0.2em;position: relative;}#sk-container-id-48 div.sk-item {position: relative;z-index: 1;}#sk-container-id-48 div.sk-parallel {display: flex;align-items: stretch;justify-content: center;background-color: white;position: relative;}#sk-container-id-48 div.sk-item::before, #sk-container-id-48 div.sk-parallel-item::before {content: \"\";position: absolute;border-left: 1px solid gray;box-sizing: border-box;top: 0;bottom: 0;left: 50%;z-index: -1;}#sk-container-id-48 div.sk-parallel-item {display: flex;flex-direction: column;z-index: 1;position: relative;background-color: white;}#sk-container-id-48 div.sk-parallel-item:first-child::after {align-self: flex-end;width: 50%;}#sk-container-id-48 div.sk-parallel-item:last-child::after {align-self: flex-start;width: 50%;}#sk-container-id-48 div.sk-parallel-item:only-child::after {width: 0;}#sk-container-id-48 div.sk-dashed-wrapped {border: 1px dashed gray;margin: 0 0.4em 0.5em 0.4em;box-sizing: border-box;padding-bottom: 0.4em;background-color: white;}#sk-container-id-48 div.sk-label label {font-family: monospace;font-weight: bold;display: inline-block;line-height: 1.2em;}#sk-container-id-48 div.sk-label-container {text-align: center;}#sk-container-id-48 div.sk-container {/* jupyter's `normalize.less` sets `[hidden] { display: none; }` but bootstrap.min.css set `[hidden] { display: none !important; }` so we also need the `!important` here to be able to override the default hidden behavior on the sphinx rendered scikit-learn.org. See: https://github.com/scikit-learn/scikit-learn/issues/21755 */display: inline-block !important;position: relative;}#sk-container-id-48 div.sk-text-repr-fallback {display: none;}</style><div id=\"sk-container-id-48\" class=\"sk-top-container\"><div class=\"sk-text-repr-fallback\"><pre>GridSearchCV(cv=5,\n",
       "             estimator=Pipeline(steps=[(&#x27;columntransformer&#x27;,\n",
       "                                        ColumnTransformer(transformers=[(&#x27;pipeline-1&#x27;,\n",
       "                                                                         Pipeline(steps=[(&#x27;simpleimputer&#x27;,\n",
       "                                                                                          SimpleImputer(strategy=&#x27;median&#x27;)),\n",
       "                                                                                         (&#x27;robustscaler&#x27;,\n",
       "                                                                                          RobustScaler())]),\n",
       "                                                                         [&#x27;Latitude&#x27;,\n",
       "                                                                          &#x27;Longitude&#x27;,\n",
       "                                                                          &#x27;NumberofBuildings&#x27;,\n",
       "                                                                          &#x27;LargestPropertyUseTypeGFA&#x27;,\n",
       "                                                                          &#x27;SecondLargestPropertyUseTypeGFA&#x27;,\n",
       "                                                                          &#x27;ThirdLargestPropertyUseTypeGFA&#x27;...\n",
       "                                                                                          OneHotEncoder(handle_unknown=&#x27;infrequent_if_exist&#x27;,\n",
       "                                                                                                        sparse_output=False))]),\n",
       "                                                                         [&#x27;BuildingType&#x27;,\n",
       "                                                                          &#x27;PrimaryPropertyType&#x27;,\n",
       "                                                                          &#x27;Neighborhood&#x27;,\n",
       "                                                                          &#x27;LargestPropertyUseType&#x27;,\n",
       "                                                                          &#x27;SecondLargestPropertyUseType&#x27;])])),\n",
       "                                       (&#x27;randomforestregressor&#x27;,\n",
       "                                        RandomForestRegressor())]),\n",
       "             param_grid={&#x27;randomforestregressor__max_depth&#x27;: [2, 3, 4, 5, 6, 7,\n",
       "                                                              8],\n",
       "                         &#x27;randomforestregressor__n_estimators&#x27;: [200, 400, 600,\n",
       "                                                                 800, 1000]})</pre><b>In a Jupyter environment, please rerun this cell to show the HTML representation or trust the notebook. <br />On GitHub, the HTML representation is unable to render, please try loading this page with nbviewer.org.</b></div><div class=\"sk-container\" hidden><div class=\"sk-item sk-dashed-wrapped\"><div class=\"sk-label-container\"><div class=\"sk-label sk-toggleable\"><input class=\"sk-toggleable__control sk-hidden--visually\" id=\"sk-estimator-id-457\" type=\"checkbox\" ><label for=\"sk-estimator-id-457\" class=\"sk-toggleable__label sk-toggleable__label-arrow\">GridSearchCV</label><div class=\"sk-toggleable__content\"><pre>GridSearchCV(cv=5,\n",
       "             estimator=Pipeline(steps=[(&#x27;columntransformer&#x27;,\n",
       "                                        ColumnTransformer(transformers=[(&#x27;pipeline-1&#x27;,\n",
       "                                                                         Pipeline(steps=[(&#x27;simpleimputer&#x27;,\n",
       "                                                                                          SimpleImputer(strategy=&#x27;median&#x27;)),\n",
       "                                                                                         (&#x27;robustscaler&#x27;,\n",
       "                                                                                          RobustScaler())]),\n",
       "                                                                         [&#x27;Latitude&#x27;,\n",
       "                                                                          &#x27;Longitude&#x27;,\n",
       "                                                                          &#x27;NumberofBuildings&#x27;,\n",
       "                                                                          &#x27;LargestPropertyUseTypeGFA&#x27;,\n",
       "                                                                          &#x27;SecondLargestPropertyUseTypeGFA&#x27;,\n",
       "                                                                          &#x27;ThirdLargestPropertyUseTypeGFA&#x27;...\n",
       "                                                                                          OneHotEncoder(handle_unknown=&#x27;infrequent_if_exist&#x27;,\n",
       "                                                                                                        sparse_output=False))]),\n",
       "                                                                         [&#x27;BuildingType&#x27;,\n",
       "                                                                          &#x27;PrimaryPropertyType&#x27;,\n",
       "                                                                          &#x27;Neighborhood&#x27;,\n",
       "                                                                          &#x27;LargestPropertyUseType&#x27;,\n",
       "                                                                          &#x27;SecondLargestPropertyUseType&#x27;])])),\n",
       "                                       (&#x27;randomforestregressor&#x27;,\n",
       "                                        RandomForestRegressor())]),\n",
       "             param_grid={&#x27;randomforestregressor__max_depth&#x27;: [2, 3, 4, 5, 6, 7,\n",
       "                                                              8],\n",
       "                         &#x27;randomforestregressor__n_estimators&#x27;: [200, 400, 600,\n",
       "                                                                 800, 1000]})</pre></div></div></div><div class=\"sk-parallel\"><div class=\"sk-parallel-item\"><div class=\"sk-item\"><div class=\"sk-label-container\"><div class=\"sk-label sk-toggleable\"><input class=\"sk-toggleable__control sk-hidden--visually\" id=\"sk-estimator-id-458\" type=\"checkbox\" ><label for=\"sk-estimator-id-458\" class=\"sk-toggleable__label sk-toggleable__label-arrow\">estimator: Pipeline</label><div class=\"sk-toggleable__content\"><pre>Pipeline(steps=[(&#x27;columntransformer&#x27;,\n",
       "                 ColumnTransformer(transformers=[(&#x27;pipeline-1&#x27;,\n",
       "                                                  Pipeline(steps=[(&#x27;simpleimputer&#x27;,\n",
       "                                                                   SimpleImputer(strategy=&#x27;median&#x27;)),\n",
       "                                                                  (&#x27;robustscaler&#x27;,\n",
       "                                                                   RobustScaler())]),\n",
       "                                                  [&#x27;Latitude&#x27;, &#x27;Longitude&#x27;,\n",
       "                                                   &#x27;NumberofBuildings&#x27;,\n",
       "                                                   &#x27;LargestPropertyUseTypeGFA&#x27;,\n",
       "                                                   &#x27;SecondLargestPropertyUseTypeGFA&#x27;,\n",
       "                                                   &#x27;ThirdLargestPropertyUseTypeGFA&#x27;,\n",
       "                                                   &#x27;ENERGYSTARScore&#x27;,\n",
       "                                                   &#x27;SiteEUI(...\n",
       "                                                   &#x27;TotalGHGEmissions&#x27;]),\n",
       "                                                 (&#x27;pipeline-2&#x27;,\n",
       "                                                  Pipeline(steps=[(&#x27;simpleimputer&#x27;,\n",
       "                                                                   SimpleImputer(strategy=&#x27;most_frequent&#x27;)),\n",
       "                                                                  (&#x27;onehotencoder&#x27;,\n",
       "                                                                   OneHotEncoder(handle_unknown=&#x27;infrequent_if_exist&#x27;,\n",
       "                                                                                 sparse_output=False))]),\n",
       "                                                  [&#x27;BuildingType&#x27;,\n",
       "                                                   &#x27;PrimaryPropertyType&#x27;,\n",
       "                                                   &#x27;Neighborhood&#x27;,\n",
       "                                                   &#x27;LargestPropertyUseType&#x27;,\n",
       "                                                   &#x27;SecondLargestPropertyUseType&#x27;])])),\n",
       "                (&#x27;randomforestregressor&#x27;, RandomForestRegressor())])</pre></div></div></div><div class=\"sk-serial\"><div class=\"sk-item\"><div class=\"sk-serial\"><div class=\"sk-item sk-dashed-wrapped\"><div class=\"sk-label-container\"><div class=\"sk-label sk-toggleable\"><input class=\"sk-toggleable__control sk-hidden--visually\" id=\"sk-estimator-id-459\" type=\"checkbox\" ><label for=\"sk-estimator-id-459\" class=\"sk-toggleable__label sk-toggleable__label-arrow\">columntransformer: ColumnTransformer</label><div class=\"sk-toggleable__content\"><pre>ColumnTransformer(transformers=[(&#x27;pipeline-1&#x27;,\n",
       "                                 Pipeline(steps=[(&#x27;simpleimputer&#x27;,\n",
       "                                                  SimpleImputer(strategy=&#x27;median&#x27;)),\n",
       "                                                 (&#x27;robustscaler&#x27;,\n",
       "                                                  RobustScaler())]),\n",
       "                                 [&#x27;Latitude&#x27;, &#x27;Longitude&#x27;, &#x27;NumberofBuildings&#x27;,\n",
       "                                  &#x27;LargestPropertyUseTypeGFA&#x27;,\n",
       "                                  &#x27;SecondLargestPropertyUseTypeGFA&#x27;,\n",
       "                                  &#x27;ThirdLargestPropertyUseTypeGFA&#x27;,\n",
       "                                  &#x27;ENERGYSTARScore&#x27;, &#x27;SiteEUI(kBtu/sf)&#x27;,\n",
       "                                  &#x27;SourceEUI(kBtu/sf)&#x27;, &#x27;SiteE...\n",
       "                                  &#x27;SteamUse(kBtu)&#x27;, &#x27;Electricity(kBtu)&#x27;,\n",
       "                                  &#x27;NaturalGas(kBtu)&#x27;, &#x27;TotalGHGEmissions&#x27;]),\n",
       "                                (&#x27;pipeline-2&#x27;,\n",
       "                                 Pipeline(steps=[(&#x27;simpleimputer&#x27;,\n",
       "                                                  SimpleImputer(strategy=&#x27;most_frequent&#x27;)),\n",
       "                                                 (&#x27;onehotencoder&#x27;,\n",
       "                                                  OneHotEncoder(handle_unknown=&#x27;infrequent_if_exist&#x27;,\n",
       "                                                                sparse_output=False))]),\n",
       "                                 [&#x27;BuildingType&#x27;, &#x27;PrimaryPropertyType&#x27;,\n",
       "                                  &#x27;Neighborhood&#x27;, &#x27;LargestPropertyUseType&#x27;,\n",
       "                                  &#x27;SecondLargestPropertyUseType&#x27;])])</pre></div></div></div><div class=\"sk-parallel\"><div class=\"sk-parallel-item\"><div class=\"sk-item\"><div class=\"sk-label-container\"><div class=\"sk-label sk-toggleable\"><input class=\"sk-toggleable__control sk-hidden--visually\" id=\"sk-estimator-id-460\" type=\"checkbox\" ><label for=\"sk-estimator-id-460\" class=\"sk-toggleable__label sk-toggleable__label-arrow\">pipeline-1</label><div class=\"sk-toggleable__content\"><pre>[&#x27;Latitude&#x27;, &#x27;Longitude&#x27;, &#x27;NumberofBuildings&#x27;, &#x27;LargestPropertyUseTypeGFA&#x27;, &#x27;SecondLargestPropertyUseTypeGFA&#x27;, &#x27;ThirdLargestPropertyUseTypeGFA&#x27;, &#x27;ENERGYSTARScore&#x27;, &#x27;SiteEUI(kBtu/sf)&#x27;, &#x27;SourceEUI(kBtu/sf)&#x27;, &#x27;SiteEnergyUse(kBtu)&#x27;, &#x27;SteamUse(kBtu)&#x27;, &#x27;Electricity(kBtu)&#x27;, &#x27;NaturalGas(kBtu)&#x27;, &#x27;TotalGHGEmissions&#x27;]</pre></div></div></div><div class=\"sk-serial\"><div class=\"sk-item\"><div class=\"sk-serial\"><div class=\"sk-item\"><div class=\"sk-estimator sk-toggleable\"><input class=\"sk-toggleable__control sk-hidden--visually\" id=\"sk-estimator-id-461\" type=\"checkbox\" ><label for=\"sk-estimator-id-461\" class=\"sk-toggleable__label sk-toggleable__label-arrow\">SimpleImputer</label><div class=\"sk-toggleable__content\"><pre>SimpleImputer(strategy=&#x27;median&#x27;)</pre></div></div></div><div class=\"sk-item\"><div class=\"sk-estimator sk-toggleable\"><input class=\"sk-toggleable__control sk-hidden--visually\" id=\"sk-estimator-id-462\" type=\"checkbox\" ><label for=\"sk-estimator-id-462\" class=\"sk-toggleable__label sk-toggleable__label-arrow\">RobustScaler</label><div class=\"sk-toggleable__content\"><pre>RobustScaler()</pre></div></div></div></div></div></div></div></div><div class=\"sk-parallel-item\"><div class=\"sk-item\"><div class=\"sk-label-container\"><div class=\"sk-label sk-toggleable\"><input class=\"sk-toggleable__control sk-hidden--visually\" id=\"sk-estimator-id-463\" type=\"checkbox\" ><label for=\"sk-estimator-id-463\" class=\"sk-toggleable__label sk-toggleable__label-arrow\">pipeline-2</label><div class=\"sk-toggleable__content\"><pre>[&#x27;BuildingType&#x27;, &#x27;PrimaryPropertyType&#x27;, &#x27;Neighborhood&#x27;, &#x27;LargestPropertyUseType&#x27;, &#x27;SecondLargestPropertyUseType&#x27;]</pre></div></div></div><div class=\"sk-serial\"><div class=\"sk-item\"><div class=\"sk-serial\"><div class=\"sk-item\"><div class=\"sk-estimator sk-toggleable\"><input class=\"sk-toggleable__control sk-hidden--visually\" id=\"sk-estimator-id-464\" type=\"checkbox\" ><label for=\"sk-estimator-id-464\" class=\"sk-toggleable__label sk-toggleable__label-arrow\">SimpleImputer</label><div class=\"sk-toggleable__content\"><pre>SimpleImputer(strategy=&#x27;most_frequent&#x27;)</pre></div></div></div><div class=\"sk-item\"><div class=\"sk-estimator sk-toggleable\"><input class=\"sk-toggleable__control sk-hidden--visually\" id=\"sk-estimator-id-465\" type=\"checkbox\" ><label for=\"sk-estimator-id-465\" class=\"sk-toggleable__label sk-toggleable__label-arrow\">OneHotEncoder</label><div class=\"sk-toggleable__content\"><pre>OneHotEncoder(handle_unknown=&#x27;infrequent_if_exist&#x27;, sparse_output=False)</pre></div></div></div></div></div></div></div></div></div></div><div class=\"sk-item\"><div class=\"sk-estimator sk-toggleable\"><input class=\"sk-toggleable__control sk-hidden--visually\" id=\"sk-estimator-id-466\" type=\"checkbox\" ><label for=\"sk-estimator-id-466\" class=\"sk-toggleable__label sk-toggleable__label-arrow\">RandomForestRegressor</label><div class=\"sk-toggleable__content\"><pre>RandomForestRegressor()</pre></div></div></div></div></div></div></div></div></div></div></div></div>"
      ],
      "text/plain": [
       "GridSearchCV(cv=5,\n",
       "             estimator=Pipeline(steps=[('columntransformer',\n",
       "                                        ColumnTransformer(transformers=[('pipeline-1',\n",
       "                                                                         Pipeline(steps=[('simpleimputer',\n",
       "                                                                                          SimpleImputer(strategy='median')),\n",
       "                                                                                         ('robustscaler',\n",
       "                                                                                          RobustScaler())]),\n",
       "                                                                         ['Latitude',\n",
       "                                                                          'Longitude',\n",
       "                                                                          'NumberofBuildings',\n",
       "                                                                          'LargestPropertyUseTypeGFA',\n",
       "                                                                          'SecondLargestPropertyUseTypeGFA',\n",
       "                                                                          'ThirdLargestPropertyUseTypeGFA'...\n",
       "                                                                                          OneHotEncoder(handle_unknown='infrequent_if_exist',\n",
       "                                                                                                        sparse_output=False))]),\n",
       "                                                                         ['BuildingType',\n",
       "                                                                          'PrimaryPropertyType',\n",
       "                                                                          'Neighborhood',\n",
       "                                                                          'LargestPropertyUseType',\n",
       "                                                                          'SecondLargestPropertyUseType'])])),\n",
       "                                       ('randomforestregressor',\n",
       "                                        RandomForestRegressor())]),\n",
       "             param_grid={'randomforestregressor__max_depth': [2, 3, 4, 5, 6, 7,\n",
       "                                                              8],\n",
       "                         'randomforestregressor__n_estimators': [200, 400, 600,\n",
       "                                                                 800, 1000]})"
      ]
     },
     "execution_count": 678,
     "metadata": {},
     "output_type": "execute_result"
    }
   ],
   "source": [
    "GridSearchCV(pipe_rf_opt, param_grid, cv=5)"
   ]
  },
  {
   "cell_type": "code",
   "execution_count": 679,
   "id": "c0b7238a",
   "metadata": {},
   "outputs": [],
   "source": [
    "grid = GridSearchCV(pipe_rf_opt, param_grid, cv=5)"
   ]
  },
  {
   "cell_type": "code",
   "execution_count": 680,
   "id": "a388288c",
   "metadata": {
    "scrolled": true
   },
   "outputs": [
    {
     "data": {
      "text/html": [
       "<style>#sk-container-id-49 {color: black;background-color: white;}#sk-container-id-49 pre{padding: 0;}#sk-container-id-49 div.sk-toggleable {background-color: white;}#sk-container-id-49 label.sk-toggleable__label {cursor: pointer;display: block;width: 100%;margin-bottom: 0;padding: 0.3em;box-sizing: border-box;text-align: center;}#sk-container-id-49 label.sk-toggleable__label-arrow:before {content: \"▸\";float: left;margin-right: 0.25em;color: #696969;}#sk-container-id-49 label.sk-toggleable__label-arrow:hover:before {color: black;}#sk-container-id-49 div.sk-estimator:hover label.sk-toggleable__label-arrow:before {color: black;}#sk-container-id-49 div.sk-toggleable__content {max-height: 0;max-width: 0;overflow: hidden;text-align: left;background-color: #f0f8ff;}#sk-container-id-49 div.sk-toggleable__content pre {margin: 0.2em;color: black;border-radius: 0.25em;background-color: #f0f8ff;}#sk-container-id-49 input.sk-toggleable__control:checked~div.sk-toggleable__content {max-height: 200px;max-width: 100%;overflow: auto;}#sk-container-id-49 input.sk-toggleable__control:checked~label.sk-toggleable__label-arrow:before {content: \"▾\";}#sk-container-id-49 div.sk-estimator input.sk-toggleable__control:checked~label.sk-toggleable__label {background-color: #d4ebff;}#sk-container-id-49 div.sk-label input.sk-toggleable__control:checked~label.sk-toggleable__label {background-color: #d4ebff;}#sk-container-id-49 input.sk-hidden--visually {border: 0;clip: rect(1px 1px 1px 1px);clip: rect(1px, 1px, 1px, 1px);height: 1px;margin: -1px;overflow: hidden;padding: 0;position: absolute;width: 1px;}#sk-container-id-49 div.sk-estimator {font-family: monospace;background-color: #f0f8ff;border: 1px dotted black;border-radius: 0.25em;box-sizing: border-box;margin-bottom: 0.5em;}#sk-container-id-49 div.sk-estimator:hover {background-color: #d4ebff;}#sk-container-id-49 div.sk-parallel-item::after {content: \"\";width: 100%;border-bottom: 1px solid gray;flex-grow: 1;}#sk-container-id-49 div.sk-label:hover label.sk-toggleable__label {background-color: #d4ebff;}#sk-container-id-49 div.sk-serial::before {content: \"\";position: absolute;border-left: 1px solid gray;box-sizing: border-box;top: 0;bottom: 0;left: 50%;z-index: 0;}#sk-container-id-49 div.sk-serial {display: flex;flex-direction: column;align-items: center;background-color: white;padding-right: 0.2em;padding-left: 0.2em;position: relative;}#sk-container-id-49 div.sk-item {position: relative;z-index: 1;}#sk-container-id-49 div.sk-parallel {display: flex;align-items: stretch;justify-content: center;background-color: white;position: relative;}#sk-container-id-49 div.sk-item::before, #sk-container-id-49 div.sk-parallel-item::before {content: \"\";position: absolute;border-left: 1px solid gray;box-sizing: border-box;top: 0;bottom: 0;left: 50%;z-index: -1;}#sk-container-id-49 div.sk-parallel-item {display: flex;flex-direction: column;z-index: 1;position: relative;background-color: white;}#sk-container-id-49 div.sk-parallel-item:first-child::after {align-self: flex-end;width: 50%;}#sk-container-id-49 div.sk-parallel-item:last-child::after {align-self: flex-start;width: 50%;}#sk-container-id-49 div.sk-parallel-item:only-child::after {width: 0;}#sk-container-id-49 div.sk-dashed-wrapped {border: 1px dashed gray;margin: 0 0.4em 0.5em 0.4em;box-sizing: border-box;padding-bottom: 0.4em;background-color: white;}#sk-container-id-49 div.sk-label label {font-family: monospace;font-weight: bold;display: inline-block;line-height: 1.2em;}#sk-container-id-49 div.sk-label-container {text-align: center;}#sk-container-id-49 div.sk-container {/* jupyter's `normalize.less` sets `[hidden] { display: none; }` but bootstrap.min.css set `[hidden] { display: none !important; }` so we also need the `!important` here to be able to override the default hidden behavior on the sphinx rendered scikit-learn.org. See: https://github.com/scikit-learn/scikit-learn/issues/21755 */display: inline-block !important;position: relative;}#sk-container-id-49 div.sk-text-repr-fallback {display: none;}</style><div id=\"sk-container-id-49\" class=\"sk-top-container\"><div class=\"sk-text-repr-fallback\"><pre>GridSearchCV(cv=5,\n",
       "             estimator=Pipeline(steps=[(&#x27;columntransformer&#x27;,\n",
       "                                        ColumnTransformer(transformers=[(&#x27;pipeline-1&#x27;,\n",
       "                                                                         Pipeline(steps=[(&#x27;simpleimputer&#x27;,\n",
       "                                                                                          SimpleImputer(strategy=&#x27;median&#x27;)),\n",
       "                                                                                         (&#x27;robustscaler&#x27;,\n",
       "                                                                                          RobustScaler())]),\n",
       "                                                                         [&#x27;Latitude&#x27;,\n",
       "                                                                          &#x27;Longitude&#x27;,\n",
       "                                                                          &#x27;NumberofBuildings&#x27;,\n",
       "                                                                          &#x27;LargestPropertyUseTypeGFA&#x27;,\n",
       "                                                                          &#x27;SecondLargestPropertyUseTypeGFA&#x27;,\n",
       "                                                                          &#x27;ThirdLargestPropertyUseTypeGFA&#x27;...\n",
       "                                                                                          OneHotEncoder(handle_unknown=&#x27;infrequent_if_exist&#x27;,\n",
       "                                                                                                        sparse_output=False))]),\n",
       "                                                                         [&#x27;BuildingType&#x27;,\n",
       "                                                                          &#x27;PrimaryPropertyType&#x27;,\n",
       "                                                                          &#x27;Neighborhood&#x27;,\n",
       "                                                                          &#x27;LargestPropertyUseType&#x27;,\n",
       "                                                                          &#x27;SecondLargestPropertyUseType&#x27;])])),\n",
       "                                       (&#x27;randomforestregressor&#x27;,\n",
       "                                        RandomForestRegressor())]),\n",
       "             param_grid={&#x27;randomforestregressor__max_depth&#x27;: [2, 3, 4, 5, 6, 7,\n",
       "                                                              8],\n",
       "                         &#x27;randomforestregressor__n_estimators&#x27;: [200, 400, 600,\n",
       "                                                                 800, 1000]})</pre><b>In a Jupyter environment, please rerun this cell to show the HTML representation or trust the notebook. <br />On GitHub, the HTML representation is unable to render, please try loading this page with nbviewer.org.</b></div><div class=\"sk-container\" hidden><div class=\"sk-item sk-dashed-wrapped\"><div class=\"sk-label-container\"><div class=\"sk-label sk-toggleable\"><input class=\"sk-toggleable__control sk-hidden--visually\" id=\"sk-estimator-id-467\" type=\"checkbox\" ><label for=\"sk-estimator-id-467\" class=\"sk-toggleable__label sk-toggleable__label-arrow\">GridSearchCV</label><div class=\"sk-toggleable__content\"><pre>GridSearchCV(cv=5,\n",
       "             estimator=Pipeline(steps=[(&#x27;columntransformer&#x27;,\n",
       "                                        ColumnTransformer(transformers=[(&#x27;pipeline-1&#x27;,\n",
       "                                                                         Pipeline(steps=[(&#x27;simpleimputer&#x27;,\n",
       "                                                                                          SimpleImputer(strategy=&#x27;median&#x27;)),\n",
       "                                                                                         (&#x27;robustscaler&#x27;,\n",
       "                                                                                          RobustScaler())]),\n",
       "                                                                         [&#x27;Latitude&#x27;,\n",
       "                                                                          &#x27;Longitude&#x27;,\n",
       "                                                                          &#x27;NumberofBuildings&#x27;,\n",
       "                                                                          &#x27;LargestPropertyUseTypeGFA&#x27;,\n",
       "                                                                          &#x27;SecondLargestPropertyUseTypeGFA&#x27;,\n",
       "                                                                          &#x27;ThirdLargestPropertyUseTypeGFA&#x27;...\n",
       "                                                                                          OneHotEncoder(handle_unknown=&#x27;infrequent_if_exist&#x27;,\n",
       "                                                                                                        sparse_output=False))]),\n",
       "                                                                         [&#x27;BuildingType&#x27;,\n",
       "                                                                          &#x27;PrimaryPropertyType&#x27;,\n",
       "                                                                          &#x27;Neighborhood&#x27;,\n",
       "                                                                          &#x27;LargestPropertyUseType&#x27;,\n",
       "                                                                          &#x27;SecondLargestPropertyUseType&#x27;])])),\n",
       "                                       (&#x27;randomforestregressor&#x27;,\n",
       "                                        RandomForestRegressor())]),\n",
       "             param_grid={&#x27;randomforestregressor__max_depth&#x27;: [2, 3, 4, 5, 6, 7,\n",
       "                                                              8],\n",
       "                         &#x27;randomforestregressor__n_estimators&#x27;: [200, 400, 600,\n",
       "                                                                 800, 1000]})</pre></div></div></div><div class=\"sk-parallel\"><div class=\"sk-parallel-item\"><div class=\"sk-item\"><div class=\"sk-label-container\"><div class=\"sk-label sk-toggleable\"><input class=\"sk-toggleable__control sk-hidden--visually\" id=\"sk-estimator-id-468\" type=\"checkbox\" ><label for=\"sk-estimator-id-468\" class=\"sk-toggleable__label sk-toggleable__label-arrow\">estimator: Pipeline</label><div class=\"sk-toggleable__content\"><pre>Pipeline(steps=[(&#x27;columntransformer&#x27;,\n",
       "                 ColumnTransformer(transformers=[(&#x27;pipeline-1&#x27;,\n",
       "                                                  Pipeline(steps=[(&#x27;simpleimputer&#x27;,\n",
       "                                                                   SimpleImputer(strategy=&#x27;median&#x27;)),\n",
       "                                                                  (&#x27;robustscaler&#x27;,\n",
       "                                                                   RobustScaler())]),\n",
       "                                                  [&#x27;Latitude&#x27;, &#x27;Longitude&#x27;,\n",
       "                                                   &#x27;NumberofBuildings&#x27;,\n",
       "                                                   &#x27;LargestPropertyUseTypeGFA&#x27;,\n",
       "                                                   &#x27;SecondLargestPropertyUseTypeGFA&#x27;,\n",
       "                                                   &#x27;ThirdLargestPropertyUseTypeGFA&#x27;,\n",
       "                                                   &#x27;ENERGYSTARScore&#x27;,\n",
       "                                                   &#x27;SiteEUI(...\n",
       "                                                   &#x27;TotalGHGEmissions&#x27;]),\n",
       "                                                 (&#x27;pipeline-2&#x27;,\n",
       "                                                  Pipeline(steps=[(&#x27;simpleimputer&#x27;,\n",
       "                                                                   SimpleImputer(strategy=&#x27;most_frequent&#x27;)),\n",
       "                                                                  (&#x27;onehotencoder&#x27;,\n",
       "                                                                   OneHotEncoder(handle_unknown=&#x27;infrequent_if_exist&#x27;,\n",
       "                                                                                 sparse_output=False))]),\n",
       "                                                  [&#x27;BuildingType&#x27;,\n",
       "                                                   &#x27;PrimaryPropertyType&#x27;,\n",
       "                                                   &#x27;Neighborhood&#x27;,\n",
       "                                                   &#x27;LargestPropertyUseType&#x27;,\n",
       "                                                   &#x27;SecondLargestPropertyUseType&#x27;])])),\n",
       "                (&#x27;randomforestregressor&#x27;, RandomForestRegressor())])</pre></div></div></div><div class=\"sk-serial\"><div class=\"sk-item\"><div class=\"sk-serial\"><div class=\"sk-item sk-dashed-wrapped\"><div class=\"sk-label-container\"><div class=\"sk-label sk-toggleable\"><input class=\"sk-toggleable__control sk-hidden--visually\" id=\"sk-estimator-id-469\" type=\"checkbox\" ><label for=\"sk-estimator-id-469\" class=\"sk-toggleable__label sk-toggleable__label-arrow\">columntransformer: ColumnTransformer</label><div class=\"sk-toggleable__content\"><pre>ColumnTransformer(transformers=[(&#x27;pipeline-1&#x27;,\n",
       "                                 Pipeline(steps=[(&#x27;simpleimputer&#x27;,\n",
       "                                                  SimpleImputer(strategy=&#x27;median&#x27;)),\n",
       "                                                 (&#x27;robustscaler&#x27;,\n",
       "                                                  RobustScaler())]),\n",
       "                                 [&#x27;Latitude&#x27;, &#x27;Longitude&#x27;, &#x27;NumberofBuildings&#x27;,\n",
       "                                  &#x27;LargestPropertyUseTypeGFA&#x27;,\n",
       "                                  &#x27;SecondLargestPropertyUseTypeGFA&#x27;,\n",
       "                                  &#x27;ThirdLargestPropertyUseTypeGFA&#x27;,\n",
       "                                  &#x27;ENERGYSTARScore&#x27;, &#x27;SiteEUI(kBtu/sf)&#x27;,\n",
       "                                  &#x27;SourceEUI(kBtu/sf)&#x27;, &#x27;SiteE...\n",
       "                                  &#x27;SteamUse(kBtu)&#x27;, &#x27;Electricity(kBtu)&#x27;,\n",
       "                                  &#x27;NaturalGas(kBtu)&#x27;, &#x27;TotalGHGEmissions&#x27;]),\n",
       "                                (&#x27;pipeline-2&#x27;,\n",
       "                                 Pipeline(steps=[(&#x27;simpleimputer&#x27;,\n",
       "                                                  SimpleImputer(strategy=&#x27;most_frequent&#x27;)),\n",
       "                                                 (&#x27;onehotencoder&#x27;,\n",
       "                                                  OneHotEncoder(handle_unknown=&#x27;infrequent_if_exist&#x27;,\n",
       "                                                                sparse_output=False))]),\n",
       "                                 [&#x27;BuildingType&#x27;, &#x27;PrimaryPropertyType&#x27;,\n",
       "                                  &#x27;Neighborhood&#x27;, &#x27;LargestPropertyUseType&#x27;,\n",
       "                                  &#x27;SecondLargestPropertyUseType&#x27;])])</pre></div></div></div><div class=\"sk-parallel\"><div class=\"sk-parallel-item\"><div class=\"sk-item\"><div class=\"sk-label-container\"><div class=\"sk-label sk-toggleable\"><input class=\"sk-toggleable__control sk-hidden--visually\" id=\"sk-estimator-id-470\" type=\"checkbox\" ><label for=\"sk-estimator-id-470\" class=\"sk-toggleable__label sk-toggleable__label-arrow\">pipeline-1</label><div class=\"sk-toggleable__content\"><pre>[&#x27;Latitude&#x27;, &#x27;Longitude&#x27;, &#x27;NumberofBuildings&#x27;, &#x27;LargestPropertyUseTypeGFA&#x27;, &#x27;SecondLargestPropertyUseTypeGFA&#x27;, &#x27;ThirdLargestPropertyUseTypeGFA&#x27;, &#x27;ENERGYSTARScore&#x27;, &#x27;SiteEUI(kBtu/sf)&#x27;, &#x27;SourceEUI(kBtu/sf)&#x27;, &#x27;SiteEnergyUse(kBtu)&#x27;, &#x27;SteamUse(kBtu)&#x27;, &#x27;Electricity(kBtu)&#x27;, &#x27;NaturalGas(kBtu)&#x27;, &#x27;TotalGHGEmissions&#x27;]</pre></div></div></div><div class=\"sk-serial\"><div class=\"sk-item\"><div class=\"sk-serial\"><div class=\"sk-item\"><div class=\"sk-estimator sk-toggleable\"><input class=\"sk-toggleable__control sk-hidden--visually\" id=\"sk-estimator-id-471\" type=\"checkbox\" ><label for=\"sk-estimator-id-471\" class=\"sk-toggleable__label sk-toggleable__label-arrow\">SimpleImputer</label><div class=\"sk-toggleable__content\"><pre>SimpleImputer(strategy=&#x27;median&#x27;)</pre></div></div></div><div class=\"sk-item\"><div class=\"sk-estimator sk-toggleable\"><input class=\"sk-toggleable__control sk-hidden--visually\" id=\"sk-estimator-id-472\" type=\"checkbox\" ><label for=\"sk-estimator-id-472\" class=\"sk-toggleable__label sk-toggleable__label-arrow\">RobustScaler</label><div class=\"sk-toggleable__content\"><pre>RobustScaler()</pre></div></div></div></div></div></div></div></div><div class=\"sk-parallel-item\"><div class=\"sk-item\"><div class=\"sk-label-container\"><div class=\"sk-label sk-toggleable\"><input class=\"sk-toggleable__control sk-hidden--visually\" id=\"sk-estimator-id-473\" type=\"checkbox\" ><label for=\"sk-estimator-id-473\" class=\"sk-toggleable__label sk-toggleable__label-arrow\">pipeline-2</label><div class=\"sk-toggleable__content\"><pre>[&#x27;BuildingType&#x27;, &#x27;PrimaryPropertyType&#x27;, &#x27;Neighborhood&#x27;, &#x27;LargestPropertyUseType&#x27;, &#x27;SecondLargestPropertyUseType&#x27;]</pre></div></div></div><div class=\"sk-serial\"><div class=\"sk-item\"><div class=\"sk-serial\"><div class=\"sk-item\"><div class=\"sk-estimator sk-toggleable\"><input class=\"sk-toggleable__control sk-hidden--visually\" id=\"sk-estimator-id-474\" type=\"checkbox\" ><label for=\"sk-estimator-id-474\" class=\"sk-toggleable__label sk-toggleable__label-arrow\">SimpleImputer</label><div class=\"sk-toggleable__content\"><pre>SimpleImputer(strategy=&#x27;most_frequent&#x27;)</pre></div></div></div><div class=\"sk-item\"><div class=\"sk-estimator sk-toggleable\"><input class=\"sk-toggleable__control sk-hidden--visually\" id=\"sk-estimator-id-475\" type=\"checkbox\" ><label for=\"sk-estimator-id-475\" class=\"sk-toggleable__label sk-toggleable__label-arrow\">OneHotEncoder</label><div class=\"sk-toggleable__content\"><pre>OneHotEncoder(handle_unknown=&#x27;infrequent_if_exist&#x27;, sparse_output=False)</pre></div></div></div></div></div></div></div></div></div></div><div class=\"sk-item\"><div class=\"sk-estimator sk-toggleable\"><input class=\"sk-toggleable__control sk-hidden--visually\" id=\"sk-estimator-id-476\" type=\"checkbox\" ><label for=\"sk-estimator-id-476\" class=\"sk-toggleable__label sk-toggleable__label-arrow\">RandomForestRegressor</label><div class=\"sk-toggleable__content\"><pre>RandomForestRegressor()</pre></div></div></div></div></div></div></div></div></div></div></div></div>"
      ],
      "text/plain": [
       "GridSearchCV(cv=5,\n",
       "             estimator=Pipeline(steps=[('columntransformer',\n",
       "                                        ColumnTransformer(transformers=[('pipeline-1',\n",
       "                                                                         Pipeline(steps=[('simpleimputer',\n",
       "                                                                                          SimpleImputer(strategy='median')),\n",
       "                                                                                         ('robustscaler',\n",
       "                                                                                          RobustScaler())]),\n",
       "                                                                         ['Latitude',\n",
       "                                                                          'Longitude',\n",
       "                                                                          'NumberofBuildings',\n",
       "                                                                          'LargestPropertyUseTypeGFA',\n",
       "                                                                          'SecondLargestPropertyUseTypeGFA',\n",
       "                                                                          'ThirdLargestPropertyUseTypeGFA'...\n",
       "                                                                                          OneHotEncoder(handle_unknown='infrequent_if_exist',\n",
       "                                                                                                        sparse_output=False))]),\n",
       "                                                                         ['BuildingType',\n",
       "                                                                          'PrimaryPropertyType',\n",
       "                                                                          'Neighborhood',\n",
       "                                                                          'LargestPropertyUseType',\n",
       "                                                                          'SecondLargestPropertyUseType'])])),\n",
       "                                       ('randomforestregressor',\n",
       "                                        RandomForestRegressor())]),\n",
       "             param_grid={'randomforestregressor__max_depth': [2, 3, 4, 5, 6, 7,\n",
       "                                                              8],\n",
       "                         'randomforestregressor__n_estimators': [200, 400, 600,\n",
       "                                                                 800, 1000]})"
      ]
     },
     "execution_count": 680,
     "metadata": {},
     "output_type": "execute_result"
    }
   ],
   "source": [
    "grid.fit(X_train, y_train.ravel())"
   ]
  },
  {
   "cell_type": "code",
   "execution_count": 681,
   "id": "c6cf8143",
   "metadata": {},
   "outputs": [
    {
     "data": {
      "text/plain": [
       "{'mean_fit_time': array([ 0.70108056,  1.39296803,  2.0665194 ,  2.758464  ,  3.43768778,\n",
       "         0.96386633,  1.90455709,  2.84961271,  3.79271035,  4.7384798 ,\n",
       "         1.20540118,  2.41245995,  3.59853268,  4.79616041,  5.98892131,\n",
       "         1.44244661,  2.88433504,  4.33057723,  5.76446357,  7.20866499,\n",
       "         1.68716602,  3.34807134,  5.0476418 ,  6.69336662,  8.42395339,\n",
       "         1.92093177,  3.84236455,  5.71266894,  7.6570075 ,  9.58489585,\n",
       "         2.1866117 ,  4.3993124 ,  6.5456902 ,  8.55073261, 10.7821146 ]),\n",
       " 'std_fit_time': array([0.00757923, 0.01324572, 0.00571075, 0.01064429, 0.0186631 ,\n",
       "        0.01151718, 0.0048029 , 0.019426  , 0.02108895, 0.02544181,\n",
       "        0.00329127, 0.0215998 , 0.00902958, 0.02385119, 0.01056377,\n",
       "        0.0028087 , 0.00908946, 0.01345   , 0.03705685, 0.03117898,\n",
       "        0.01540338, 0.00726122, 0.04451947, 0.01314036, 0.07956826,\n",
       "        0.01811735, 0.0303541 , 0.01955104, 0.08226549, 0.08880367,\n",
       "        0.02106854, 0.0462877 , 0.01203667, 0.02846361, 0.08268312]),\n",
       " 'mean_score_time': array([0.01057677, 0.01833396, 0.02477551, 0.03208685, 0.03912902,\n",
       "        0.011482  , 0.0188889 , 0.02605348, 0.03371625, 0.04121175,\n",
       "        0.0114584 , 0.01999664, 0.0275743 , 0.03559065, 0.04379849,\n",
       "        0.01206055, 0.02097688, 0.02982736, 0.03837819, 0.09582906,\n",
       "        0.01313763, 0.02257795, 0.0325161 , 0.04186134, 0.05205822,\n",
       "        0.01388531, 0.02486863, 0.03512087, 0.04607172, 0.05739317,\n",
       "        0.01528111, 0.02776341, 0.03919477, 0.04978061, 0.06257305]),\n",
       " 'std_score_time': array([8.68989638e-05, 6.98018289e-04, 4.67684646e-05, 1.15798802e-04,\n",
       "        1.11059356e-04, 7.12482592e-04, 3.99267413e-04, 1.11099006e-04,\n",
       "        2.21833973e-04, 1.64051013e-04, 2.60176310e-04, 4.80396434e-04,\n",
       "        1.12943791e-04, 2.15585773e-04, 3.43763062e-04, 4.14847231e-05,\n",
       "        4.42053805e-04, 3.58232591e-04, 2.93437792e-04, 9.70090707e-02,\n",
       "        3.96944106e-04, 7.00933430e-05, 2.92353159e-04, 3.65196826e-04,\n",
       "        4.50852824e-04, 1.39325045e-04, 2.55402440e-04, 2.65835052e-04,\n",
       "        5.11545014e-04, 3.95559017e-04, 2.90550994e-04, 8.93667212e-04,\n",
       "        5.31664652e-04, 5.22817577e-04, 1.55780089e-03]),\n",
       " 'param_randomforestregressor__max_depth': masked_array(data=[2, 2, 2, 2, 2, 3, 3, 3, 3, 3, 4, 4, 4, 4, 4, 5, 5, 5,\n",
       "                    5, 5, 6, 6, 6, 6, 6, 7, 7, 7, 7, 7, 8, 8, 8, 8, 8],\n",
       "              mask=[False, False, False, False, False, False, False, False,\n",
       "                    False, False, False, False, False, False, False, False,\n",
       "                    False, False, False, False, False, False, False, False,\n",
       "                    False, False, False, False, False, False, False, False,\n",
       "                    False, False, False],\n",
       "        fill_value='?',\n",
       "             dtype=object),\n",
       " 'param_randomforestregressor__n_estimators': masked_array(data=[200, 400, 600, 800, 1000, 200, 400, 600, 800, 1000,\n",
       "                    200, 400, 600, 800, 1000, 200, 400, 600, 800, 1000,\n",
       "                    200, 400, 600, 800, 1000, 200, 400, 600, 800, 1000,\n",
       "                    200, 400, 600, 800, 1000],\n",
       "              mask=[False, False, False, False, False, False, False, False,\n",
       "                    False, False, False, False, False, False, False, False,\n",
       "                    False, False, False, False, False, False, False, False,\n",
       "                    False, False, False, False, False, False, False, False,\n",
       "                    False, False, False],\n",
       "        fill_value='?',\n",
       "             dtype=object),\n",
       " 'params': [{'randomforestregressor__max_depth': 2,\n",
       "   'randomforestregressor__n_estimators': 200},\n",
       "  {'randomforestregressor__max_depth': 2,\n",
       "   'randomforestregressor__n_estimators': 400},\n",
       "  {'randomforestregressor__max_depth': 2,\n",
       "   'randomforestregressor__n_estimators': 600},\n",
       "  {'randomforestregressor__max_depth': 2,\n",
       "   'randomforestregressor__n_estimators': 800},\n",
       "  {'randomforestregressor__max_depth': 2,\n",
       "   'randomforestregressor__n_estimators': 1000},\n",
       "  {'randomforestregressor__max_depth': 3,\n",
       "   'randomforestregressor__n_estimators': 200},\n",
       "  {'randomforestregressor__max_depth': 3,\n",
       "   'randomforestregressor__n_estimators': 400},\n",
       "  {'randomforestregressor__max_depth': 3,\n",
       "   'randomforestregressor__n_estimators': 600},\n",
       "  {'randomforestregressor__max_depth': 3,\n",
       "   'randomforestregressor__n_estimators': 800},\n",
       "  {'randomforestregressor__max_depth': 3,\n",
       "   'randomforestregressor__n_estimators': 1000},\n",
       "  {'randomforestregressor__max_depth': 4,\n",
       "   'randomforestregressor__n_estimators': 200},\n",
       "  {'randomforestregressor__max_depth': 4,\n",
       "   'randomforestregressor__n_estimators': 400},\n",
       "  {'randomforestregressor__max_depth': 4,\n",
       "   'randomforestregressor__n_estimators': 600},\n",
       "  {'randomforestregressor__max_depth': 4,\n",
       "   'randomforestregressor__n_estimators': 800},\n",
       "  {'randomforestregressor__max_depth': 4,\n",
       "   'randomforestregressor__n_estimators': 1000},\n",
       "  {'randomforestregressor__max_depth': 5,\n",
       "   'randomforestregressor__n_estimators': 200},\n",
       "  {'randomforestregressor__max_depth': 5,\n",
       "   'randomforestregressor__n_estimators': 400},\n",
       "  {'randomforestregressor__max_depth': 5,\n",
       "   'randomforestregressor__n_estimators': 600},\n",
       "  {'randomforestregressor__max_depth': 5,\n",
       "   'randomforestregressor__n_estimators': 800},\n",
       "  {'randomforestregressor__max_depth': 5,\n",
       "   'randomforestregressor__n_estimators': 1000},\n",
       "  {'randomforestregressor__max_depth': 6,\n",
       "   'randomforestregressor__n_estimators': 200},\n",
       "  {'randomforestregressor__max_depth': 6,\n",
       "   'randomforestregressor__n_estimators': 400},\n",
       "  {'randomforestregressor__max_depth': 6,\n",
       "   'randomforestregressor__n_estimators': 600},\n",
       "  {'randomforestregressor__max_depth': 6,\n",
       "   'randomforestregressor__n_estimators': 800},\n",
       "  {'randomforestregressor__max_depth': 6,\n",
       "   'randomforestregressor__n_estimators': 1000},\n",
       "  {'randomforestregressor__max_depth': 7,\n",
       "   'randomforestregressor__n_estimators': 200},\n",
       "  {'randomforestregressor__max_depth': 7,\n",
       "   'randomforestregressor__n_estimators': 400},\n",
       "  {'randomforestregressor__max_depth': 7,\n",
       "   'randomforestregressor__n_estimators': 600},\n",
       "  {'randomforestregressor__max_depth': 7,\n",
       "   'randomforestregressor__n_estimators': 800},\n",
       "  {'randomforestregressor__max_depth': 7,\n",
       "   'randomforestregressor__n_estimators': 1000},\n",
       "  {'randomforestregressor__max_depth': 8,\n",
       "   'randomforestregressor__n_estimators': 200},\n",
       "  {'randomforestregressor__max_depth': 8,\n",
       "   'randomforestregressor__n_estimators': 400},\n",
       "  {'randomforestregressor__max_depth': 8,\n",
       "   'randomforestregressor__n_estimators': 600},\n",
       "  {'randomforestregressor__max_depth': 8,\n",
       "   'randomforestregressor__n_estimators': 800},\n",
       "  {'randomforestregressor__max_depth': 8,\n",
       "   'randomforestregressor__n_estimators': 1000}],\n",
       " 'split0_test_score': array([0.5722424 , 0.57626362, 0.56954048, 0.57280656, 0.5689972 ,\n",
       "        0.59599804, 0.64473143, 0.65674265, 0.6369315 , 0.62822849,\n",
       "        0.72567865, 0.70026703, 0.71186686, 0.71389537, 0.72057794,\n",
       "        0.74831753, 0.73891907, 0.74721594, 0.74376993, 0.74896452,\n",
       "        0.73137221, 0.76553511, 0.74673169, 0.75706849, 0.75890382,\n",
       "        0.76604747, 0.75649028, 0.75772595, 0.77270356, 0.77313704,\n",
       "        0.79367218, 0.7669039 , 0.75836398, 0.76104973, 0.75210928]),\n",
       " 'split1_test_score': array([0.57085534, 0.57717922, 0.57071171, 0.57657537, 0.57051004,\n",
       "        0.69329762, 0.69138819, 0.68992805, 0.68739223, 0.68863371,\n",
       "        0.74216951, 0.73984511, 0.74244599, 0.74296412, 0.74479825,\n",
       "        0.78092982, 0.7875772 , 0.78036033, 0.78388327, 0.78237487,\n",
       "        0.8023466 , 0.8059305 , 0.80552128, 0.81019575, 0.80723929,\n",
       "        0.82648658, 0.82276921, 0.82307539, 0.81945144, 0.82226521,\n",
       "        0.82884254, 0.82661963, 0.82718413, 0.82537912, 0.82821436]),\n",
       " 'split2_test_score': array([0.57130037, 0.57017573, 0.5645548 , 0.56894033, 0.56840143,\n",
       "        0.67817577, 0.681849  , 0.67709962, 0.67876801, 0.68015036,\n",
       "        0.73198454, 0.7277244 , 0.7301734 , 0.72645188, 0.73460786,\n",
       "        0.76063268, 0.75780408, 0.75616385, 0.75975005, 0.75811456,\n",
       "        0.76934925, 0.77270497, 0.7743265 , 0.76829784, 0.76787543,\n",
       "        0.77700401, 0.77763778, 0.77584419, 0.78241767, 0.7783766 ,\n",
       "        0.77481935, 0.7827905 , 0.78459629, 0.77961574, 0.78052592]),\n",
       " 'split3_test_score': array([0.64312258, 0.64083654, 0.64170383, 0.64326345, 0.63983892,\n",
       "        0.75046162, 0.74775485, 0.75027605, 0.75234563, 0.75193232,\n",
       "        0.79681629, 0.80138515, 0.80144045, 0.80270327, 0.80309586,\n",
       "        0.83557026, 0.8295222 , 0.82822965, 0.83388303, 0.82967522,\n",
       "        0.84003463, 0.8400791 , 0.84675865, 0.84496747, 0.8464997 ,\n",
       "        0.85362038, 0.85509206, 0.85277619, 0.85280328, 0.85598255,\n",
       "        0.85233213, 0.86381072, 0.86533712, 0.8599169 , 0.85874076]),\n",
       " 'split4_test_score': array([0.62498375, 0.61336064, 0.61752517, 0.60663128, 0.61832471,\n",
       "        0.72801682, 0.71266354, 0.72605617, 0.72044018, 0.72047484,\n",
       "        0.79000085, 0.7700916 , 0.77642598, 0.78049279, 0.77779193,\n",
       "        0.8101696 , 0.81263182, 0.80404877, 0.81529082, 0.80963356,\n",
       "        0.8279375 , 0.83301453, 0.82684957, 0.82961373, 0.82857862,\n",
       "        0.83038507, 0.83907051, 0.83299803, 0.84267225, 0.83664263,\n",
       "        0.84291242, 0.83822647, 0.84044744, 0.84033399, 0.84267293]),\n",
       " 'mean_test_score': array([0.59650089, 0.59556315, 0.5928072 , 0.5936434 , 0.59321446,\n",
       "        0.68918997, 0.6956774 , 0.70002051, 0.69517551, 0.69388394,\n",
       "        0.75732997, 0.74786266, 0.75247054, 0.75330149, 0.75617437,\n",
       "        0.78712398, 0.78529087, 0.78320371, 0.78731542, 0.78575255,\n",
       "        0.79420804, 0.80345284, 0.80003754, 0.80202866, 0.80181937,\n",
       "        0.8107087 , 0.81021197, 0.80848395, 0.81400964, 0.8132808 ,\n",
       "        0.81851572, 0.81567024, 0.81518579, 0.8132591 , 0.81245265]),\n",
       " 'std_test_score': array([0.03119644, 0.02728147, 0.03107928, 0.02816582, 0.0300733 ,\n",
       "        0.05307478, 0.03407551, 0.03377476, 0.03906117, 0.04148133,\n",
       "        0.03000197, 0.03491119, 0.0323055 , 0.03334819, 0.03010177,\n",
       "        0.03201325, 0.03351129, 0.02998737, 0.03352314, 0.0304241 ,\n",
       "        0.0396744 , 0.030347  , 0.03587308, 0.03414839, 0.03386946,\n",
       "        0.03349073, 0.03728759, 0.03582564, 0.03181305, 0.03249541,\n",
       "        0.02957014, 0.03579221, 0.03863082, 0.0371876 , 0.03991222]),\n",
       " 'rank_test_score': array([31, 32, 35, 33, 34, 30, 27, 26, 28, 29, 21, 25, 24, 23, 22, 17, 19,\n",
       "        20, 16, 18, 15, 11, 14, 12, 13,  8,  9, 10,  4,  5,  1,  2,  3,  6,\n",
       "         7], dtype=int32)}"
      ]
     },
     "execution_count": 681,
     "metadata": {},
     "output_type": "execute_result"
    }
   ],
   "source": [
    "grid.cv_results_"
   ]
  },
  {
   "cell_type": "code",
   "execution_count": 682,
   "id": "090b005b",
   "metadata": {},
   "outputs": [
    {
     "data": {
      "text/plain": [
       "{'randomforestregressor__max_depth': 8,\n",
       " 'randomforestregressor__n_estimators': 200}"
      ]
     },
     "execution_count": 682,
     "metadata": {},
     "output_type": "execute_result"
    }
   ],
   "source": [
    "grid.best_params_"
   ]
  },
  {
   "cell_type": "code",
   "execution_count": 683,
   "id": "20e345ae",
   "metadata": {},
   "outputs": [
    {
     "data": {
      "text/html": [
       "<style>#sk-container-id-50 {color: black;background-color: white;}#sk-container-id-50 pre{padding: 0;}#sk-container-id-50 div.sk-toggleable {background-color: white;}#sk-container-id-50 label.sk-toggleable__label {cursor: pointer;display: block;width: 100%;margin-bottom: 0;padding: 0.3em;box-sizing: border-box;text-align: center;}#sk-container-id-50 label.sk-toggleable__label-arrow:before {content: \"▸\";float: left;margin-right: 0.25em;color: #696969;}#sk-container-id-50 label.sk-toggleable__label-arrow:hover:before {color: black;}#sk-container-id-50 div.sk-estimator:hover label.sk-toggleable__label-arrow:before {color: black;}#sk-container-id-50 div.sk-toggleable__content {max-height: 0;max-width: 0;overflow: hidden;text-align: left;background-color: #f0f8ff;}#sk-container-id-50 div.sk-toggleable__content pre {margin: 0.2em;color: black;border-radius: 0.25em;background-color: #f0f8ff;}#sk-container-id-50 input.sk-toggleable__control:checked~div.sk-toggleable__content {max-height: 200px;max-width: 100%;overflow: auto;}#sk-container-id-50 input.sk-toggleable__control:checked~label.sk-toggleable__label-arrow:before {content: \"▾\";}#sk-container-id-50 div.sk-estimator input.sk-toggleable__control:checked~label.sk-toggleable__label {background-color: #d4ebff;}#sk-container-id-50 div.sk-label input.sk-toggleable__control:checked~label.sk-toggleable__label {background-color: #d4ebff;}#sk-container-id-50 input.sk-hidden--visually {border: 0;clip: rect(1px 1px 1px 1px);clip: rect(1px, 1px, 1px, 1px);height: 1px;margin: -1px;overflow: hidden;padding: 0;position: absolute;width: 1px;}#sk-container-id-50 div.sk-estimator {font-family: monospace;background-color: #f0f8ff;border: 1px dotted black;border-radius: 0.25em;box-sizing: border-box;margin-bottom: 0.5em;}#sk-container-id-50 div.sk-estimator:hover {background-color: #d4ebff;}#sk-container-id-50 div.sk-parallel-item::after {content: \"\";width: 100%;border-bottom: 1px solid gray;flex-grow: 1;}#sk-container-id-50 div.sk-label:hover label.sk-toggleable__label {background-color: #d4ebff;}#sk-container-id-50 div.sk-serial::before {content: \"\";position: absolute;border-left: 1px solid gray;box-sizing: border-box;top: 0;bottom: 0;left: 50%;z-index: 0;}#sk-container-id-50 div.sk-serial {display: flex;flex-direction: column;align-items: center;background-color: white;padding-right: 0.2em;padding-left: 0.2em;position: relative;}#sk-container-id-50 div.sk-item {position: relative;z-index: 1;}#sk-container-id-50 div.sk-parallel {display: flex;align-items: stretch;justify-content: center;background-color: white;position: relative;}#sk-container-id-50 div.sk-item::before, #sk-container-id-50 div.sk-parallel-item::before {content: \"\";position: absolute;border-left: 1px solid gray;box-sizing: border-box;top: 0;bottom: 0;left: 50%;z-index: -1;}#sk-container-id-50 div.sk-parallel-item {display: flex;flex-direction: column;z-index: 1;position: relative;background-color: white;}#sk-container-id-50 div.sk-parallel-item:first-child::after {align-self: flex-end;width: 50%;}#sk-container-id-50 div.sk-parallel-item:last-child::after {align-self: flex-start;width: 50%;}#sk-container-id-50 div.sk-parallel-item:only-child::after {width: 0;}#sk-container-id-50 div.sk-dashed-wrapped {border: 1px dashed gray;margin: 0 0.4em 0.5em 0.4em;box-sizing: border-box;padding-bottom: 0.4em;background-color: white;}#sk-container-id-50 div.sk-label label {font-family: monospace;font-weight: bold;display: inline-block;line-height: 1.2em;}#sk-container-id-50 div.sk-label-container {text-align: center;}#sk-container-id-50 div.sk-container {/* jupyter's `normalize.less` sets `[hidden] { display: none; }` but bootstrap.min.css set `[hidden] { display: none !important; }` so we also need the `!important` here to be able to override the default hidden behavior on the sphinx rendered scikit-learn.org. See: https://github.com/scikit-learn/scikit-learn/issues/21755 */display: inline-block !important;position: relative;}#sk-container-id-50 div.sk-text-repr-fallback {display: none;}</style><div id=\"sk-container-id-50\" class=\"sk-top-container\"><div class=\"sk-text-repr-fallback\"><pre>Pipeline(steps=[(&#x27;columntransformer&#x27;,\n",
       "                 ColumnTransformer(transformers=[(&#x27;pipeline-1&#x27;,\n",
       "                                                  Pipeline(steps=[(&#x27;simpleimputer&#x27;,\n",
       "                                                                   SimpleImputer(strategy=&#x27;median&#x27;)),\n",
       "                                                                  (&#x27;robustscaler&#x27;,\n",
       "                                                                   RobustScaler())]),\n",
       "                                                  [&#x27;Latitude&#x27;, &#x27;Longitude&#x27;,\n",
       "                                                   &#x27;NumberofBuildings&#x27;,\n",
       "                                                   &#x27;LargestPropertyUseTypeGFA&#x27;,\n",
       "                                                   &#x27;SecondLargestPropertyUseTypeGFA&#x27;,\n",
       "                                                   &#x27;ThirdLargestPropertyUseTypeGFA&#x27;,\n",
       "                                                   &#x27;ENERGYSTARScore&#x27;,\n",
       "                                                   &#x27;SiteEUI(...\n",
       "                                                  Pipeline(steps=[(&#x27;simpleimputer&#x27;,\n",
       "                                                                   SimpleImputer(strategy=&#x27;most_frequent&#x27;)),\n",
       "                                                                  (&#x27;onehotencoder&#x27;,\n",
       "                                                                   OneHotEncoder(handle_unknown=&#x27;infrequent_if_exist&#x27;,\n",
       "                                                                                 sparse_output=False))]),\n",
       "                                                  [&#x27;BuildingType&#x27;,\n",
       "                                                   &#x27;PrimaryPropertyType&#x27;,\n",
       "                                                   &#x27;Neighborhood&#x27;,\n",
       "                                                   &#x27;LargestPropertyUseType&#x27;,\n",
       "                                                   &#x27;SecondLargestPropertyUseType&#x27;])])),\n",
       "                (&#x27;randomforestregressor&#x27;,\n",
       "                 RandomForestRegressor(max_depth=8, n_estimators=200))])</pre><b>In a Jupyter environment, please rerun this cell to show the HTML representation or trust the notebook. <br />On GitHub, the HTML representation is unable to render, please try loading this page with nbviewer.org.</b></div><div class=\"sk-container\" hidden><div class=\"sk-item sk-dashed-wrapped\"><div class=\"sk-label-container\"><div class=\"sk-label sk-toggleable\"><input class=\"sk-toggleable__control sk-hidden--visually\" id=\"sk-estimator-id-477\" type=\"checkbox\" ><label for=\"sk-estimator-id-477\" class=\"sk-toggleable__label sk-toggleable__label-arrow\">Pipeline</label><div class=\"sk-toggleable__content\"><pre>Pipeline(steps=[(&#x27;columntransformer&#x27;,\n",
       "                 ColumnTransformer(transformers=[(&#x27;pipeline-1&#x27;,\n",
       "                                                  Pipeline(steps=[(&#x27;simpleimputer&#x27;,\n",
       "                                                                   SimpleImputer(strategy=&#x27;median&#x27;)),\n",
       "                                                                  (&#x27;robustscaler&#x27;,\n",
       "                                                                   RobustScaler())]),\n",
       "                                                  [&#x27;Latitude&#x27;, &#x27;Longitude&#x27;,\n",
       "                                                   &#x27;NumberofBuildings&#x27;,\n",
       "                                                   &#x27;LargestPropertyUseTypeGFA&#x27;,\n",
       "                                                   &#x27;SecondLargestPropertyUseTypeGFA&#x27;,\n",
       "                                                   &#x27;ThirdLargestPropertyUseTypeGFA&#x27;,\n",
       "                                                   &#x27;ENERGYSTARScore&#x27;,\n",
       "                                                   &#x27;SiteEUI(...\n",
       "                                                  Pipeline(steps=[(&#x27;simpleimputer&#x27;,\n",
       "                                                                   SimpleImputer(strategy=&#x27;most_frequent&#x27;)),\n",
       "                                                                  (&#x27;onehotencoder&#x27;,\n",
       "                                                                   OneHotEncoder(handle_unknown=&#x27;infrequent_if_exist&#x27;,\n",
       "                                                                                 sparse_output=False))]),\n",
       "                                                  [&#x27;BuildingType&#x27;,\n",
       "                                                   &#x27;PrimaryPropertyType&#x27;,\n",
       "                                                   &#x27;Neighborhood&#x27;,\n",
       "                                                   &#x27;LargestPropertyUseType&#x27;,\n",
       "                                                   &#x27;SecondLargestPropertyUseType&#x27;])])),\n",
       "                (&#x27;randomforestregressor&#x27;,\n",
       "                 RandomForestRegressor(max_depth=8, n_estimators=200))])</pre></div></div></div><div class=\"sk-serial\"><div class=\"sk-item sk-dashed-wrapped\"><div class=\"sk-label-container\"><div class=\"sk-label sk-toggleable\"><input class=\"sk-toggleable__control sk-hidden--visually\" id=\"sk-estimator-id-478\" type=\"checkbox\" ><label for=\"sk-estimator-id-478\" class=\"sk-toggleable__label sk-toggleable__label-arrow\">columntransformer: ColumnTransformer</label><div class=\"sk-toggleable__content\"><pre>ColumnTransformer(transformers=[(&#x27;pipeline-1&#x27;,\n",
       "                                 Pipeline(steps=[(&#x27;simpleimputer&#x27;,\n",
       "                                                  SimpleImputer(strategy=&#x27;median&#x27;)),\n",
       "                                                 (&#x27;robustscaler&#x27;,\n",
       "                                                  RobustScaler())]),\n",
       "                                 [&#x27;Latitude&#x27;, &#x27;Longitude&#x27;, &#x27;NumberofBuildings&#x27;,\n",
       "                                  &#x27;LargestPropertyUseTypeGFA&#x27;,\n",
       "                                  &#x27;SecondLargestPropertyUseTypeGFA&#x27;,\n",
       "                                  &#x27;ThirdLargestPropertyUseTypeGFA&#x27;,\n",
       "                                  &#x27;ENERGYSTARScore&#x27;, &#x27;SiteEUI(kBtu/sf)&#x27;,\n",
       "                                  &#x27;SourceEUI(kBtu/sf)&#x27;, &#x27;SiteE...\n",
       "                                  &#x27;SteamUse(kBtu)&#x27;, &#x27;Electricity(kBtu)&#x27;,\n",
       "                                  &#x27;NaturalGas(kBtu)&#x27;, &#x27;TotalGHGEmissions&#x27;]),\n",
       "                                (&#x27;pipeline-2&#x27;,\n",
       "                                 Pipeline(steps=[(&#x27;simpleimputer&#x27;,\n",
       "                                                  SimpleImputer(strategy=&#x27;most_frequent&#x27;)),\n",
       "                                                 (&#x27;onehotencoder&#x27;,\n",
       "                                                  OneHotEncoder(handle_unknown=&#x27;infrequent_if_exist&#x27;,\n",
       "                                                                sparse_output=False))]),\n",
       "                                 [&#x27;BuildingType&#x27;, &#x27;PrimaryPropertyType&#x27;,\n",
       "                                  &#x27;Neighborhood&#x27;, &#x27;LargestPropertyUseType&#x27;,\n",
       "                                  &#x27;SecondLargestPropertyUseType&#x27;])])</pre></div></div></div><div class=\"sk-parallel\"><div class=\"sk-parallel-item\"><div class=\"sk-item\"><div class=\"sk-label-container\"><div class=\"sk-label sk-toggleable\"><input class=\"sk-toggleable__control sk-hidden--visually\" id=\"sk-estimator-id-479\" type=\"checkbox\" ><label for=\"sk-estimator-id-479\" class=\"sk-toggleable__label sk-toggleable__label-arrow\">pipeline-1</label><div class=\"sk-toggleable__content\"><pre>[&#x27;Latitude&#x27;, &#x27;Longitude&#x27;, &#x27;NumberofBuildings&#x27;, &#x27;LargestPropertyUseTypeGFA&#x27;, &#x27;SecondLargestPropertyUseTypeGFA&#x27;, &#x27;ThirdLargestPropertyUseTypeGFA&#x27;, &#x27;ENERGYSTARScore&#x27;, &#x27;SiteEUI(kBtu/sf)&#x27;, &#x27;SourceEUI(kBtu/sf)&#x27;, &#x27;SiteEnergyUse(kBtu)&#x27;, &#x27;SteamUse(kBtu)&#x27;, &#x27;Electricity(kBtu)&#x27;, &#x27;NaturalGas(kBtu)&#x27;, &#x27;TotalGHGEmissions&#x27;]</pre></div></div></div><div class=\"sk-serial\"><div class=\"sk-item\"><div class=\"sk-serial\"><div class=\"sk-item\"><div class=\"sk-estimator sk-toggleable\"><input class=\"sk-toggleable__control sk-hidden--visually\" id=\"sk-estimator-id-480\" type=\"checkbox\" ><label for=\"sk-estimator-id-480\" class=\"sk-toggleable__label sk-toggleable__label-arrow\">SimpleImputer</label><div class=\"sk-toggleable__content\"><pre>SimpleImputer(strategy=&#x27;median&#x27;)</pre></div></div></div><div class=\"sk-item\"><div class=\"sk-estimator sk-toggleable\"><input class=\"sk-toggleable__control sk-hidden--visually\" id=\"sk-estimator-id-481\" type=\"checkbox\" ><label for=\"sk-estimator-id-481\" class=\"sk-toggleable__label sk-toggleable__label-arrow\">RobustScaler</label><div class=\"sk-toggleable__content\"><pre>RobustScaler()</pre></div></div></div></div></div></div></div></div><div class=\"sk-parallel-item\"><div class=\"sk-item\"><div class=\"sk-label-container\"><div class=\"sk-label sk-toggleable\"><input class=\"sk-toggleable__control sk-hidden--visually\" id=\"sk-estimator-id-482\" type=\"checkbox\" ><label for=\"sk-estimator-id-482\" class=\"sk-toggleable__label sk-toggleable__label-arrow\">pipeline-2</label><div class=\"sk-toggleable__content\"><pre>[&#x27;BuildingType&#x27;, &#x27;PrimaryPropertyType&#x27;, &#x27;Neighborhood&#x27;, &#x27;LargestPropertyUseType&#x27;, &#x27;SecondLargestPropertyUseType&#x27;]</pre></div></div></div><div class=\"sk-serial\"><div class=\"sk-item\"><div class=\"sk-serial\"><div class=\"sk-item\"><div class=\"sk-estimator sk-toggleable\"><input class=\"sk-toggleable__control sk-hidden--visually\" id=\"sk-estimator-id-483\" type=\"checkbox\" ><label for=\"sk-estimator-id-483\" class=\"sk-toggleable__label sk-toggleable__label-arrow\">SimpleImputer</label><div class=\"sk-toggleable__content\"><pre>SimpleImputer(strategy=&#x27;most_frequent&#x27;)</pre></div></div></div><div class=\"sk-item\"><div class=\"sk-estimator sk-toggleable\"><input class=\"sk-toggleable__control sk-hidden--visually\" id=\"sk-estimator-id-484\" type=\"checkbox\" ><label for=\"sk-estimator-id-484\" class=\"sk-toggleable__label sk-toggleable__label-arrow\">OneHotEncoder</label><div class=\"sk-toggleable__content\"><pre>OneHotEncoder(handle_unknown=&#x27;infrequent_if_exist&#x27;, sparse_output=False)</pre></div></div></div></div></div></div></div></div></div></div><div class=\"sk-item\"><div class=\"sk-estimator sk-toggleable\"><input class=\"sk-toggleable__control sk-hidden--visually\" id=\"sk-estimator-id-485\" type=\"checkbox\" ><label for=\"sk-estimator-id-485\" class=\"sk-toggleable__label sk-toggleable__label-arrow\">RandomForestRegressor</label><div class=\"sk-toggleable__content\"><pre>RandomForestRegressor(max_depth=8, n_estimators=200)</pre></div></div></div></div></div></div></div>"
      ],
      "text/plain": [
       "Pipeline(steps=[('columntransformer',\n",
       "                 ColumnTransformer(transformers=[('pipeline-1',\n",
       "                                                  Pipeline(steps=[('simpleimputer',\n",
       "                                                                   SimpleImputer(strategy='median')),\n",
       "                                                                  ('robustscaler',\n",
       "                                                                   RobustScaler())]),\n",
       "                                                  ['Latitude', 'Longitude',\n",
       "                                                   'NumberofBuildings',\n",
       "                                                   'LargestPropertyUseTypeGFA',\n",
       "                                                   'SecondLargestPropertyUseTypeGFA',\n",
       "                                                   'ThirdLargestPropertyUseTypeGFA',\n",
       "                                                   'ENERGYSTARScore',\n",
       "                                                   'SiteEUI(...\n",
       "                                                  Pipeline(steps=[('simpleimputer',\n",
       "                                                                   SimpleImputer(strategy='most_frequent')),\n",
       "                                                                  ('onehotencoder',\n",
       "                                                                   OneHotEncoder(handle_unknown='infrequent_if_exist',\n",
       "                                                                                 sparse_output=False))]),\n",
       "                                                  ['BuildingType',\n",
       "                                                   'PrimaryPropertyType',\n",
       "                                                   'Neighborhood',\n",
       "                                                   'LargestPropertyUseType',\n",
       "                                                   'SecondLargestPropertyUseType'])])),\n",
       "                ('randomforestregressor',\n",
       "                 RandomForestRegressor(max_depth=8, n_estimators=200))])"
      ]
     },
     "execution_count": 683,
     "metadata": {},
     "output_type": "execute_result"
    }
   ],
   "source": [
    "grid.best_estimator_"
   ]
  },
  {
   "cell_type": "markdown",
   "id": "8babcab7",
   "metadata": {},
   "source": [
    "### Score"
   ]
  },
  {
   "cell_type": "code",
   "execution_count": 684,
   "id": "6d49e753",
   "metadata": {},
   "outputs": [
    {
     "data": {
      "text/plain": [
       "0.6619087471551575"
      ]
     },
     "execution_count": 684,
     "metadata": {},
     "output_type": "execute_result"
    }
   ],
   "source": [
    "grid.score(X_test, y_test)"
   ]
  },
  {
   "cell_type": "code",
   "execution_count": 685,
   "id": "c26bdd38",
   "metadata": {
    "scrolled": true
   },
   "outputs": [
    {
     "name": "stdout",
     "output_type": "stream",
     "text": [
      "(669,)\n",
      "(669,)\n"
     ]
    }
   ],
   "source": [
    "y_rf_pred_opt = grid.predict(X_test)\n",
    "print(y_pred.shape)\n",
    "print(y_test.shape)"
   ]
  },
  {
   "cell_type": "code",
   "execution_count": 686,
   "id": "70e846db",
   "metadata": {},
   "outputs": [
    {
     "name": "stdout",
     "output_type": "stream",
     "text": [
      "['actuals_rf', 'pred_rf_reg', 'pred_rf_opt']\n"
     ]
    }
   ],
   "source": [
    "d_= {'actuals_rf': y_test, 'pred_rf_reg': y_rf_pred_reg,'pred_rf_opt': y_rf_pred_opt}\n",
    "l_keys = list(d_.keys())\n",
    "print(l_keys)"
   ]
  },
  {
   "cell_type": "code",
   "execution_count": 687,
   "id": "5603a80f",
   "metadata": {},
   "outputs": [],
   "source": [
    "df_rf = pd.DataFrame(d_)"
   ]
  },
  {
   "cell_type": "code",
   "execution_count": 688,
   "id": "44e900a2",
   "metadata": {
    "scrolled": true
   },
   "outputs": [
    {
     "data": {
      "text/html": [
       "<div>\n",
       "<style scoped>\n",
       "    .dataframe tbody tr th:only-of-type {\n",
       "        vertical-align: middle;\n",
       "    }\n",
       "\n",
       "    .dataframe tbody tr th {\n",
       "        vertical-align: top;\n",
       "    }\n",
       "\n",
       "    .dataframe thead th {\n",
       "        text-align: right;\n",
       "    }\n",
       "</style>\n",
       "<table border=\"1\" class=\"dataframe\">\n",
       "  <thead>\n",
       "    <tr style=\"text-align: right;\">\n",
       "      <th></th>\n",
       "      <th>actuals_rf</th>\n",
       "      <th>pred_rf_reg</th>\n",
       "      <th>pred_rf_opt</th>\n",
       "    </tr>\n",
       "  </thead>\n",
       "  <tbody>\n",
       "    <tr>\n",
       "      <th>0</th>\n",
       "      <td>0.513043</td>\n",
       "      <td>0.870696</td>\n",
       "      <td>0.941216</td>\n",
       "    </tr>\n",
       "    <tr>\n",
       "      <th>1</th>\n",
       "      <td>0.686957</td>\n",
       "      <td>0.835852</td>\n",
       "      <td>0.889932</td>\n",
       "    </tr>\n",
       "    <tr>\n",
       "      <th>2</th>\n",
       "      <td>0.313043</td>\n",
       "      <td>0.147913</td>\n",
       "      <td>0.181364</td>\n",
       "    </tr>\n",
       "    <tr>\n",
       "      <th>3</th>\n",
       "      <td>-0.365217</td>\n",
       "      <td>-0.347522</td>\n",
       "      <td>-0.361179</td>\n",
       "    </tr>\n",
       "    <tr>\n",
       "      <th>4</th>\n",
       "      <td>0.521739</td>\n",
       "      <td>3.015600</td>\n",
       "      <td>3.124024</td>\n",
       "    </tr>\n",
       "  </tbody>\n",
       "</table>\n",
       "</div>"
      ],
      "text/plain": [
       "   actuals_rf  pred_rf_reg  pred_rf_opt\n",
       "0    0.513043     0.870696     0.941216\n",
       "1    0.686957     0.835852     0.889932\n",
       "2    0.313043     0.147913     0.181364\n",
       "3   -0.365217    -0.347522    -0.361179\n",
       "4    0.521739     3.015600     3.124024"
      ]
     },
     "execution_count": 688,
     "metadata": {},
     "output_type": "execute_result"
    }
   ],
   "source": [
    "df_rf.head()"
   ]
  },
  {
   "cell_type": "code",
   "execution_count": 689,
   "id": "4cb753fb",
   "metadata": {},
   "outputs": [],
   "source": [
    "# Visualisation\n",
    "\n",
    "def vis(df_rf):\n",
    "    fig, axes = plt.subplots(1, 1, figsize=(6, 4))\n",
    "    \n",
    "    sns.scatterplot(data=df_rf, x=l_keys[0], y=l_keys[1], label='non opt.')\n",
    "    \n",
    "    sns.scatterplot(data=df_rf, x=l_keys[0], y=l_keys[2], label='opt.')\n",
    "    \n",
    "    plt.legend()\n",
    "    plt.xticks(fontsize=7, rotation=45)\n",
    "    plt.yticks(fontsize=7, rotation=45)\n",
    "    plt.title('RF - act. vs. pred - GHGEmissionsIntensity (avt/ap opt)')\n",
    "    plt.show()\n",
    "    \n",
    "    return\n"
   ]
  },
  {
   "cell_type": "code",
   "execution_count": 690,
   "id": "e372bac4",
   "metadata": {
    "scrolled": true
   },
   "outputs": [
    {
     "data": {
      "image/png": "[encoded data removed]",
      "text/plain": [
       "<Figure size 600x400 with 1 Axes>"
      ]
     },
     "metadata": {},
     "output_type": "display_data"
    }
   ],
   "source": [
    "vis(df_rf)"
   ]
  },
  {
   "cell_type": "markdown",
   "id": "212474ee",
   "metadata": {},
   "source": [
    "### Classement des variables (Feature importance)"
   ]
  },
  {
   "cell_type": "code",
   "execution_count": 691,
   "id": "c8e1d1b4",
   "metadata": {},
   "outputs": [
    {
     "name": "stderr",
     "output_type": "stream",
     "text": [
      "/Users/olivierdebeyssac/opt/anaconda3/lib/python3.9/site-packages/sklearn/pipeline.py:406: DataConversionWarning: A column-vector y was passed when a 1d array was expected. Please change the shape of y to (n_samples,), for example using ravel().\n",
      "  self._final_estimator.fit(Xt, y, **fit_params_last_step)\n"
     ]
    },
    {
     "data": {
      "text/html": [
       "<style>#sk-container-id-51 {color: black;background-color: white;}#sk-container-id-51 pre{padding: 0;}#sk-container-id-51 div.sk-toggleable {background-color: white;}#sk-container-id-51 label.sk-toggleable__label {cursor: pointer;display: block;width: 100%;margin-bottom: 0;padding: 0.3em;box-sizing: border-box;text-align: center;}#sk-container-id-51 label.sk-toggleable__label-arrow:before {content: \"▸\";float: left;margin-right: 0.25em;color: #696969;}#sk-container-id-51 label.sk-toggleable__label-arrow:hover:before {color: black;}#sk-container-id-51 div.sk-estimator:hover label.sk-toggleable__label-arrow:before {color: black;}#sk-container-id-51 div.sk-toggleable__content {max-height: 0;max-width: 0;overflow: hidden;text-align: left;background-color: #f0f8ff;}#sk-container-id-51 div.sk-toggleable__content pre {margin: 0.2em;color: black;border-radius: 0.25em;background-color: #f0f8ff;}#sk-container-id-51 input.sk-toggleable__control:checked~div.sk-toggleable__content {max-height: 200px;max-width: 100%;overflow: auto;}#sk-container-id-51 input.sk-toggleable__control:checked~label.sk-toggleable__label-arrow:before {content: \"▾\";}#sk-container-id-51 div.sk-estimator input.sk-toggleable__control:checked~label.sk-toggleable__label {background-color: #d4ebff;}#sk-container-id-51 div.sk-label input.sk-toggleable__control:checked~label.sk-toggleable__label {background-color: #d4ebff;}#sk-container-id-51 input.sk-hidden--visually {border: 0;clip: rect(1px 1px 1px 1px);clip: rect(1px, 1px, 1px, 1px);height: 1px;margin: -1px;overflow: hidden;padding: 0;position: absolute;width: 1px;}#sk-container-id-51 div.sk-estimator {font-family: monospace;background-color: #f0f8ff;border: 1px dotted black;border-radius: 0.25em;box-sizing: border-box;margin-bottom: 0.5em;}#sk-container-id-51 div.sk-estimator:hover {background-color: #d4ebff;}#sk-container-id-51 div.sk-parallel-item::after {content: \"\";width: 100%;border-bottom: 1px solid gray;flex-grow: 1;}#sk-container-id-51 div.sk-label:hover label.sk-toggleable__label {background-color: #d4ebff;}#sk-container-id-51 div.sk-serial::before {content: \"\";position: absolute;border-left: 1px solid gray;box-sizing: border-box;top: 0;bottom: 0;left: 50%;z-index: 0;}#sk-container-id-51 div.sk-serial {display: flex;flex-direction: column;align-items: center;background-color: white;padding-right: 0.2em;padding-left: 0.2em;position: relative;}#sk-container-id-51 div.sk-item {position: relative;z-index: 1;}#sk-container-id-51 div.sk-parallel {display: flex;align-items: stretch;justify-content: center;background-color: white;position: relative;}#sk-container-id-51 div.sk-item::before, #sk-container-id-51 div.sk-parallel-item::before {content: \"\";position: absolute;border-left: 1px solid gray;box-sizing: border-box;top: 0;bottom: 0;left: 50%;z-index: -1;}#sk-container-id-51 div.sk-parallel-item {display: flex;flex-direction: column;z-index: 1;position: relative;background-color: white;}#sk-container-id-51 div.sk-parallel-item:first-child::after {align-self: flex-end;width: 50%;}#sk-container-id-51 div.sk-parallel-item:last-child::after {align-self: flex-start;width: 50%;}#sk-container-id-51 div.sk-parallel-item:only-child::after {width: 0;}#sk-container-id-51 div.sk-dashed-wrapped {border: 1px dashed gray;margin: 0 0.4em 0.5em 0.4em;box-sizing: border-box;padding-bottom: 0.4em;background-color: white;}#sk-container-id-51 div.sk-label label {font-family: monospace;font-weight: bold;display: inline-block;line-height: 1.2em;}#sk-container-id-51 div.sk-label-container {text-align: center;}#sk-container-id-51 div.sk-container {/* jupyter's `normalize.less` sets `[hidden] { display: none; }` but bootstrap.min.css set `[hidden] { display: none !important; }` so we also need the `!important` here to be able to override the default hidden behavior on the sphinx rendered scikit-learn.org. See: https://github.com/scikit-learn/scikit-learn/issues/21755 */display: inline-block !important;position: relative;}#sk-container-id-51 div.sk-text-repr-fallback {display: none;}</style><div id=\"sk-container-id-51\" class=\"sk-top-container\"><div class=\"sk-text-repr-fallback\"><pre>Pipeline(steps=[(&#x27;columntransformer&#x27;,\n",
       "                 ColumnTransformer(transformers=[(&#x27;pipeline-1&#x27;,\n",
       "                                                  Pipeline(steps=[(&#x27;simpleimputer&#x27;,\n",
       "                                                                   SimpleImputer(strategy=&#x27;median&#x27;)),\n",
       "                                                                  (&#x27;robustscaler&#x27;,\n",
       "                                                                   RobustScaler())]),\n",
       "                                                  [&#x27;Latitude&#x27;, &#x27;Longitude&#x27;,\n",
       "                                                   &#x27;NumberofBuildings&#x27;,\n",
       "                                                   &#x27;LargestPropertyUseTypeGFA&#x27;,\n",
       "                                                   &#x27;SecondLargestPropertyUseTypeGFA&#x27;,\n",
       "                                                   &#x27;ThirdLargestPropertyUseTypeGFA&#x27;,\n",
       "                                                   &#x27;ENERGYSTARScore&#x27;,\n",
       "                                                   &#x27;SiteEUI(...\n",
       "                                                   &#x27;TotalGHGEmissions&#x27;]),\n",
       "                                                 (&#x27;pipeline-2&#x27;,\n",
       "                                                  Pipeline(steps=[(&#x27;simpleimputer&#x27;,\n",
       "                                                                   SimpleImputer(strategy=&#x27;most_frequent&#x27;)),\n",
       "                                                                  (&#x27;onehotencoder&#x27;,\n",
       "                                                                   OneHotEncoder(handle_unknown=&#x27;infrequent_if_exist&#x27;,\n",
       "                                                                                 sparse_output=False))]),\n",
       "                                                  [&#x27;BuildingType&#x27;,\n",
       "                                                   &#x27;PrimaryPropertyType&#x27;,\n",
       "                                                   &#x27;Neighborhood&#x27;,\n",
       "                                                   &#x27;LargestPropertyUseType&#x27;,\n",
       "                                                   &#x27;SecondLargestPropertyUseType&#x27;])])),\n",
       "                (&#x27;randomforestregressor&#x27;, RandomForestRegressor())])</pre><b>In a Jupyter environment, please rerun this cell to show the HTML representation or trust the notebook. <br />On GitHub, the HTML representation is unable to render, please try loading this page with nbviewer.org.</b></div><div class=\"sk-container\" hidden><div class=\"sk-item sk-dashed-wrapped\"><div class=\"sk-label-container\"><div class=\"sk-label sk-toggleable\"><input class=\"sk-toggleable__control sk-hidden--visually\" id=\"sk-estimator-id-486\" type=\"checkbox\" ><label for=\"sk-estimator-id-486\" class=\"sk-toggleable__label sk-toggleable__label-arrow\">Pipeline</label><div class=\"sk-toggleable__content\"><pre>Pipeline(steps=[(&#x27;columntransformer&#x27;,\n",
       "                 ColumnTransformer(transformers=[(&#x27;pipeline-1&#x27;,\n",
       "                                                  Pipeline(steps=[(&#x27;simpleimputer&#x27;,\n",
       "                                                                   SimpleImputer(strategy=&#x27;median&#x27;)),\n",
       "                                                                  (&#x27;robustscaler&#x27;,\n",
       "                                                                   RobustScaler())]),\n",
       "                                                  [&#x27;Latitude&#x27;, &#x27;Longitude&#x27;,\n",
       "                                                   &#x27;NumberofBuildings&#x27;,\n",
       "                                                   &#x27;LargestPropertyUseTypeGFA&#x27;,\n",
       "                                                   &#x27;SecondLargestPropertyUseTypeGFA&#x27;,\n",
       "                                                   &#x27;ThirdLargestPropertyUseTypeGFA&#x27;,\n",
       "                                                   &#x27;ENERGYSTARScore&#x27;,\n",
       "                                                   &#x27;SiteEUI(...\n",
       "                                                   &#x27;TotalGHGEmissions&#x27;]),\n",
       "                                                 (&#x27;pipeline-2&#x27;,\n",
       "                                                  Pipeline(steps=[(&#x27;simpleimputer&#x27;,\n",
       "                                                                   SimpleImputer(strategy=&#x27;most_frequent&#x27;)),\n",
       "                                                                  (&#x27;onehotencoder&#x27;,\n",
       "                                                                   OneHotEncoder(handle_unknown=&#x27;infrequent_if_exist&#x27;,\n",
       "                                                                                 sparse_output=False))]),\n",
       "                                                  [&#x27;BuildingType&#x27;,\n",
       "                                                   &#x27;PrimaryPropertyType&#x27;,\n",
       "                                                   &#x27;Neighborhood&#x27;,\n",
       "                                                   &#x27;LargestPropertyUseType&#x27;,\n",
       "                                                   &#x27;SecondLargestPropertyUseType&#x27;])])),\n",
       "                (&#x27;randomforestregressor&#x27;, RandomForestRegressor())])</pre></div></div></div><div class=\"sk-serial\"><div class=\"sk-item sk-dashed-wrapped\"><div class=\"sk-label-container\"><div class=\"sk-label sk-toggleable\"><input class=\"sk-toggleable__control sk-hidden--visually\" id=\"sk-estimator-id-487\" type=\"checkbox\" ><label for=\"sk-estimator-id-487\" class=\"sk-toggleable__label sk-toggleable__label-arrow\">columntransformer: ColumnTransformer</label><div class=\"sk-toggleable__content\"><pre>ColumnTransformer(transformers=[(&#x27;pipeline-1&#x27;,\n",
       "                                 Pipeline(steps=[(&#x27;simpleimputer&#x27;,\n",
       "                                                  SimpleImputer(strategy=&#x27;median&#x27;)),\n",
       "                                                 (&#x27;robustscaler&#x27;,\n",
       "                                                  RobustScaler())]),\n",
       "                                 [&#x27;Latitude&#x27;, &#x27;Longitude&#x27;, &#x27;NumberofBuildings&#x27;,\n",
       "                                  &#x27;LargestPropertyUseTypeGFA&#x27;,\n",
       "                                  &#x27;SecondLargestPropertyUseTypeGFA&#x27;,\n",
       "                                  &#x27;ThirdLargestPropertyUseTypeGFA&#x27;,\n",
       "                                  &#x27;ENERGYSTARScore&#x27;, &#x27;SiteEUI(kBtu/sf)&#x27;,\n",
       "                                  &#x27;SourceEUI(kBtu/sf)&#x27;, &#x27;SiteE...\n",
       "                                  &#x27;SteamUse(kBtu)&#x27;, &#x27;Electricity(kBtu)&#x27;,\n",
       "                                  &#x27;NaturalGas(kBtu)&#x27;, &#x27;TotalGHGEmissions&#x27;]),\n",
       "                                (&#x27;pipeline-2&#x27;,\n",
       "                                 Pipeline(steps=[(&#x27;simpleimputer&#x27;,\n",
       "                                                  SimpleImputer(strategy=&#x27;most_frequent&#x27;)),\n",
       "                                                 (&#x27;onehotencoder&#x27;,\n",
       "                                                  OneHotEncoder(handle_unknown=&#x27;infrequent_if_exist&#x27;,\n",
       "                                                                sparse_output=False))]),\n",
       "                                 [&#x27;BuildingType&#x27;, &#x27;PrimaryPropertyType&#x27;,\n",
       "                                  &#x27;Neighborhood&#x27;, &#x27;LargestPropertyUseType&#x27;,\n",
       "                                  &#x27;SecondLargestPropertyUseType&#x27;])])</pre></div></div></div><div class=\"sk-parallel\"><div class=\"sk-parallel-item\"><div class=\"sk-item\"><div class=\"sk-label-container\"><div class=\"sk-label sk-toggleable\"><input class=\"sk-toggleable__control sk-hidden--visually\" id=\"sk-estimator-id-488\" type=\"checkbox\" ><label for=\"sk-estimator-id-488\" class=\"sk-toggleable__label sk-toggleable__label-arrow\">pipeline-1</label><div class=\"sk-toggleable__content\"><pre>[&#x27;Latitude&#x27;, &#x27;Longitude&#x27;, &#x27;NumberofBuildings&#x27;, &#x27;LargestPropertyUseTypeGFA&#x27;, &#x27;SecondLargestPropertyUseTypeGFA&#x27;, &#x27;ThirdLargestPropertyUseTypeGFA&#x27;, &#x27;ENERGYSTARScore&#x27;, &#x27;SiteEUI(kBtu/sf)&#x27;, &#x27;SourceEUI(kBtu/sf)&#x27;, &#x27;SiteEnergyUse(kBtu)&#x27;, &#x27;SteamUse(kBtu)&#x27;, &#x27;Electricity(kBtu)&#x27;, &#x27;NaturalGas(kBtu)&#x27;, &#x27;TotalGHGEmissions&#x27;]</pre></div></div></div><div class=\"sk-serial\"><div class=\"sk-item\"><div class=\"sk-serial\"><div class=\"sk-item\"><div class=\"sk-estimator sk-toggleable\"><input class=\"sk-toggleable__control sk-hidden--visually\" id=\"sk-estimator-id-489\" type=\"checkbox\" ><label for=\"sk-estimator-id-489\" class=\"sk-toggleable__label sk-toggleable__label-arrow\">SimpleImputer</label><div class=\"sk-toggleable__content\"><pre>SimpleImputer(strategy=&#x27;median&#x27;)</pre></div></div></div><div class=\"sk-item\"><div class=\"sk-estimator sk-toggleable\"><input class=\"sk-toggleable__control sk-hidden--visually\" id=\"sk-estimator-id-490\" type=\"checkbox\" ><label for=\"sk-estimator-id-490\" class=\"sk-toggleable__label sk-toggleable__label-arrow\">RobustScaler</label><div class=\"sk-toggleable__content\"><pre>RobustScaler()</pre></div></div></div></div></div></div></div></div><div class=\"sk-parallel-item\"><div class=\"sk-item\"><div class=\"sk-label-container\"><div class=\"sk-label sk-toggleable\"><input class=\"sk-toggleable__control sk-hidden--visually\" id=\"sk-estimator-id-491\" type=\"checkbox\" ><label for=\"sk-estimator-id-491\" class=\"sk-toggleable__label sk-toggleable__label-arrow\">pipeline-2</label><div class=\"sk-toggleable__content\"><pre>[&#x27;BuildingType&#x27;, &#x27;PrimaryPropertyType&#x27;, &#x27;Neighborhood&#x27;, &#x27;LargestPropertyUseType&#x27;, &#x27;SecondLargestPropertyUseType&#x27;]</pre></div></div></div><div class=\"sk-serial\"><div class=\"sk-item\"><div class=\"sk-serial\"><div class=\"sk-item\"><div class=\"sk-estimator sk-toggleable\"><input class=\"sk-toggleable__control sk-hidden--visually\" id=\"sk-estimator-id-492\" type=\"checkbox\" ><label for=\"sk-estimator-id-492\" class=\"sk-toggleable__label sk-toggleable__label-arrow\">SimpleImputer</label><div class=\"sk-toggleable__content\"><pre>SimpleImputer(strategy=&#x27;most_frequent&#x27;)</pre></div></div></div><div class=\"sk-item\"><div class=\"sk-estimator sk-toggleable\"><input class=\"sk-toggleable__control sk-hidden--visually\" id=\"sk-estimator-id-493\" type=\"checkbox\" ><label for=\"sk-estimator-id-493\" class=\"sk-toggleable__label sk-toggleable__label-arrow\">OneHotEncoder</label><div class=\"sk-toggleable__content\"><pre>OneHotEncoder(handle_unknown=&#x27;infrequent_if_exist&#x27;, sparse_output=False)</pre></div></div></div></div></div></div></div></div></div></div><div class=\"sk-item\"><div class=\"sk-estimator sk-toggleable\"><input class=\"sk-toggleable__control sk-hidden--visually\" id=\"sk-estimator-id-494\" type=\"checkbox\" ><label for=\"sk-estimator-id-494\" class=\"sk-toggleable__label sk-toggleable__label-arrow\">RandomForestRegressor</label><div class=\"sk-toggleable__content\"><pre>RandomForestRegressor()</pre></div></div></div></div></div></div></div>"
      ],
      "text/plain": [
       "Pipeline(steps=[('columntransformer',\n",
       "                 ColumnTransformer(transformers=[('pipeline-1',\n",
       "                                                  Pipeline(steps=[('simpleimputer',\n",
       "                                                                   SimpleImputer(strategy='median')),\n",
       "                                                                  ('robustscaler',\n",
       "                                                                   RobustScaler())]),\n",
       "                                                  ['Latitude', 'Longitude',\n",
       "                                                   'NumberofBuildings',\n",
       "                                                   'LargestPropertyUseTypeGFA',\n",
       "                                                   'SecondLargestPropertyUseTypeGFA',\n",
       "                                                   'ThirdLargestPropertyUseTypeGFA',\n",
       "                                                   'ENERGYSTARScore',\n",
       "                                                   'SiteEUI(...\n",
       "                                                   'TotalGHGEmissions']),\n",
       "                                                 ('pipeline-2',\n",
       "                                                  Pipeline(steps=[('simpleimputer',\n",
       "                                                                   SimpleImputer(strategy='most_frequent')),\n",
       "                                                                  ('onehotencoder',\n",
       "                                                                   OneHotEncoder(handle_unknown='infrequent_if_exist',\n",
       "                                                                                 sparse_output=False))]),\n",
       "                                                  ['BuildingType',\n",
       "                                                   'PrimaryPropertyType',\n",
       "                                                   'Neighborhood',\n",
       "                                                   'LargestPropertyUseType',\n",
       "                                                   'SecondLargestPropertyUseType'])])),\n",
       "                ('randomforestregressor', RandomForestRegressor())])"
      ]
     },
     "execution_count": 691,
     "metadata": {},
     "output_type": "execute_result"
    }
   ],
   "source": [
    "pipe_rf_opt.fit(X_train, y_train)"
   ]
  },
  {
   "cell_type": "code",
   "execution_count": 692,
   "id": "16f998d3",
   "metadata": {
    "scrolled": false
   },
   "outputs": [
    {
     "name": "stdout",
     "output_type": "stream",
     "text": [
      "['pipeline-1__Latitude' 'pipeline-1__Longitude'\n",
      " 'pipeline-1__NumberofBuildings' 'pipeline-1__LargestPropertyUseTypeGFA'\n",
      " 'pipeline-1__SecondLargestPropertyUseTypeGFA'\n",
      " 'pipeline-1__ThirdLargestPropertyUseTypeGFA'\n",
      " 'pipeline-1__ENERGYSTARScore' 'pipeline-1__SiteEUI(kBtu/sf)'\n",
      " 'pipeline-1__SourceEUI(kBtu/sf)' 'pipeline-1__SiteEnergyUse(kBtu)'\n",
      " 'pipeline-1__SteamUse(kBtu)' 'pipeline-1__Electricity(kBtu)'\n",
      " 'pipeline-1__NaturalGas(kBtu)' 'pipeline-1__TotalGHGEmissions'\n",
      " 'pipeline-2__BuildingType_Campus'\n",
      " 'pipeline-2__BuildingType_Multifamily HR (10+)'\n",
      " 'pipeline-2__BuildingType_Multifamily LR (1-4)'\n",
      " 'pipeline-2__BuildingType_Multifamily MR (5-9)'\n",
      " 'pipeline-2__BuildingType_NonResidential'\n",
      " 'pipeline-2__BuildingType_Nonresidential COS'\n",
      " 'pipeline-2__BuildingType_SPS-District K-12'\n",
      " 'pipeline-2__PrimaryPropertyType_Distribution Center'\n",
      " 'pipeline-2__PrimaryPropertyType_High-Rise Multifamily'\n",
      " 'pipeline-2__PrimaryPropertyType_Hospital'\n",
      " 'pipeline-2__PrimaryPropertyType_Hotel'\n",
      " 'pipeline-2__PrimaryPropertyType_K-12 School'\n",
      " 'pipeline-2__PrimaryPropertyType_Laboratory'\n",
      " 'pipeline-2__PrimaryPropertyType_Large Office'\n",
      " 'pipeline-2__PrimaryPropertyType_Low-Rise Multifamily'\n",
      " 'pipeline-2__PrimaryPropertyType_Medical Office'\n",
      " 'pipeline-2__PrimaryPropertyType_Mid-Rise Multifamily'\n",
      " 'pipeline-2__PrimaryPropertyType_Mixed Use Property'\n",
      " 'pipeline-2__PrimaryPropertyType_Office'\n",
      " 'pipeline-2__PrimaryPropertyType_Other'\n",
      " 'pipeline-2__PrimaryPropertyType_Refrigerated Warehouse'\n",
      " 'pipeline-2__PrimaryPropertyType_Residence Hall'\n",
      " 'pipeline-2__PrimaryPropertyType_Restaurant'\n",
      " 'pipeline-2__PrimaryPropertyType_Retail Store'\n",
      " 'pipeline-2__PrimaryPropertyType_Self-Storage Facility'\n",
      " 'pipeline-2__PrimaryPropertyType_Senior Care Community'\n",
      " 'pipeline-2__PrimaryPropertyType_Small- and Mid-Sized Office'\n",
      " 'pipeline-2__PrimaryPropertyType_Supermarket / Grocery Store'\n",
      " 'pipeline-2__PrimaryPropertyType_University'\n",
      " 'pipeline-2__PrimaryPropertyType_Warehouse'\n",
      " 'pipeline-2__PrimaryPropertyType_Worship Facility'\n",
      " 'pipeline-2__Neighborhood_BALLARD' 'pipeline-2__Neighborhood_Ballard'\n",
      " 'pipeline-2__Neighborhood_CENTRAL' 'pipeline-2__Neighborhood_Central'\n",
      " 'pipeline-2__Neighborhood_DELRIDGE' 'pipeline-2__Neighborhood_DOWNTOWN'\n",
      " 'pipeline-2__Neighborhood_Delridge' 'pipeline-2__Neighborhood_EAST'\n",
      " 'pipeline-2__Neighborhood_GREATER DUWAMISH'\n",
      " 'pipeline-2__Neighborhood_LAKE UNION'\n",
      " 'pipeline-2__Neighborhood_MAGNOLIA / QUEEN ANNE'\n",
      " 'pipeline-2__Neighborhood_NORTH' 'pipeline-2__Neighborhood_NORTHEAST'\n",
      " 'pipeline-2__Neighborhood_NORTHWEST' 'pipeline-2__Neighborhood_North'\n",
      " 'pipeline-2__Neighborhood_Northwest' 'pipeline-2__Neighborhood_SOUTHEAST'\n",
      " 'pipeline-2__Neighborhood_SOUTHWEST'\n",
      " 'pipeline-2__LargestPropertyUseType_Adult Education'\n",
      " 'pipeline-2__LargestPropertyUseType_Automobile Dealership'\n",
      " 'pipeline-2__LargestPropertyUseType_Bank Branch'\n",
      " 'pipeline-2__LargestPropertyUseType_College/University'\n",
      " 'pipeline-2__LargestPropertyUseType_Data Center'\n",
      " 'pipeline-2__LargestPropertyUseType_Distribution Center'\n",
      " 'pipeline-2__LargestPropertyUseType_Financial Office'\n",
      " 'pipeline-2__LargestPropertyUseType_Fitness Center/Health Club/Gym'\n",
      " 'pipeline-2__LargestPropertyUseType_Hospital (General Medical & Surgical)'\n",
      " 'pipeline-2__LargestPropertyUseType_Hotel'\n",
      " 'pipeline-2__LargestPropertyUseType_K-12 School'\n",
      " 'pipeline-2__LargestPropertyUseType_Laboratory'\n",
      " 'pipeline-2__LargestPropertyUseType_Library'\n",
      " 'pipeline-2__LargestPropertyUseType_Lifestyle Center'\n",
      " 'pipeline-2__LargestPropertyUseType_Manufacturing/Industrial Plant'\n",
      " 'pipeline-2__LargestPropertyUseType_Medical Office'\n",
      " 'pipeline-2__LargestPropertyUseType_Multifamily Housing'\n",
      " 'pipeline-2__LargestPropertyUseType_Museum'\n",
      " 'pipeline-2__LargestPropertyUseType_Non-Refrigerated Warehouse'\n",
      " 'pipeline-2__LargestPropertyUseType_Office'\n",
      " 'pipeline-2__LargestPropertyUseType_Other'\n",
      " 'pipeline-2__LargestPropertyUseType_Other - Education'\n",
      " 'pipeline-2__LargestPropertyUseType_Other - Entertainment/Public Assembly'\n",
      " 'pipeline-2__LargestPropertyUseType_Other - Lodging/Residential'\n",
      " 'pipeline-2__LargestPropertyUseType_Other - Mall'\n",
      " 'pipeline-2__LargestPropertyUseType_Other - Recreation'\n",
      " 'pipeline-2__LargestPropertyUseType_Other - Restaurant/Bar'\n",
      " 'pipeline-2__LargestPropertyUseType_Other - Services'\n",
      " 'pipeline-2__LargestPropertyUseType_Other - Utility'\n",
      " 'pipeline-2__LargestPropertyUseType_Other/Specialty Hospital'\n",
      " 'pipeline-2__LargestPropertyUseType_Parking'\n",
      " 'pipeline-2__LargestPropertyUseType_Performing Arts'\n",
      " 'pipeline-2__LargestPropertyUseType_Pre-school/Daycare'\n",
      " 'pipeline-2__LargestPropertyUseType_Prison/Incarceration'\n",
      " 'pipeline-2__LargestPropertyUseType_Refrigerated Warehouse'\n",
      " 'pipeline-2__LargestPropertyUseType_Repair Services (Vehicle, Shoe, Locksmith, etc)'\n",
      " 'pipeline-2__LargestPropertyUseType_Residence Hall/Dormitory'\n",
      " 'pipeline-2__LargestPropertyUseType_Restaurant'\n",
      " 'pipeline-2__LargestPropertyUseType_Retail Store'\n",
      " 'pipeline-2__LargestPropertyUseType_Self-Storage Facility'\n",
      " 'pipeline-2__LargestPropertyUseType_Senior Care Community'\n",
      " 'pipeline-2__LargestPropertyUseType_Social/Meeting Hall'\n",
      " 'pipeline-2__LargestPropertyUseType_Strip Mall'\n",
      " 'pipeline-2__LargestPropertyUseType_Supermarket/Grocery Store'\n",
      " 'pipeline-2__LargestPropertyUseType_Urgent Care/Clinic/Other Outpatient'\n",
      " 'pipeline-2__LargestPropertyUseType_Worship Facility'\n",
      " 'pipeline-2__SecondLargestPropertyUseType_Adult Education'\n",
      " 'pipeline-2__SecondLargestPropertyUseType_Automobile Dealership'\n",
      " 'pipeline-2__SecondLargestPropertyUseType_Bank Branch'\n",
      " 'pipeline-2__SecondLargestPropertyUseType_Bar/Nightclub'\n",
      " 'pipeline-2__SecondLargestPropertyUseType_Data Center'\n",
      " 'pipeline-2__SecondLargestPropertyUseType_Distribution Center'\n",
      " 'pipeline-2__SecondLargestPropertyUseType_Financial Office'\n",
      " 'pipeline-2__SecondLargestPropertyUseType_Fitness Center/Health Club/Gym'\n",
      " 'pipeline-2__SecondLargestPropertyUseType_Food Sales'\n",
      " 'pipeline-2__SecondLargestPropertyUseType_Food Service'\n",
      " 'pipeline-2__SecondLargestPropertyUseType_Hospital (General Medical & Surgical)'\n",
      " 'pipeline-2__SecondLargestPropertyUseType_K-12 School'\n",
      " 'pipeline-2__SecondLargestPropertyUseType_Laboratory'\n",
      " 'pipeline-2__SecondLargestPropertyUseType_Manufacturing/Industrial Plant'\n",
      " 'pipeline-2__SecondLargestPropertyUseType_Medical Office'\n",
      " 'pipeline-2__SecondLargestPropertyUseType_Movie Theater'\n",
      " 'pipeline-2__SecondLargestPropertyUseType_Multifamily Housing'\n",
      " 'pipeline-2__SecondLargestPropertyUseType_Non-Refrigerated Warehouse'\n",
      " 'pipeline-2__SecondLargestPropertyUseType_Office'\n",
      " 'pipeline-2__SecondLargestPropertyUseType_Other'\n",
      " 'pipeline-2__SecondLargestPropertyUseType_Other - Education'\n",
      " 'pipeline-2__SecondLargestPropertyUseType_Other - Entertainment/Public Assembly'\n",
      " 'pipeline-2__SecondLargestPropertyUseType_Other - Lodging/Residential'\n",
      " 'pipeline-2__SecondLargestPropertyUseType_Other - Public Services'\n",
      " 'pipeline-2__SecondLargestPropertyUseType_Other - Recreation'\n",
      " 'pipeline-2__SecondLargestPropertyUseType_Other - Restaurant/Bar'\n",
      " 'pipeline-2__SecondLargestPropertyUseType_Other - Services'\n",
      " 'pipeline-2__SecondLargestPropertyUseType_Parking'\n",
      " 'pipeline-2__SecondLargestPropertyUseType_Performing Arts'\n",
      " 'pipeline-2__SecondLargestPropertyUseType_Refrigerated Warehouse'\n",
      " 'pipeline-2__SecondLargestPropertyUseType_Repair Services (Vehicle, Shoe, Locksmith, etc)'\n",
      " 'pipeline-2__SecondLargestPropertyUseType_Restaurant'\n",
      " 'pipeline-2__SecondLargestPropertyUseType_Retail Store'\n",
      " 'pipeline-2__SecondLargestPropertyUseType_Self-Storage Facility'\n",
      " 'pipeline-2__SecondLargestPropertyUseType_Senior Care Community'\n",
      " 'pipeline-2__SecondLargestPropertyUseType_Supermarket/Grocery Store'\n",
      " 'pipeline-2__SecondLargestPropertyUseType_Swimming Pool'\n",
      " 'pipeline-2__SecondLargestPropertyUseType_Worship Facility']\n",
      "147\n"
     ]
    }
   ],
   "source": [
    "print(pipe_rf_opt[:-1].get_feature_names_out())\n",
    "print(len(pipe_rf_opt[:-1].get_feature_names_out()))"
   ]
  },
  {
   "cell_type": "code",
   "execution_count": 693,
   "id": "15868ee4",
   "metadata": {},
   "outputs": [
    {
     "name": "stdout",
     "output_type": "stream",
     "text": [
      "[7.44565793e-03 7.15867451e-03 1.04242048e-02 2.64495582e-02\n",
      " 1.26197320e-02 1.58071678e-03 5.30873505e-03 5.64495190e-01\n",
      " 1.92482668e-02 5.84319895e-03 2.44512842e-02 4.32044922e-02\n",
      " 1.71509848e-01 6.99327318e-02 1.17131465e-03 3.24060043e-05\n",
      " 5.30983415e-04 7.25851585e-05 4.19807219e-04 4.40741658e-04\n",
      " 8.05480703e-06 4.07940361e-06 2.30738683e-05 6.34082773e-04\n",
      " 1.27800861e-04 7.12289216e-04 9.25312099e-04 1.59016472e-04\n",
      " 5.43876271e-04 8.42819083e-05 9.72655575e-05 4.05031680e-04\n",
      " 1.30219066e-05 5.39370130e-04 8.57769094e-06 4.24719383e-05\n",
      " 1.59254082e-04 6.98243884e-05 1.63814965e-06 9.76470923e-05\n",
      " 1.96679159e-04 6.91285365e-04 5.92589563e-05 2.09749429e-05\n",
      " 2.62253759e-05 3.12323221e-05 2.75974136e-07 9.94590504e-05\n",
      " 1.92458187e-05 9.67800957e-05 1.07713358e-03 2.52710338e-05\n",
      " 5.70954614e-04 2.60706682e-04 1.13842646e-03 6.05901346e-04\n",
      " 6.49187312e-04 3.56713541e-04 9.86984387e-05 3.33994893e-05\n",
      " 1.46450676e-06 1.42816399e-04 2.52368952e-04 8.92483864e-07\n",
      " 3.89837197e-06 5.91174594e-07 2.91539845e-05 1.14554357e-04\n",
      " 2.14199079e-05 9.63958243e-07 6.72988687e-05 6.12309374e-05\n",
      " 7.95373244e-05 9.17050904e-04 1.57703115e-03 1.18700558e-07\n",
      " 1.43290100e-06 1.68192343e-05 6.30758695e-05 2.72122914e-04\n",
      " 3.91404226e-04 8.91303903e-05 4.73886991e-04 9.39305944e-04\n",
      " 2.66953092e-04 1.10856626e-04 1.55618683e-06 6.81199672e-06\n",
      " 1.32980534e-04 2.45086025e-06 1.20551069e-05 2.04243880e-09\n",
      " 2.79636531e-05 1.25735839e-04 5.12508252e-08 3.15733587e-07\n",
      " 3.09145890e-05 2.10550385e-07 9.25222832e-06 2.63328086e-05\n",
      " 1.21236554e-03 1.00365102e-04 1.90961722e-06 6.68602078e-05\n",
      " 1.46967715e-05 1.17690430e-06 1.25434461e-03 7.72818844e-06\n",
      " 1.58616880e-05 2.87412559e-07 3.10109442e-08 1.93639287e-07\n",
      " 3.49946261e-08 5.53434148e-06 5.65610690e-06 1.97313984e-06\n",
      " 7.33795444e-04 0.00000000e+00 1.02209040e-05 2.06669462e-05\n",
      " 2.79444243e-05 2.03005644e-07 4.64002248e-07 1.93328431e-06\n",
      " 1.02319658e-06 1.58907068e-06 1.11998549e-04 3.68558408e-03\n",
      " 8.29856235e-05 3.23299661e-07 9.69092607e-07 1.45083588e-06\n",
      " 9.37789382e-06 8.42226483e-06 9.72911781e-06 8.83191118e-06\n",
      " 2.84618562e-03 6.70107077e-07 3.37309067e-08 1.47453123e-07\n",
      " 9.07167821e-05 5.64626750e-05 1.09486126e-06 7.78435496e-07\n",
      " 8.32907100e-06 2.60020738e-04 3.10525542e-06]\n",
      "(147,)\n"
     ]
    }
   ],
   "source": [
    "pipe_rf_opt[-1:].named_steps['randomforestregressor'].feature_importances_\n",
    "print(pipe_rf_opt[-1:].named_steps['randomforestregressor'].feature_importances_)\n",
    "print(pipe_rf_opt[-1:].named_steps['randomforestregressor'].feature_importances_.shape)"
   ]
  },
  {
   "cell_type": "code",
   "execution_count": 694,
   "id": "0d622a07",
   "metadata": {},
   "outputs": [],
   "source": [
    "def importance(names,arr):\n",
    "    df = pd.DataFrame(data=pipe_rf.named_steps['randomforestregressor'].feature_importances_,\n",
    "                     index=preprocessor.get_feature_names_out())\n",
    "    df.reset_index(inplace=True)\n",
    "    df.rename(columns={0: 'values', 'index':'categories'}, inplace=True)\n",
    "    df['features']=0\n",
    "    df['features'].astype(str)\n",
    "    \n",
    "    df['features']=df['categories'].apply(lambda x: x.split('__')[1])\n",
    "    df['features']=df['features'].apply(lambda x: x.split('_')[0])\n",
    "    \n",
    "    df = df.groupby(['features','categories'], as_index=False).sum()\n",
    "    \n",
    "    df['log_values'] = np.log(df['values'])\n",
    "    df.sort_values(by=['log_values'], ascending=True,inplace=True)\n",
    "    \n",
    "    return df"
   ]
  },
  {
   "cell_type": "code",
   "execution_count": 695,
   "id": "dbcf4e22",
   "metadata": {},
   "outputs": [],
   "source": [
    "df = importance(pipe_rf_opt[:-1].get_feature_names_out(),\n",
    "                pipe_rf_opt[-1:].named_steps['randomforestregressor'].feature_importances_)"
   ]
  },
  {
   "cell_type": "code",
   "execution_count": 696,
   "id": "c6cd0a17",
   "metadata": {},
   "outputs": [
    {
     "data": {
      "text/html": [
       "<div>\n",
       "<style scoped>\n",
       "    .dataframe tbody tr th:only-of-type {\n",
       "        vertical-align: middle;\n",
       "    }\n",
       "\n",
       "    .dataframe tbody tr th {\n",
       "        vertical-align: top;\n",
       "    }\n",
       "\n",
       "    .dataframe thead th {\n",
       "        text-align: right;\n",
       "    }\n",
       "</style>\n",
       "<table border=\"1\" class=\"dataframe\">\n",
       "  <thead>\n",
       "    <tr style=\"text-align: right;\">\n",
       "      <th></th>\n",
       "      <th>features</th>\n",
       "      <th>categories</th>\n",
       "      <th>values</th>\n",
       "      <th>log_values</th>\n",
       "    </tr>\n",
       "  </thead>\n",
       "  <tbody>\n",
       "    <tr>\n",
       "      <th>103</th>\n",
       "      <td>SecondLargestPropertyUseType</td>\n",
       "      <td>pipeline-2__SecondLargestPropertyUseType_Autom...</td>\n",
       "      <td>1.951157e-08</td>\n",
       "      <td>-17.752258</td>\n",
       "    </tr>\n",
       "    <tr>\n",
       "      <th>131</th>\n",
       "      <td>SecondLargestPropertyUseType</td>\n",
       "      <td>pipeline-2__SecondLargestPropertyUseType_Refri...</td>\n",
       "      <td>5.889266e-08</td>\n",
       "      <td>-16.647549</td>\n",
       "    </tr>\n",
       "    <tr>\n",
       "      <th>37</th>\n",
       "      <td>LargestPropertyUseType</td>\n",
       "      <td>pipeline-2__LargestPropertyUseType_Other - Uti...</td>\n",
       "      <td>7.677859e-08</td>\n",
       "      <td>-16.382340</td>\n",
       "    </tr>\n",
       "    <tr>\n",
       "      <th>40</th>\n",
       "      <td>LargestPropertyUseType</td>\n",
       "      <td>pipeline-2__LargestPropertyUseType_Performing ...</td>\n",
       "      <td>8.001731e-08</td>\n",
       "      <td>-16.341023</td>\n",
       "    </tr>\n",
       "    <tr>\n",
       "      <th>41</th>\n",
       "      <td>LargestPropertyUseType</td>\n",
       "      <td>pipeline-2__LargestPropertyUseType_Pre-school/...</td>\n",
       "      <td>1.717872e-07</td>\n",
       "      <td>-15.577009</td>\n",
       "    </tr>\n",
       "  </tbody>\n",
       "</table>\n",
       "</div>"
      ],
      "text/plain": [
       "                         features  \\\n",
       "103  SecondLargestPropertyUseType   \n",
       "131  SecondLargestPropertyUseType   \n",
       "37         LargestPropertyUseType   \n",
       "40         LargestPropertyUseType   \n",
       "41         LargestPropertyUseType   \n",
       "\n",
       "                                            categories        values  \\\n",
       "103  pipeline-2__SecondLargestPropertyUseType_Autom...  1.951157e-08   \n",
       "131  pipeline-2__SecondLargestPropertyUseType_Refri...  5.889266e-08   \n",
       "37   pipeline-2__LargestPropertyUseType_Other - Uti...  7.677859e-08   \n",
       "40   pipeline-2__LargestPropertyUseType_Performing ...  8.001731e-08   \n",
       "41   pipeline-2__LargestPropertyUseType_Pre-school/...  1.717872e-07   \n",
       "\n",
       "     log_values  \n",
       "103  -17.752258  \n",
       "131  -16.647549  \n",
       "37   -16.382340  \n",
       "40   -16.341023  \n",
       "41   -15.577009  "
      ]
     },
     "execution_count": 696,
     "metadata": {},
     "output_type": "execute_result"
    }
   ],
   "source": [
    "df.head()"
   ]
  },
  {
   "cell_type": "code",
   "execution_count": 697,
   "id": "2e449b1a",
   "metadata": {},
   "outputs": [],
   "source": [
    "def vis_importance(df):\n",
    "\n",
    "    fig, axes = plt.subplots(1,1, figsize=(12, 5))\n",
    "    sns.barplot(data=df, x='features',y='log_values')\n",
    "    plt.xticks(fontsize=6, rotation=45)\n",
    "    plt.title('Featues importance - CO2')\n",
    "    plt.show()\n",
    "    return"
   ]
  },
  {
   "cell_type": "code",
   "execution_count": 698,
   "id": "9e2bb92f",
   "metadata": {},
   "outputs": [
    {
     "data": {
      "image/png": "[encoded data removed]",
      "text/plain": [
       "<Figure size 1200x500 with 1 Axes>"
      ]
     },
     "metadata": {},
     "output_type": "display_data"
    }
   ],
   "source": [
    "vis_importance(df)"
   ]
  },
  {
   "cell_type": "markdown",
   "id": "6c468a36",
   "metadata": {},
   "source": [
    "## Modélisation, Adaboost"
   ]
  },
  {
   "cell_type": "markdown",
   "id": "a4428418",
   "metadata": {},
   "source": [
    "### Instanciation du modèle."
   ]
  },
  {
   "cell_type": "code",
   "execution_count": 699,
   "id": "4c675f68",
   "metadata": {},
   "outputs": [],
   "source": [
    "ada = AdaBoostRegressor(n_estimators = 1000, random_state = 0)"
   ]
  },
  {
   "cell_type": "code",
   "execution_count": 700,
   "id": "3b33b3d5",
   "metadata": {},
   "outputs": [],
   "source": [
    "pipe_ada = make_pipeline(preprocessor, ada)"
   ]
  },
  {
   "cell_type": "markdown",
   "id": "95fd61e3",
   "metadata": {},
   "source": [
    "### Entrainement du modèle."
   ]
  },
  {
   "cell_type": "code",
   "execution_count": 701,
   "id": "c6660437",
   "metadata": {},
   "outputs": [],
   "source": [
    "ada_fitted = pipe_ada.fit(X_train, y_train.ravel())"
   ]
  },
  {
   "cell_type": "markdown",
   "id": "d6f1d805",
   "metadata": {},
   "source": [
    "### Score."
   ]
  },
  {
   "cell_type": "code",
   "execution_count": 702,
   "id": "b5bab242",
   "metadata": {},
   "outputs": [
    {
     "data": {
      "text/plain": [
       "0.245685056559518"
      ]
     },
     "execution_count": 702,
     "metadata": {},
     "output_type": "execute_result"
    }
   ],
   "source": [
    "ada_fitted.score(X_test, y_test)"
   ]
  },
  {
   "cell_type": "markdown",
   "id": "f7451e9c",
   "metadata": {},
   "source": [
    "De la même façon, il faut trouver les paramètres permettant d'améliorer la performance du modèle."
   ]
  },
  {
   "cell_type": "markdown",
   "id": "5bc0f39e",
   "metadata": {},
   "source": [
    "### Optimisation"
   ]
  },
  {
   "cell_type": "code",
   "execution_count": 703,
   "id": "6d10cf2a",
   "metadata": {
    "scrolled": true
   },
   "outputs": [
    {
     "data": {
      "text/plain": [
       "{'base_estimator': 'deprecated',\n",
       " 'estimator': None,\n",
       " 'learning_rate': 1.0,\n",
       " 'loss': 'linear',\n",
       " 'n_estimators': 50,\n",
       " 'random_state': None}"
      ]
     },
     "execution_count": 703,
     "metadata": {},
     "output_type": "execute_result"
    }
   ],
   "source": [
    "AdaBoostRegressor().get_params()"
   ]
  },
  {
   "cell_type": "code",
   "execution_count": 704,
   "id": "36d7f505",
   "metadata": {},
   "outputs": [],
   "source": [
    "pipe_ada = make_pipeline(preprocessor,AdaBoostRegressor())"
   ]
  },
  {
   "cell_type": "code",
   "execution_count": 705,
   "id": "befea42f",
   "metadata": {},
   "outputs": [
    {
     "data": {
      "text/plain": [
       "{'memory': None,\n",
       " 'steps': [('columntransformer',\n",
       "   ColumnTransformer(transformers=[('pipeline-1',\n",
       "                                    Pipeline(steps=[('simpleimputer',\n",
       "                                                     SimpleImputer(strategy='median')),\n",
       "                                                    ('robustscaler',\n",
       "                                                     RobustScaler())]),\n",
       "                                    ['Latitude', 'Longitude', 'NumberofBuildings',\n",
       "                                     'LargestPropertyUseTypeGFA',\n",
       "                                     'SecondLargestPropertyUseTypeGFA',\n",
       "                                     'ThirdLargestPropertyUseTypeGFA',\n",
       "                                     'ENERGYSTARScore', 'SiteEUI(kBtu/sf)',\n",
       "                                     'SourceEUI(kBtu/sf)', 'SiteE...\n",
       "                                     'SteamUse(kBtu)', 'Electricity(kBtu)',\n",
       "                                     'NaturalGas(kBtu)', 'TotalGHGEmissions']),\n",
       "                                   ('pipeline-2',\n",
       "                                    Pipeline(steps=[('simpleimputer',\n",
       "                                                     SimpleImputer(strategy='most_frequent')),\n",
       "                                                    ('onehotencoder',\n",
       "                                                     OneHotEncoder(handle_unknown='infrequent_if_exist',\n",
       "                                                                   sparse_output=False))]),\n",
       "                                    ['BuildingType', 'PrimaryPropertyType',\n",
       "                                     'Neighborhood', 'LargestPropertyUseType',\n",
       "                                     'SecondLargestPropertyUseType'])])),\n",
       "  ('adaboostregressor', AdaBoostRegressor())],\n",
       " 'verbose': False,\n",
       " 'columntransformer': ColumnTransformer(transformers=[('pipeline-1',\n",
       "                                  Pipeline(steps=[('simpleimputer',\n",
       "                                                   SimpleImputer(strategy='median')),\n",
       "                                                  ('robustscaler',\n",
       "                                                   RobustScaler())]),\n",
       "                                  ['Latitude', 'Longitude', 'NumberofBuildings',\n",
       "                                   'LargestPropertyUseTypeGFA',\n",
       "                                   'SecondLargestPropertyUseTypeGFA',\n",
       "                                   'ThirdLargestPropertyUseTypeGFA',\n",
       "                                   'ENERGYSTARScore', 'SiteEUI(kBtu/sf)',\n",
       "                                   'SourceEUI(kBtu/sf)', 'SiteE...\n",
       "                                   'SteamUse(kBtu)', 'Electricity(kBtu)',\n",
       "                                   'NaturalGas(kBtu)', 'TotalGHGEmissions']),\n",
       "                                 ('pipeline-2',\n",
       "                                  Pipeline(steps=[('simpleimputer',\n",
       "                                                   SimpleImputer(strategy='most_frequent')),\n",
       "                                                  ('onehotencoder',\n",
       "                                                   OneHotEncoder(handle_unknown='infrequent_if_exist',\n",
       "                                                                 sparse_output=False))]),\n",
       "                                  ['BuildingType', 'PrimaryPropertyType',\n",
       "                                   'Neighborhood', 'LargestPropertyUseType',\n",
       "                                   'SecondLargestPropertyUseType'])]),\n",
       " 'adaboostregressor': AdaBoostRegressor(),\n",
       " 'columntransformer__n_jobs': None,\n",
       " 'columntransformer__remainder': 'drop',\n",
       " 'columntransformer__sparse_threshold': 0.3,\n",
       " 'columntransformer__transformer_weights': None,\n",
       " 'columntransformer__transformers': [('pipeline-1',\n",
       "   Pipeline(steps=[('simpleimputer', SimpleImputer(strategy='median')),\n",
       "                   ('robustscaler', RobustScaler())]),\n",
       "   ['Latitude',\n",
       "    'Longitude',\n",
       "    'NumberofBuildings',\n",
       "    'LargestPropertyUseTypeGFA',\n",
       "    'SecondLargestPropertyUseTypeGFA',\n",
       "    'ThirdLargestPropertyUseTypeGFA',\n",
       "    'ENERGYSTARScore',\n",
       "    'SiteEUI(kBtu/sf)',\n",
       "    'SourceEUI(kBtu/sf)',\n",
       "    'SiteEnergyUse(kBtu)',\n",
       "    'SteamUse(kBtu)',\n",
       "    'Electricity(kBtu)',\n",
       "    'NaturalGas(kBtu)',\n",
       "    'TotalGHGEmissions']),\n",
       "  ('pipeline-2',\n",
       "   Pipeline(steps=[('simpleimputer', SimpleImputer(strategy='most_frequent')),\n",
       "                   ('onehotencoder',\n",
       "                    OneHotEncoder(handle_unknown='infrequent_if_exist',\n",
       "                                  sparse_output=False))]),\n",
       "   ['BuildingType',\n",
       "    'PrimaryPropertyType',\n",
       "    'Neighborhood',\n",
       "    'LargestPropertyUseType',\n",
       "    'SecondLargestPropertyUseType'])],\n",
       " 'columntransformer__verbose': False,\n",
       " 'columntransformer__verbose_feature_names_out': True,\n",
       " 'columntransformer__pipeline-1': Pipeline(steps=[('simpleimputer', SimpleImputer(strategy='median')),\n",
       "                 ('robustscaler', RobustScaler())]),\n",
       " 'columntransformer__pipeline-2': Pipeline(steps=[('simpleimputer', SimpleImputer(strategy='most_frequent')),\n",
       "                 ('onehotencoder',\n",
       "                  OneHotEncoder(handle_unknown='infrequent_if_exist',\n",
       "                                sparse_output=False))]),\n",
       " 'columntransformer__pipeline-1__memory': None,\n",
       " 'columntransformer__pipeline-1__steps': [('simpleimputer',\n",
       "   SimpleImputer(strategy='median')),\n",
       "  ('robustscaler', RobustScaler())],\n",
       " 'columntransformer__pipeline-1__verbose': False,\n",
       " 'columntransformer__pipeline-1__simpleimputer': SimpleImputer(strategy='median'),\n",
       " 'columntransformer__pipeline-1__robustscaler': RobustScaler(),\n",
       " 'columntransformer__pipeline-1__simpleimputer__add_indicator': False,\n",
       " 'columntransformer__pipeline-1__simpleimputer__copy': True,\n",
       " 'columntransformer__pipeline-1__simpleimputer__fill_value': None,\n",
       " 'columntransformer__pipeline-1__simpleimputer__keep_empty_features': False,\n",
       " 'columntransformer__pipeline-1__simpleimputer__missing_values': nan,\n",
       " 'columntransformer__pipeline-1__simpleimputer__strategy': 'median',\n",
       " 'columntransformer__pipeline-1__simpleimputer__verbose': 'deprecated',\n",
       " 'columntransformer__pipeline-1__robustscaler__copy': True,\n",
       " 'columntransformer__pipeline-1__robustscaler__quantile_range': (25.0, 75.0),\n",
       " 'columntransformer__pipeline-1__robustscaler__unit_variance': False,\n",
       " 'columntransformer__pipeline-1__robustscaler__with_centering': True,\n",
       " 'columntransformer__pipeline-1__robustscaler__with_scaling': True,\n",
       " 'columntransformer__pipeline-2__memory': None,\n",
       " 'columntransformer__pipeline-2__steps': [('simpleimputer',\n",
       "   SimpleImputer(strategy='most_frequent')),\n",
       "  ('onehotencoder',\n",
       "   OneHotEncoder(handle_unknown='infrequent_if_exist', sparse_output=False))],\n",
       " 'columntransformer__pipeline-2__verbose': False,\n",
       " 'columntransformer__pipeline-2__simpleimputer': SimpleImputer(strategy='most_frequent'),\n",
       " 'columntransformer__pipeline-2__onehotencoder': OneHotEncoder(handle_unknown='infrequent_if_exist', sparse_output=False),\n",
       " 'columntransformer__pipeline-2__simpleimputer__add_indicator': False,\n",
       " 'columntransformer__pipeline-2__simpleimputer__copy': True,\n",
       " 'columntransformer__pipeline-2__simpleimputer__fill_value': None,\n",
       " 'columntransformer__pipeline-2__simpleimputer__keep_empty_features': False,\n",
       " 'columntransformer__pipeline-2__simpleimputer__missing_values': nan,\n",
       " 'columntransformer__pipeline-2__simpleimputer__strategy': 'most_frequent',\n",
       " 'columntransformer__pipeline-2__simpleimputer__verbose': 'deprecated',\n",
       " 'columntransformer__pipeline-2__onehotencoder__categories': 'auto',\n",
       " 'columntransformer__pipeline-2__onehotencoder__drop': None,\n",
       " 'columntransformer__pipeline-2__onehotencoder__dtype': numpy.float64,\n",
       " 'columntransformer__pipeline-2__onehotencoder__handle_unknown': 'infrequent_if_exist',\n",
       " 'columntransformer__pipeline-2__onehotencoder__max_categories': None,\n",
       " 'columntransformer__pipeline-2__onehotencoder__min_frequency': None,\n",
       " 'columntransformer__pipeline-2__onehotencoder__sparse': 'deprecated',\n",
       " 'columntransformer__pipeline-2__onehotencoder__sparse_output': False,\n",
       " 'adaboostregressor__base_estimator': 'deprecated',\n",
       " 'adaboostregressor__estimator': None,\n",
       " 'adaboostregressor__learning_rate': 1.0,\n",
       " 'adaboostregressor__loss': 'linear',\n",
       " 'adaboostregressor__n_estimators': 50,\n",
       " 'adaboostregressor__random_state': None}"
      ]
     },
     "execution_count": 705,
     "metadata": {},
     "output_type": "execute_result"
    }
   ],
   "source": [
    "pipe_ada.get_params()"
   ]
  },
  {
   "cell_type": "code",
   "execution_count": 706,
   "id": "5ec23403",
   "metadata": {},
   "outputs": [],
   "source": [
    "param_grid_ada={'adaboostregressor__n_estimators':[100, 200, 400, 600, 800, 1000]}"
   ]
  },
  {
   "cell_type": "code",
   "execution_count": 707,
   "id": "2f4e5aa4",
   "metadata": {},
   "outputs": [],
   "source": [
    "grid_ada = GridSearchCV(pipe_ada, param_grid_ada, cv=5)"
   ]
  },
  {
   "cell_type": "code",
   "execution_count": 708,
   "id": "8d54b31b",
   "metadata": {},
   "outputs": [
    {
     "data": {
      "text/html": [
       "<style>#sk-container-id-52 {color: black;background-color: white;}#sk-container-id-52 pre{padding: 0;}#sk-container-id-52 div.sk-toggleable {background-color: white;}#sk-container-id-52 label.sk-toggleable__label {cursor: pointer;display: block;width: 100%;margin-bottom: 0;padding: 0.3em;box-sizing: border-box;text-align: center;}#sk-container-id-52 label.sk-toggleable__label-arrow:before {content: \"▸\";float: left;margin-right: 0.25em;color: #696969;}#sk-container-id-52 label.sk-toggleable__label-arrow:hover:before {color: black;}#sk-container-id-52 div.sk-estimator:hover label.sk-toggleable__label-arrow:before {color: black;}#sk-container-id-52 div.sk-toggleable__content {max-height: 0;max-width: 0;overflow: hidden;text-align: left;background-color: #f0f8ff;}#sk-container-id-52 div.sk-toggleable__content pre {margin: 0.2em;color: black;border-radius: 0.25em;background-color: #f0f8ff;}#sk-container-id-52 input.sk-toggleable__control:checked~div.sk-toggleable__content {max-height: 200px;max-width: 100%;overflow: auto;}#sk-container-id-52 input.sk-toggleable__control:checked~label.sk-toggleable__label-arrow:before {content: \"▾\";}#sk-container-id-52 div.sk-estimator input.sk-toggleable__control:checked~label.sk-toggleable__label {background-color: #d4ebff;}#sk-container-id-52 div.sk-label input.sk-toggleable__control:checked~label.sk-toggleable__label {background-color: #d4ebff;}#sk-container-id-52 input.sk-hidden--visually {border: 0;clip: rect(1px 1px 1px 1px);clip: rect(1px, 1px, 1px, 1px);height: 1px;margin: -1px;overflow: hidden;padding: 0;position: absolute;width: 1px;}#sk-container-id-52 div.sk-estimator {font-family: monospace;background-color: #f0f8ff;border: 1px dotted black;border-radius: 0.25em;box-sizing: border-box;margin-bottom: 0.5em;}#sk-container-id-52 div.sk-estimator:hover {background-color: #d4ebff;}#sk-container-id-52 div.sk-parallel-item::after {content: \"\";width: 100%;border-bottom: 1px solid gray;flex-grow: 1;}#sk-container-id-52 div.sk-label:hover label.sk-toggleable__label {background-color: #d4ebff;}#sk-container-id-52 div.sk-serial::before {content: \"\";position: absolute;border-left: 1px solid gray;box-sizing: border-box;top: 0;bottom: 0;left: 50%;z-index: 0;}#sk-container-id-52 div.sk-serial {display: flex;flex-direction: column;align-items: center;background-color: white;padding-right: 0.2em;padding-left: 0.2em;position: relative;}#sk-container-id-52 div.sk-item {position: relative;z-index: 1;}#sk-container-id-52 div.sk-parallel {display: flex;align-items: stretch;justify-content: center;background-color: white;position: relative;}#sk-container-id-52 div.sk-item::before, #sk-container-id-52 div.sk-parallel-item::before {content: \"\";position: absolute;border-left: 1px solid gray;box-sizing: border-box;top: 0;bottom: 0;left: 50%;z-index: -1;}#sk-container-id-52 div.sk-parallel-item {display: flex;flex-direction: column;z-index: 1;position: relative;background-color: white;}#sk-container-id-52 div.sk-parallel-item:first-child::after {align-self: flex-end;width: 50%;}#sk-container-id-52 div.sk-parallel-item:last-child::after {align-self: flex-start;width: 50%;}#sk-container-id-52 div.sk-parallel-item:only-child::after {width: 0;}#sk-container-id-52 div.sk-dashed-wrapped {border: 1px dashed gray;margin: 0 0.4em 0.5em 0.4em;box-sizing: border-box;padding-bottom: 0.4em;background-color: white;}#sk-container-id-52 div.sk-label label {font-family: monospace;font-weight: bold;display: inline-block;line-height: 1.2em;}#sk-container-id-52 div.sk-label-container {text-align: center;}#sk-container-id-52 div.sk-container {/* jupyter's `normalize.less` sets `[hidden] { display: none; }` but bootstrap.min.css set `[hidden] { display: none !important; }` so we also need the `!important` here to be able to override the default hidden behavior on the sphinx rendered scikit-learn.org. See: https://github.com/scikit-learn/scikit-learn/issues/21755 */display: inline-block !important;position: relative;}#sk-container-id-52 div.sk-text-repr-fallback {display: none;}</style><div id=\"sk-container-id-52\" class=\"sk-top-container\"><div class=\"sk-text-repr-fallback\"><pre>GridSearchCV(cv=5,\n",
       "             estimator=Pipeline(steps=[(&#x27;columntransformer&#x27;,\n",
       "                                        ColumnTransformer(transformers=[(&#x27;pipeline-1&#x27;,\n",
       "                                                                         Pipeline(steps=[(&#x27;simpleimputer&#x27;,\n",
       "                                                                                          SimpleImputer(strategy=&#x27;median&#x27;)),\n",
       "                                                                                         (&#x27;robustscaler&#x27;,\n",
       "                                                                                          RobustScaler())]),\n",
       "                                                                         [&#x27;Latitude&#x27;,\n",
       "                                                                          &#x27;Longitude&#x27;,\n",
       "                                                                          &#x27;NumberofBuildings&#x27;,\n",
       "                                                                          &#x27;LargestPropertyUseTypeGFA&#x27;,\n",
       "                                                                          &#x27;SecondLargestPropertyUseTypeGFA&#x27;,\n",
       "                                                                          &#x27;ThirdLargestPropertyUseTypeGFA&#x27;...\n",
       "                                                                                          SimpleImputer(strategy=&#x27;most_frequent&#x27;)),\n",
       "                                                                                         (&#x27;onehotencoder&#x27;,\n",
       "                                                                                          OneHotEncoder(handle_unknown=&#x27;infrequent_if_exist&#x27;,\n",
       "                                                                                                        sparse_output=False))]),\n",
       "                                                                         [&#x27;BuildingType&#x27;,\n",
       "                                                                          &#x27;PrimaryPropertyType&#x27;,\n",
       "                                                                          &#x27;Neighborhood&#x27;,\n",
       "                                                                          &#x27;LargestPropertyUseType&#x27;,\n",
       "                                                                          &#x27;SecondLargestPropertyUseType&#x27;])])),\n",
       "                                       (&#x27;adaboostregressor&#x27;,\n",
       "                                        AdaBoostRegressor())]),\n",
       "             param_grid={&#x27;adaboostregressor__n_estimators&#x27;: [100, 200, 400, 600,\n",
       "                                                             800, 1000]})</pre><b>In a Jupyter environment, please rerun this cell to show the HTML representation or trust the notebook. <br />On GitHub, the HTML representation is unable to render, please try loading this page with nbviewer.org.</b></div><div class=\"sk-container\" hidden><div class=\"sk-item sk-dashed-wrapped\"><div class=\"sk-label-container\"><div class=\"sk-label sk-toggleable\"><input class=\"sk-toggleable__control sk-hidden--visually\" id=\"sk-estimator-id-495\" type=\"checkbox\" ><label for=\"sk-estimator-id-495\" class=\"sk-toggleable__label sk-toggleable__label-arrow\">GridSearchCV</label><div class=\"sk-toggleable__content\"><pre>GridSearchCV(cv=5,\n",
       "             estimator=Pipeline(steps=[(&#x27;columntransformer&#x27;,\n",
       "                                        ColumnTransformer(transformers=[(&#x27;pipeline-1&#x27;,\n",
       "                                                                         Pipeline(steps=[(&#x27;simpleimputer&#x27;,\n",
       "                                                                                          SimpleImputer(strategy=&#x27;median&#x27;)),\n",
       "                                                                                         (&#x27;robustscaler&#x27;,\n",
       "                                                                                          RobustScaler())]),\n",
       "                                                                         [&#x27;Latitude&#x27;,\n",
       "                                                                          &#x27;Longitude&#x27;,\n",
       "                                                                          &#x27;NumberofBuildings&#x27;,\n",
       "                                                                          &#x27;LargestPropertyUseTypeGFA&#x27;,\n",
       "                                                                          &#x27;SecondLargestPropertyUseTypeGFA&#x27;,\n",
       "                                                                          &#x27;ThirdLargestPropertyUseTypeGFA&#x27;...\n",
       "                                                                                          SimpleImputer(strategy=&#x27;most_frequent&#x27;)),\n",
       "                                                                                         (&#x27;onehotencoder&#x27;,\n",
       "                                                                                          OneHotEncoder(handle_unknown=&#x27;infrequent_if_exist&#x27;,\n",
       "                                                                                                        sparse_output=False))]),\n",
       "                                                                         [&#x27;BuildingType&#x27;,\n",
       "                                                                          &#x27;PrimaryPropertyType&#x27;,\n",
       "                                                                          &#x27;Neighborhood&#x27;,\n",
       "                                                                          &#x27;LargestPropertyUseType&#x27;,\n",
       "                                                                          &#x27;SecondLargestPropertyUseType&#x27;])])),\n",
       "                                       (&#x27;adaboostregressor&#x27;,\n",
       "                                        AdaBoostRegressor())]),\n",
       "             param_grid={&#x27;adaboostregressor__n_estimators&#x27;: [100, 200, 400, 600,\n",
       "                                                             800, 1000]})</pre></div></div></div><div class=\"sk-parallel\"><div class=\"sk-parallel-item\"><div class=\"sk-item\"><div class=\"sk-label-container\"><div class=\"sk-label sk-toggleable\"><input class=\"sk-toggleable__control sk-hidden--visually\" id=\"sk-estimator-id-496\" type=\"checkbox\" ><label for=\"sk-estimator-id-496\" class=\"sk-toggleable__label sk-toggleable__label-arrow\">estimator: Pipeline</label><div class=\"sk-toggleable__content\"><pre>Pipeline(steps=[(&#x27;columntransformer&#x27;,\n",
       "                 ColumnTransformer(transformers=[(&#x27;pipeline-1&#x27;,\n",
       "                                                  Pipeline(steps=[(&#x27;simpleimputer&#x27;,\n",
       "                                                                   SimpleImputer(strategy=&#x27;median&#x27;)),\n",
       "                                                                  (&#x27;robustscaler&#x27;,\n",
       "                                                                   RobustScaler())]),\n",
       "                                                  [&#x27;Latitude&#x27;, &#x27;Longitude&#x27;,\n",
       "                                                   &#x27;NumberofBuildings&#x27;,\n",
       "                                                   &#x27;LargestPropertyUseTypeGFA&#x27;,\n",
       "                                                   &#x27;SecondLargestPropertyUseTypeGFA&#x27;,\n",
       "                                                   &#x27;ThirdLargestPropertyUseTypeGFA&#x27;,\n",
       "                                                   &#x27;ENERGYSTARScore&#x27;,\n",
       "                                                   &#x27;SiteEUI(...\n",
       "                                                   &#x27;TotalGHGEmissions&#x27;]),\n",
       "                                                 (&#x27;pipeline-2&#x27;,\n",
       "                                                  Pipeline(steps=[(&#x27;simpleimputer&#x27;,\n",
       "                                                                   SimpleImputer(strategy=&#x27;most_frequent&#x27;)),\n",
       "                                                                  (&#x27;onehotencoder&#x27;,\n",
       "                                                                   OneHotEncoder(handle_unknown=&#x27;infrequent_if_exist&#x27;,\n",
       "                                                                                 sparse_output=False))]),\n",
       "                                                  [&#x27;BuildingType&#x27;,\n",
       "                                                   &#x27;PrimaryPropertyType&#x27;,\n",
       "                                                   &#x27;Neighborhood&#x27;,\n",
       "                                                   &#x27;LargestPropertyUseType&#x27;,\n",
       "                                                   &#x27;SecondLargestPropertyUseType&#x27;])])),\n",
       "                (&#x27;adaboostregressor&#x27;, AdaBoostRegressor())])</pre></div></div></div><div class=\"sk-serial\"><div class=\"sk-item\"><div class=\"sk-serial\"><div class=\"sk-item sk-dashed-wrapped\"><div class=\"sk-label-container\"><div class=\"sk-label sk-toggleable\"><input class=\"sk-toggleable__control sk-hidden--visually\" id=\"sk-estimator-id-497\" type=\"checkbox\" ><label for=\"sk-estimator-id-497\" class=\"sk-toggleable__label sk-toggleable__label-arrow\">columntransformer: ColumnTransformer</label><div class=\"sk-toggleable__content\"><pre>ColumnTransformer(transformers=[(&#x27;pipeline-1&#x27;,\n",
       "                                 Pipeline(steps=[(&#x27;simpleimputer&#x27;,\n",
       "                                                  SimpleImputer(strategy=&#x27;median&#x27;)),\n",
       "                                                 (&#x27;robustscaler&#x27;,\n",
       "                                                  RobustScaler())]),\n",
       "                                 [&#x27;Latitude&#x27;, &#x27;Longitude&#x27;, &#x27;NumberofBuildings&#x27;,\n",
       "                                  &#x27;LargestPropertyUseTypeGFA&#x27;,\n",
       "                                  &#x27;SecondLargestPropertyUseTypeGFA&#x27;,\n",
       "                                  &#x27;ThirdLargestPropertyUseTypeGFA&#x27;,\n",
       "                                  &#x27;ENERGYSTARScore&#x27;, &#x27;SiteEUI(kBtu/sf)&#x27;,\n",
       "                                  &#x27;SourceEUI(kBtu/sf)&#x27;, &#x27;SiteE...\n",
       "                                  &#x27;SteamUse(kBtu)&#x27;, &#x27;Electricity(kBtu)&#x27;,\n",
       "                                  &#x27;NaturalGas(kBtu)&#x27;, &#x27;TotalGHGEmissions&#x27;]),\n",
       "                                (&#x27;pipeline-2&#x27;,\n",
       "                                 Pipeline(steps=[(&#x27;simpleimputer&#x27;,\n",
       "                                                  SimpleImputer(strategy=&#x27;most_frequent&#x27;)),\n",
       "                                                 (&#x27;onehotencoder&#x27;,\n",
       "                                                  OneHotEncoder(handle_unknown=&#x27;infrequent_if_exist&#x27;,\n",
       "                                                                sparse_output=False))]),\n",
       "                                 [&#x27;BuildingType&#x27;, &#x27;PrimaryPropertyType&#x27;,\n",
       "                                  &#x27;Neighborhood&#x27;, &#x27;LargestPropertyUseType&#x27;,\n",
       "                                  &#x27;SecondLargestPropertyUseType&#x27;])])</pre></div></div></div><div class=\"sk-parallel\"><div class=\"sk-parallel-item\"><div class=\"sk-item\"><div class=\"sk-label-container\"><div class=\"sk-label sk-toggleable\"><input class=\"sk-toggleable__control sk-hidden--visually\" id=\"sk-estimator-id-498\" type=\"checkbox\" ><label for=\"sk-estimator-id-498\" class=\"sk-toggleable__label sk-toggleable__label-arrow\">pipeline-1</label><div class=\"sk-toggleable__content\"><pre>[&#x27;Latitude&#x27;, &#x27;Longitude&#x27;, &#x27;NumberofBuildings&#x27;, &#x27;LargestPropertyUseTypeGFA&#x27;, &#x27;SecondLargestPropertyUseTypeGFA&#x27;, &#x27;ThirdLargestPropertyUseTypeGFA&#x27;, &#x27;ENERGYSTARScore&#x27;, &#x27;SiteEUI(kBtu/sf)&#x27;, &#x27;SourceEUI(kBtu/sf)&#x27;, &#x27;SiteEnergyUse(kBtu)&#x27;, &#x27;SteamUse(kBtu)&#x27;, &#x27;Electricity(kBtu)&#x27;, &#x27;NaturalGas(kBtu)&#x27;, &#x27;TotalGHGEmissions&#x27;]</pre></div></div></div><div class=\"sk-serial\"><div class=\"sk-item\"><div class=\"sk-serial\"><div class=\"sk-item\"><div class=\"sk-estimator sk-toggleable\"><input class=\"sk-toggleable__control sk-hidden--visually\" id=\"sk-estimator-id-499\" type=\"checkbox\" ><label for=\"sk-estimator-id-499\" class=\"sk-toggleable__label sk-toggleable__label-arrow\">SimpleImputer</label><div class=\"sk-toggleable__content\"><pre>SimpleImputer(strategy=&#x27;median&#x27;)</pre></div></div></div><div class=\"sk-item\"><div class=\"sk-estimator sk-toggleable\"><input class=\"sk-toggleable__control sk-hidden--visually\" id=\"sk-estimator-id-500\" type=\"checkbox\" ><label for=\"sk-estimator-id-500\" class=\"sk-toggleable__label sk-toggleable__label-arrow\">RobustScaler</label><div class=\"sk-toggleable__content\"><pre>RobustScaler()</pre></div></div></div></div></div></div></div></div><div class=\"sk-parallel-item\"><div class=\"sk-item\"><div class=\"sk-label-container\"><div class=\"sk-label sk-toggleable\"><input class=\"sk-toggleable__control sk-hidden--visually\" id=\"sk-estimator-id-501\" type=\"checkbox\" ><label for=\"sk-estimator-id-501\" class=\"sk-toggleable__label sk-toggleable__label-arrow\">pipeline-2</label><div class=\"sk-toggleable__content\"><pre>[&#x27;BuildingType&#x27;, &#x27;PrimaryPropertyType&#x27;, &#x27;Neighborhood&#x27;, &#x27;LargestPropertyUseType&#x27;, &#x27;SecondLargestPropertyUseType&#x27;]</pre></div></div></div><div class=\"sk-serial\"><div class=\"sk-item\"><div class=\"sk-serial\"><div class=\"sk-item\"><div class=\"sk-estimator sk-toggleable\"><input class=\"sk-toggleable__control sk-hidden--visually\" id=\"sk-estimator-id-502\" type=\"checkbox\" ><label for=\"sk-estimator-id-502\" class=\"sk-toggleable__label sk-toggleable__label-arrow\">SimpleImputer</label><div class=\"sk-toggleable__content\"><pre>SimpleImputer(strategy=&#x27;most_frequent&#x27;)</pre></div></div></div><div class=\"sk-item\"><div class=\"sk-estimator sk-toggleable\"><input class=\"sk-toggleable__control sk-hidden--visually\" id=\"sk-estimator-id-503\" type=\"checkbox\" ><label for=\"sk-estimator-id-503\" class=\"sk-toggleable__label sk-toggleable__label-arrow\">OneHotEncoder</label><div class=\"sk-toggleable__content\"><pre>OneHotEncoder(handle_unknown=&#x27;infrequent_if_exist&#x27;, sparse_output=False)</pre></div></div></div></div></div></div></div></div></div></div><div class=\"sk-item\"><div class=\"sk-estimator sk-toggleable\"><input class=\"sk-toggleable__control sk-hidden--visually\" id=\"sk-estimator-id-504\" type=\"checkbox\" ><label for=\"sk-estimator-id-504\" class=\"sk-toggleable__label sk-toggleable__label-arrow\">AdaBoostRegressor</label><div class=\"sk-toggleable__content\"><pre>AdaBoostRegressor()</pre></div></div></div></div></div></div></div></div></div></div></div></div>"
      ],
      "text/plain": [
       "GridSearchCV(cv=5,\n",
       "             estimator=Pipeline(steps=[('columntransformer',\n",
       "                                        ColumnTransformer(transformers=[('pipeline-1',\n",
       "                                                                         Pipeline(steps=[('simpleimputer',\n",
       "                                                                                          SimpleImputer(strategy='median')),\n",
       "                                                                                         ('robustscaler',\n",
       "                                                                                          RobustScaler())]),\n",
       "                                                                         ['Latitude',\n",
       "                                                                          'Longitude',\n",
       "                                                                          'NumberofBuildings',\n",
       "                                                                          'LargestPropertyUseTypeGFA',\n",
       "                                                                          'SecondLargestPropertyUseTypeGFA',\n",
       "                                                                          'ThirdLargestPropertyUseTypeGFA'...\n",
       "                                                                                          SimpleImputer(strategy='most_frequent')),\n",
       "                                                                                         ('onehotencoder',\n",
       "                                                                                          OneHotEncoder(handle_unknown='infrequent_if_exist',\n",
       "                                                                                                        sparse_output=False))]),\n",
       "                                                                         ['BuildingType',\n",
       "                                                                          'PrimaryPropertyType',\n",
       "                                                                          'Neighborhood',\n",
       "                                                                          'LargestPropertyUseType',\n",
       "                                                                          'SecondLargestPropertyUseType'])])),\n",
       "                                       ('adaboostregressor',\n",
       "                                        AdaBoostRegressor())]),\n",
       "             param_grid={'adaboostregressor__n_estimators': [100, 200, 400, 600,\n",
       "                                                             800, 1000]})"
      ]
     },
     "execution_count": 708,
     "metadata": {},
     "output_type": "execute_result"
    }
   ],
   "source": [
    "grid_ada.fit(X_train, y_train.ravel())"
   ]
  },
  {
   "cell_type": "code",
   "execution_count": 709,
   "id": "e1e20861",
   "metadata": {},
   "outputs": [
    {
     "data": {
      "text/plain": [
       "0.389088936148418"
      ]
     },
     "execution_count": 709,
     "metadata": {},
     "output_type": "execute_result"
    }
   ],
   "source": [
    "grid_ada.score(X_test, y_test.ravel())"
   ]
  },
  {
   "cell_type": "code",
   "execution_count": 710,
   "id": "f5437b6a",
   "metadata": {},
   "outputs": [
    {
     "data": {
      "text/plain": [
       "{'mean_fit_time': array([ 0.70108056,  1.39296803,  2.0665194 ,  2.758464  ,  3.43768778,\n",
       "         0.96386633,  1.90455709,  2.84961271,  3.79271035,  4.7384798 ,\n",
       "         1.20540118,  2.41245995,  3.59853268,  4.79616041,  5.98892131,\n",
       "         1.44244661,  2.88433504,  4.33057723,  5.76446357,  7.20866499,\n",
       "         1.68716602,  3.34807134,  5.0476418 ,  6.69336662,  8.42395339,\n",
       "         1.92093177,  3.84236455,  5.71266894,  7.6570075 ,  9.58489585,\n",
       "         2.1866117 ,  4.3993124 ,  6.5456902 ,  8.55073261, 10.7821146 ]),\n",
       " 'std_fit_time': array([0.00757923, 0.01324572, 0.00571075, 0.01064429, 0.0186631 ,\n",
       "        0.01151718, 0.0048029 , 0.019426  , 0.02108895, 0.02544181,\n",
       "        0.00329127, 0.0215998 , 0.00902958, 0.02385119, 0.01056377,\n",
       "        0.0028087 , 0.00908946, 0.01345   , 0.03705685, 0.03117898,\n",
       "        0.01540338, 0.00726122, 0.04451947, 0.01314036, 0.07956826,\n",
       "        0.01811735, 0.0303541 , 0.01955104, 0.08226549, 0.08880367,\n",
       "        0.02106854, 0.0462877 , 0.01203667, 0.02846361, 0.08268312]),\n",
       " 'mean_score_time': array([0.01057677, 0.01833396, 0.02477551, 0.03208685, 0.03912902,\n",
       "        0.011482  , 0.0188889 , 0.02605348, 0.03371625, 0.04121175,\n",
       "        0.0114584 , 0.01999664, 0.0275743 , 0.03559065, 0.04379849,\n",
       "        0.01206055, 0.02097688, 0.02982736, 0.03837819, 0.09582906,\n",
       "        0.01313763, 0.02257795, 0.0325161 , 0.04186134, 0.05205822,\n",
       "        0.01388531, 0.02486863, 0.03512087, 0.04607172, 0.05739317,\n",
       "        0.01528111, 0.02776341, 0.03919477, 0.04978061, 0.06257305]),\n",
       " 'std_score_time': array([8.68989638e-05, 6.98018289e-04, 4.67684646e-05, 1.15798802e-04,\n",
       "        1.11059356e-04, 7.12482592e-04, 3.99267413e-04, 1.11099006e-04,\n",
       "        2.21833973e-04, 1.64051013e-04, 2.60176310e-04, 4.80396434e-04,\n",
       "        1.12943791e-04, 2.15585773e-04, 3.43763062e-04, 4.14847231e-05,\n",
       "        4.42053805e-04, 3.58232591e-04, 2.93437792e-04, 9.70090707e-02,\n",
       "        3.96944106e-04, 7.00933430e-05, 2.92353159e-04, 3.65196826e-04,\n",
       "        4.50852824e-04, 1.39325045e-04, 2.55402440e-04, 2.65835052e-04,\n",
       "        5.11545014e-04, 3.95559017e-04, 2.90550994e-04, 8.93667212e-04,\n",
       "        5.31664652e-04, 5.22817577e-04, 1.55780089e-03]),\n",
       " 'param_randomforestregressor__max_depth': masked_array(data=[2, 2, 2, 2, 2, 3, 3, 3, 3, 3, 4, 4, 4, 4, 4, 5, 5, 5,\n",
       "                    5, 5, 6, 6, 6, 6, 6, 7, 7, 7, 7, 7, 8, 8, 8, 8, 8],\n",
       "              mask=[False, False, False, False, False, False, False, False,\n",
       "                    False, False, False, False, False, False, False, False,\n",
       "                    False, False, False, False, False, False, False, False,\n",
       "                    False, False, False, False, False, False, False, False,\n",
       "                    False, False, False],\n",
       "        fill_value='?',\n",
       "             dtype=object),\n",
       " 'param_randomforestregressor__n_estimators': masked_array(data=[200, 400, 600, 800, 1000, 200, 400, 600, 800, 1000,\n",
       "                    200, 400, 600, 800, 1000, 200, 400, 600, 800, 1000,\n",
       "                    200, 400, 600, 800, 1000, 200, 400, 600, 800, 1000,\n",
       "                    200, 400, 600, 800, 1000],\n",
       "              mask=[False, False, False, False, False, False, False, False,\n",
       "                    False, False, False, False, False, False, False, False,\n",
       "                    False, False, False, False, False, False, False, False,\n",
       "                    False, False, False, False, False, False, False, False,\n",
       "                    False, False, False],\n",
       "        fill_value='?',\n",
       "             dtype=object),\n",
       " 'params': [{'randomforestregressor__max_depth': 2,\n",
       "   'randomforestregressor__n_estimators': 200},\n",
       "  {'randomforestregressor__max_depth': 2,\n",
       "   'randomforestregressor__n_estimators': 400},\n",
       "  {'randomforestregressor__max_depth': 2,\n",
       "   'randomforestregressor__n_estimators': 600},\n",
       "  {'randomforestregressor__max_depth': 2,\n",
       "   'randomforestregressor__n_estimators': 800},\n",
       "  {'randomforestregressor__max_depth': 2,\n",
       "   'randomforestregressor__n_estimators': 1000},\n",
       "  {'randomforestregressor__max_depth': 3,\n",
       "   'randomforestregressor__n_estimators': 200},\n",
       "  {'randomforestregressor__max_depth': 3,\n",
       "   'randomforestregressor__n_estimators': 400},\n",
       "  {'randomforestregressor__max_depth': 3,\n",
       "   'randomforestregressor__n_estimators': 600},\n",
       "  {'randomforestregressor__max_depth': 3,\n",
       "   'randomforestregressor__n_estimators': 800},\n",
       "  {'randomforestregressor__max_depth': 3,\n",
       "   'randomforestregressor__n_estimators': 1000},\n",
       "  {'randomforestregressor__max_depth': 4,\n",
       "   'randomforestregressor__n_estimators': 200},\n",
       "  {'randomforestregressor__max_depth': 4,\n",
       "   'randomforestregressor__n_estimators': 400},\n",
       "  {'randomforestregressor__max_depth': 4,\n",
       "   'randomforestregressor__n_estimators': 600},\n",
       "  {'randomforestregressor__max_depth': 4,\n",
       "   'randomforestregressor__n_estimators': 800},\n",
       "  {'randomforestregressor__max_depth': 4,\n",
       "   'randomforestregressor__n_estimators': 1000},\n",
       "  {'randomforestregressor__max_depth': 5,\n",
       "   'randomforestregressor__n_estimators': 200},\n",
       "  {'randomforestregressor__max_depth': 5,\n",
       "   'randomforestregressor__n_estimators': 400},\n",
       "  {'randomforestregressor__max_depth': 5,\n",
       "   'randomforestregressor__n_estimators': 600},\n",
       "  {'randomforestregressor__max_depth': 5,\n",
       "   'randomforestregressor__n_estimators': 800},\n",
       "  {'randomforestregressor__max_depth': 5,\n",
       "   'randomforestregressor__n_estimators': 1000},\n",
       "  {'randomforestregressor__max_depth': 6,\n",
       "   'randomforestregressor__n_estimators': 200},\n",
       "  {'randomforestregressor__max_depth': 6,\n",
       "   'randomforestregressor__n_estimators': 400},\n",
       "  {'randomforestregressor__max_depth': 6,\n",
       "   'randomforestregressor__n_estimators': 600},\n",
       "  {'randomforestregressor__max_depth': 6,\n",
       "   'randomforestregressor__n_estimators': 800},\n",
       "  {'randomforestregressor__max_depth': 6,\n",
       "   'randomforestregressor__n_estimators': 1000},\n",
       "  {'randomforestregressor__max_depth': 7,\n",
       "   'randomforestregressor__n_estimators': 200},\n",
       "  {'randomforestregressor__max_depth': 7,\n",
       "   'randomforestregressor__n_estimators': 400},\n",
       "  {'randomforestregressor__max_depth': 7,\n",
       "   'randomforestregressor__n_estimators': 600},\n",
       "  {'randomforestregressor__max_depth': 7,\n",
       "   'randomforestregressor__n_estimators': 800},\n",
       "  {'randomforestregressor__max_depth': 7,\n",
       "   'randomforestregressor__n_estimators': 1000},\n",
       "  {'randomforestregressor__max_depth': 8,\n",
       "   'randomforestregressor__n_estimators': 200},\n",
       "  {'randomforestregressor__max_depth': 8,\n",
       "   'randomforestregressor__n_estimators': 400},\n",
       "  {'randomforestregressor__max_depth': 8,\n",
       "   'randomforestregressor__n_estimators': 600},\n",
       "  {'randomforestregressor__max_depth': 8,\n",
       "   'randomforestregressor__n_estimators': 800},\n",
       "  {'randomforestregressor__max_depth': 8,\n",
       "   'randomforestregressor__n_estimators': 1000}],\n",
       " 'split0_test_score': array([0.5722424 , 0.57626362, 0.56954048, 0.57280656, 0.5689972 ,\n",
       "        0.59599804, 0.64473143, 0.65674265, 0.6369315 , 0.62822849,\n",
       "        0.72567865, 0.70026703, 0.71186686, 0.71389537, 0.72057794,\n",
       "        0.74831753, 0.73891907, 0.74721594, 0.74376993, 0.74896452,\n",
       "        0.73137221, 0.76553511, 0.74673169, 0.75706849, 0.75890382,\n",
       "        0.76604747, 0.75649028, 0.75772595, 0.77270356, 0.77313704,\n",
       "        0.79367218, 0.7669039 , 0.75836398, 0.76104973, 0.75210928]),\n",
       " 'split1_test_score': array([0.57085534, 0.57717922, 0.57071171, 0.57657537, 0.57051004,\n",
       "        0.69329762, 0.69138819, 0.68992805, 0.68739223, 0.68863371,\n",
       "        0.74216951, 0.73984511, 0.74244599, 0.74296412, 0.74479825,\n",
       "        0.78092982, 0.7875772 , 0.78036033, 0.78388327, 0.78237487,\n",
       "        0.8023466 , 0.8059305 , 0.80552128, 0.81019575, 0.80723929,\n",
       "        0.82648658, 0.82276921, 0.82307539, 0.81945144, 0.82226521,\n",
       "        0.82884254, 0.82661963, 0.82718413, 0.82537912, 0.82821436]),\n",
       " 'split2_test_score': array([0.57130037, 0.57017573, 0.5645548 , 0.56894033, 0.56840143,\n",
       "        0.67817577, 0.681849  , 0.67709962, 0.67876801, 0.68015036,\n",
       "        0.73198454, 0.7277244 , 0.7301734 , 0.72645188, 0.73460786,\n",
       "        0.76063268, 0.75780408, 0.75616385, 0.75975005, 0.75811456,\n",
       "        0.76934925, 0.77270497, 0.7743265 , 0.76829784, 0.76787543,\n",
       "        0.77700401, 0.77763778, 0.77584419, 0.78241767, 0.7783766 ,\n",
       "        0.77481935, 0.7827905 , 0.78459629, 0.77961574, 0.78052592]),\n",
       " 'split3_test_score': array([0.64312258, 0.64083654, 0.64170383, 0.64326345, 0.63983892,\n",
       "        0.75046162, 0.74775485, 0.75027605, 0.75234563, 0.75193232,\n",
       "        0.79681629, 0.80138515, 0.80144045, 0.80270327, 0.80309586,\n",
       "        0.83557026, 0.8295222 , 0.82822965, 0.83388303, 0.82967522,\n",
       "        0.84003463, 0.8400791 , 0.84675865, 0.84496747, 0.8464997 ,\n",
       "        0.85362038, 0.85509206, 0.85277619, 0.85280328, 0.85598255,\n",
       "        0.85233213, 0.86381072, 0.86533712, 0.8599169 , 0.85874076]),\n",
       " 'split4_test_score': array([0.62498375, 0.61336064, 0.61752517, 0.60663128, 0.61832471,\n",
       "        0.72801682, 0.71266354, 0.72605617, 0.72044018, 0.72047484,\n",
       "        0.79000085, 0.7700916 , 0.77642598, 0.78049279, 0.77779193,\n",
       "        0.8101696 , 0.81263182, 0.80404877, 0.81529082, 0.80963356,\n",
       "        0.8279375 , 0.83301453, 0.82684957, 0.82961373, 0.82857862,\n",
       "        0.83038507, 0.83907051, 0.83299803, 0.84267225, 0.83664263,\n",
       "        0.84291242, 0.83822647, 0.84044744, 0.84033399, 0.84267293]),\n",
       " 'mean_test_score': array([0.59650089, 0.59556315, 0.5928072 , 0.5936434 , 0.59321446,\n",
       "        0.68918997, 0.6956774 , 0.70002051, 0.69517551, 0.69388394,\n",
       "        0.75732997, 0.74786266, 0.75247054, 0.75330149, 0.75617437,\n",
       "        0.78712398, 0.78529087, 0.78320371, 0.78731542, 0.78575255,\n",
       "        0.79420804, 0.80345284, 0.80003754, 0.80202866, 0.80181937,\n",
       "        0.8107087 , 0.81021197, 0.80848395, 0.81400964, 0.8132808 ,\n",
       "        0.81851572, 0.81567024, 0.81518579, 0.8132591 , 0.81245265]),\n",
       " 'std_test_score': array([0.03119644, 0.02728147, 0.03107928, 0.02816582, 0.0300733 ,\n",
       "        0.05307478, 0.03407551, 0.03377476, 0.03906117, 0.04148133,\n",
       "        0.03000197, 0.03491119, 0.0323055 , 0.03334819, 0.03010177,\n",
       "        0.03201325, 0.03351129, 0.02998737, 0.03352314, 0.0304241 ,\n",
       "        0.0396744 , 0.030347  , 0.03587308, 0.03414839, 0.03386946,\n",
       "        0.03349073, 0.03728759, 0.03582564, 0.03181305, 0.03249541,\n",
       "        0.02957014, 0.03579221, 0.03863082, 0.0371876 , 0.03991222]),\n",
       " 'rank_test_score': array([31, 32, 35, 33, 34, 30, 27, 26, 28, 29, 21, 25, 24, 23, 22, 17, 19,\n",
       "        20, 16, 18, 15, 11, 14, 12, 13,  8,  9, 10,  4,  5,  1,  2,  3,  6,\n",
       "         7], dtype=int32)}"
      ]
     },
     "execution_count": 710,
     "metadata": {},
     "output_type": "execute_result"
    }
   ],
   "source": [
    "grid.cv_results_"
   ]
  },
  {
   "cell_type": "code",
   "execution_count": 711,
   "id": "143aec84",
   "metadata": {},
   "outputs": [
    {
     "data": {
      "text/plain": [
       "{'adaboostregressor__n_estimators': 100}"
      ]
     },
     "execution_count": 711,
     "metadata": {},
     "output_type": "execute_result"
    }
   ],
   "source": [
    "grid_ada.best_params_"
   ]
  },
  {
   "cell_type": "code",
   "execution_count": 712,
   "id": "9cd8ac34",
   "metadata": {},
   "outputs": [],
   "source": [
    "pipe_ada_opt = make_pipeline(preprocessor,AdaBoostRegressor(n_estimators=100))"
   ]
  },
  {
   "cell_type": "code",
   "execution_count": 713,
   "id": "b6364e70",
   "metadata": {},
   "outputs": [
    {
     "data": {
      "text/html": [
       "<style>#sk-container-id-53 {color: black;background-color: white;}#sk-container-id-53 pre{padding: 0;}#sk-container-id-53 div.sk-toggleable {background-color: white;}#sk-container-id-53 label.sk-toggleable__label {cursor: pointer;display: block;width: 100%;margin-bottom: 0;padding: 0.3em;box-sizing: border-box;text-align: center;}#sk-container-id-53 label.sk-toggleable__label-arrow:before {content: \"▸\";float: left;margin-right: 0.25em;color: #696969;}#sk-container-id-53 label.sk-toggleable__label-arrow:hover:before {color: black;}#sk-container-id-53 div.sk-estimator:hover label.sk-toggleable__label-arrow:before {color: black;}#sk-container-id-53 div.sk-toggleable__content {max-height: 0;max-width: 0;overflow: hidden;text-align: left;background-color: #f0f8ff;}#sk-container-id-53 div.sk-toggleable__content pre {margin: 0.2em;color: black;border-radius: 0.25em;background-color: #f0f8ff;}#sk-container-id-53 input.sk-toggleable__control:checked~div.sk-toggleable__content {max-height: 200px;max-width: 100%;overflow: auto;}#sk-container-id-53 input.sk-toggleable__control:checked~label.sk-toggleable__label-arrow:before {content: \"▾\";}#sk-container-id-53 div.sk-estimator input.sk-toggleable__control:checked~label.sk-toggleable__label {background-color: #d4ebff;}#sk-container-id-53 div.sk-label input.sk-toggleable__control:checked~label.sk-toggleable__label {background-color: #d4ebff;}#sk-container-id-53 input.sk-hidden--visually {border: 0;clip: rect(1px 1px 1px 1px);clip: rect(1px, 1px, 1px, 1px);height: 1px;margin: -1px;overflow: hidden;padding: 0;position: absolute;width: 1px;}#sk-container-id-53 div.sk-estimator {font-family: monospace;background-color: #f0f8ff;border: 1px dotted black;border-radius: 0.25em;box-sizing: border-box;margin-bottom: 0.5em;}#sk-container-id-53 div.sk-estimator:hover {background-color: #d4ebff;}#sk-container-id-53 div.sk-parallel-item::after {content: \"\";width: 100%;border-bottom: 1px solid gray;flex-grow: 1;}#sk-container-id-53 div.sk-label:hover label.sk-toggleable__label {background-color: #d4ebff;}#sk-container-id-53 div.sk-serial::before {content: \"\";position: absolute;border-left: 1px solid gray;box-sizing: border-box;top: 0;bottom: 0;left: 50%;z-index: 0;}#sk-container-id-53 div.sk-serial {display: flex;flex-direction: column;align-items: center;background-color: white;padding-right: 0.2em;padding-left: 0.2em;position: relative;}#sk-container-id-53 div.sk-item {position: relative;z-index: 1;}#sk-container-id-53 div.sk-parallel {display: flex;align-items: stretch;justify-content: center;background-color: white;position: relative;}#sk-container-id-53 div.sk-item::before, #sk-container-id-53 div.sk-parallel-item::before {content: \"\";position: absolute;border-left: 1px solid gray;box-sizing: border-box;top: 0;bottom: 0;left: 50%;z-index: -1;}#sk-container-id-53 div.sk-parallel-item {display: flex;flex-direction: column;z-index: 1;position: relative;background-color: white;}#sk-container-id-53 div.sk-parallel-item:first-child::after {align-self: flex-end;width: 50%;}#sk-container-id-53 div.sk-parallel-item:last-child::after {align-self: flex-start;width: 50%;}#sk-container-id-53 div.sk-parallel-item:only-child::after {width: 0;}#sk-container-id-53 div.sk-dashed-wrapped {border: 1px dashed gray;margin: 0 0.4em 0.5em 0.4em;box-sizing: border-box;padding-bottom: 0.4em;background-color: white;}#sk-container-id-53 div.sk-label label {font-family: monospace;font-weight: bold;display: inline-block;line-height: 1.2em;}#sk-container-id-53 div.sk-label-container {text-align: center;}#sk-container-id-53 div.sk-container {/* jupyter's `normalize.less` sets `[hidden] { display: none; }` but bootstrap.min.css set `[hidden] { display: none !important; }` so we also need the `!important` here to be able to override the default hidden behavior on the sphinx rendered scikit-learn.org. See: https://github.com/scikit-learn/scikit-learn/issues/21755 */display: inline-block !important;position: relative;}#sk-container-id-53 div.sk-text-repr-fallback {display: none;}</style><div id=\"sk-container-id-53\" class=\"sk-top-container\"><div class=\"sk-text-repr-fallback\"><pre>Pipeline(steps=[(&#x27;columntransformer&#x27;,\n",
       "                 ColumnTransformer(transformers=[(&#x27;pipeline-1&#x27;,\n",
       "                                                  Pipeline(steps=[(&#x27;simpleimputer&#x27;,\n",
       "                                                                   SimpleImputer(strategy=&#x27;median&#x27;)),\n",
       "                                                                  (&#x27;robustscaler&#x27;,\n",
       "                                                                   RobustScaler())]),\n",
       "                                                  [&#x27;Latitude&#x27;, &#x27;Longitude&#x27;,\n",
       "                                                   &#x27;NumberofBuildings&#x27;,\n",
       "                                                   &#x27;LargestPropertyUseTypeGFA&#x27;,\n",
       "                                                   &#x27;SecondLargestPropertyUseTypeGFA&#x27;,\n",
       "                                                   &#x27;ThirdLargestPropertyUseTypeGFA&#x27;,\n",
       "                                                   &#x27;ENERGYSTARScore&#x27;,\n",
       "                                                   &#x27;SiteEUI(...\n",
       "                                                 (&#x27;pipeline-2&#x27;,\n",
       "                                                  Pipeline(steps=[(&#x27;simpleimputer&#x27;,\n",
       "                                                                   SimpleImputer(strategy=&#x27;most_frequent&#x27;)),\n",
       "                                                                  (&#x27;onehotencoder&#x27;,\n",
       "                                                                   OneHotEncoder(handle_unknown=&#x27;infrequent_if_exist&#x27;,\n",
       "                                                                                 sparse_output=False))]),\n",
       "                                                  [&#x27;BuildingType&#x27;,\n",
       "                                                   &#x27;PrimaryPropertyType&#x27;,\n",
       "                                                   &#x27;Neighborhood&#x27;,\n",
       "                                                   &#x27;LargestPropertyUseType&#x27;,\n",
       "                                                   &#x27;SecondLargestPropertyUseType&#x27;])])),\n",
       "                (&#x27;adaboostregressor&#x27;, AdaBoostRegressor(n_estimators=100))])</pre><b>In a Jupyter environment, please rerun this cell to show the HTML representation or trust the notebook. <br />On GitHub, the HTML representation is unable to render, please try loading this page with nbviewer.org.</b></div><div class=\"sk-container\" hidden><div class=\"sk-item sk-dashed-wrapped\"><div class=\"sk-label-container\"><div class=\"sk-label sk-toggleable\"><input class=\"sk-toggleable__control sk-hidden--visually\" id=\"sk-estimator-id-505\" type=\"checkbox\" ><label for=\"sk-estimator-id-505\" class=\"sk-toggleable__label sk-toggleable__label-arrow\">Pipeline</label><div class=\"sk-toggleable__content\"><pre>Pipeline(steps=[(&#x27;columntransformer&#x27;,\n",
       "                 ColumnTransformer(transformers=[(&#x27;pipeline-1&#x27;,\n",
       "                                                  Pipeline(steps=[(&#x27;simpleimputer&#x27;,\n",
       "                                                                   SimpleImputer(strategy=&#x27;median&#x27;)),\n",
       "                                                                  (&#x27;robustscaler&#x27;,\n",
       "                                                                   RobustScaler())]),\n",
       "                                                  [&#x27;Latitude&#x27;, &#x27;Longitude&#x27;,\n",
       "                                                   &#x27;NumberofBuildings&#x27;,\n",
       "                                                   &#x27;LargestPropertyUseTypeGFA&#x27;,\n",
       "                                                   &#x27;SecondLargestPropertyUseTypeGFA&#x27;,\n",
       "                                                   &#x27;ThirdLargestPropertyUseTypeGFA&#x27;,\n",
       "                                                   &#x27;ENERGYSTARScore&#x27;,\n",
       "                                                   &#x27;SiteEUI(...\n",
       "                                                 (&#x27;pipeline-2&#x27;,\n",
       "                                                  Pipeline(steps=[(&#x27;simpleimputer&#x27;,\n",
       "                                                                   SimpleImputer(strategy=&#x27;most_frequent&#x27;)),\n",
       "                                                                  (&#x27;onehotencoder&#x27;,\n",
       "                                                                   OneHotEncoder(handle_unknown=&#x27;infrequent_if_exist&#x27;,\n",
       "                                                                                 sparse_output=False))]),\n",
       "                                                  [&#x27;BuildingType&#x27;,\n",
       "                                                   &#x27;PrimaryPropertyType&#x27;,\n",
       "                                                   &#x27;Neighborhood&#x27;,\n",
       "                                                   &#x27;LargestPropertyUseType&#x27;,\n",
       "                                                   &#x27;SecondLargestPropertyUseType&#x27;])])),\n",
       "                (&#x27;adaboostregressor&#x27;, AdaBoostRegressor(n_estimators=100))])</pre></div></div></div><div class=\"sk-serial\"><div class=\"sk-item sk-dashed-wrapped\"><div class=\"sk-label-container\"><div class=\"sk-label sk-toggleable\"><input class=\"sk-toggleable__control sk-hidden--visually\" id=\"sk-estimator-id-506\" type=\"checkbox\" ><label for=\"sk-estimator-id-506\" class=\"sk-toggleable__label sk-toggleable__label-arrow\">columntransformer: ColumnTransformer</label><div class=\"sk-toggleable__content\"><pre>ColumnTransformer(transformers=[(&#x27;pipeline-1&#x27;,\n",
       "                                 Pipeline(steps=[(&#x27;simpleimputer&#x27;,\n",
       "                                                  SimpleImputer(strategy=&#x27;median&#x27;)),\n",
       "                                                 (&#x27;robustscaler&#x27;,\n",
       "                                                  RobustScaler())]),\n",
       "                                 [&#x27;Latitude&#x27;, &#x27;Longitude&#x27;, &#x27;NumberofBuildings&#x27;,\n",
       "                                  &#x27;LargestPropertyUseTypeGFA&#x27;,\n",
       "                                  &#x27;SecondLargestPropertyUseTypeGFA&#x27;,\n",
       "                                  &#x27;ThirdLargestPropertyUseTypeGFA&#x27;,\n",
       "                                  &#x27;ENERGYSTARScore&#x27;, &#x27;SiteEUI(kBtu/sf)&#x27;,\n",
       "                                  &#x27;SourceEUI(kBtu/sf)&#x27;, &#x27;SiteE...\n",
       "                                  &#x27;SteamUse(kBtu)&#x27;, &#x27;Electricity(kBtu)&#x27;,\n",
       "                                  &#x27;NaturalGas(kBtu)&#x27;, &#x27;TotalGHGEmissions&#x27;]),\n",
       "                                (&#x27;pipeline-2&#x27;,\n",
       "                                 Pipeline(steps=[(&#x27;simpleimputer&#x27;,\n",
       "                                                  SimpleImputer(strategy=&#x27;most_frequent&#x27;)),\n",
       "                                                 (&#x27;onehotencoder&#x27;,\n",
       "                                                  OneHotEncoder(handle_unknown=&#x27;infrequent_if_exist&#x27;,\n",
       "                                                                sparse_output=False))]),\n",
       "                                 [&#x27;BuildingType&#x27;, &#x27;PrimaryPropertyType&#x27;,\n",
       "                                  &#x27;Neighborhood&#x27;, &#x27;LargestPropertyUseType&#x27;,\n",
       "                                  &#x27;SecondLargestPropertyUseType&#x27;])])</pre></div></div></div><div class=\"sk-parallel\"><div class=\"sk-parallel-item\"><div class=\"sk-item\"><div class=\"sk-label-container\"><div class=\"sk-label sk-toggleable\"><input class=\"sk-toggleable__control sk-hidden--visually\" id=\"sk-estimator-id-507\" type=\"checkbox\" ><label for=\"sk-estimator-id-507\" class=\"sk-toggleable__label sk-toggleable__label-arrow\">pipeline-1</label><div class=\"sk-toggleable__content\"><pre>[&#x27;Latitude&#x27;, &#x27;Longitude&#x27;, &#x27;NumberofBuildings&#x27;, &#x27;LargestPropertyUseTypeGFA&#x27;, &#x27;SecondLargestPropertyUseTypeGFA&#x27;, &#x27;ThirdLargestPropertyUseTypeGFA&#x27;, &#x27;ENERGYSTARScore&#x27;, &#x27;SiteEUI(kBtu/sf)&#x27;, &#x27;SourceEUI(kBtu/sf)&#x27;, &#x27;SiteEnergyUse(kBtu)&#x27;, &#x27;SteamUse(kBtu)&#x27;, &#x27;Electricity(kBtu)&#x27;, &#x27;NaturalGas(kBtu)&#x27;, &#x27;TotalGHGEmissions&#x27;]</pre></div></div></div><div class=\"sk-serial\"><div class=\"sk-item\"><div class=\"sk-serial\"><div class=\"sk-item\"><div class=\"sk-estimator sk-toggleable\"><input class=\"sk-toggleable__control sk-hidden--visually\" id=\"sk-estimator-id-508\" type=\"checkbox\" ><label for=\"sk-estimator-id-508\" class=\"sk-toggleable__label sk-toggleable__label-arrow\">SimpleImputer</label><div class=\"sk-toggleable__content\"><pre>SimpleImputer(strategy=&#x27;median&#x27;)</pre></div></div></div><div class=\"sk-item\"><div class=\"sk-estimator sk-toggleable\"><input class=\"sk-toggleable__control sk-hidden--visually\" id=\"sk-estimator-id-509\" type=\"checkbox\" ><label for=\"sk-estimator-id-509\" class=\"sk-toggleable__label sk-toggleable__label-arrow\">RobustScaler</label><div class=\"sk-toggleable__content\"><pre>RobustScaler()</pre></div></div></div></div></div></div></div></div><div class=\"sk-parallel-item\"><div class=\"sk-item\"><div class=\"sk-label-container\"><div class=\"sk-label sk-toggleable\"><input class=\"sk-toggleable__control sk-hidden--visually\" id=\"sk-estimator-id-510\" type=\"checkbox\" ><label for=\"sk-estimator-id-510\" class=\"sk-toggleable__label sk-toggleable__label-arrow\">pipeline-2</label><div class=\"sk-toggleable__content\"><pre>[&#x27;BuildingType&#x27;, &#x27;PrimaryPropertyType&#x27;, &#x27;Neighborhood&#x27;, &#x27;LargestPropertyUseType&#x27;, &#x27;SecondLargestPropertyUseType&#x27;]</pre></div></div></div><div class=\"sk-serial\"><div class=\"sk-item\"><div class=\"sk-serial\"><div class=\"sk-item\"><div class=\"sk-estimator sk-toggleable\"><input class=\"sk-toggleable__control sk-hidden--visually\" id=\"sk-estimator-id-511\" type=\"checkbox\" ><label for=\"sk-estimator-id-511\" class=\"sk-toggleable__label sk-toggleable__label-arrow\">SimpleImputer</label><div class=\"sk-toggleable__content\"><pre>SimpleImputer(strategy=&#x27;most_frequent&#x27;)</pre></div></div></div><div class=\"sk-item\"><div class=\"sk-estimator sk-toggleable\"><input class=\"sk-toggleable__control sk-hidden--visually\" id=\"sk-estimator-id-512\" type=\"checkbox\" ><label for=\"sk-estimator-id-512\" class=\"sk-toggleable__label sk-toggleable__label-arrow\">OneHotEncoder</label><div class=\"sk-toggleable__content\"><pre>OneHotEncoder(handle_unknown=&#x27;infrequent_if_exist&#x27;, sparse_output=False)</pre></div></div></div></div></div></div></div></div></div></div><div class=\"sk-item\"><div class=\"sk-estimator sk-toggleable\"><input class=\"sk-toggleable__control sk-hidden--visually\" id=\"sk-estimator-id-513\" type=\"checkbox\" ><label for=\"sk-estimator-id-513\" class=\"sk-toggleable__label sk-toggleable__label-arrow\">AdaBoostRegressor</label><div class=\"sk-toggleable__content\"><pre>AdaBoostRegressor(n_estimators=100)</pre></div></div></div></div></div></div></div>"
      ],
      "text/plain": [
       "Pipeline(steps=[('columntransformer',\n",
       "                 ColumnTransformer(transformers=[('pipeline-1',\n",
       "                                                  Pipeline(steps=[('simpleimputer',\n",
       "                                                                   SimpleImputer(strategy='median')),\n",
       "                                                                  ('robustscaler',\n",
       "                                                                   RobustScaler())]),\n",
       "                                                  ['Latitude', 'Longitude',\n",
       "                                                   'NumberofBuildings',\n",
       "                                                   'LargestPropertyUseTypeGFA',\n",
       "                                                   'SecondLargestPropertyUseTypeGFA',\n",
       "                                                   'ThirdLargestPropertyUseTypeGFA',\n",
       "                                                   'ENERGYSTARScore',\n",
       "                                                   'SiteEUI(...\n",
       "                                                 ('pipeline-2',\n",
       "                                                  Pipeline(steps=[('simpleimputer',\n",
       "                                                                   SimpleImputer(strategy='most_frequent')),\n",
       "                                                                  ('onehotencoder',\n",
       "                                                                   OneHotEncoder(handle_unknown='infrequent_if_exist',\n",
       "                                                                                 sparse_output=False))]),\n",
       "                                                  ['BuildingType',\n",
       "                                                   'PrimaryPropertyType',\n",
       "                                                   'Neighborhood',\n",
       "                                                   'LargestPropertyUseType',\n",
       "                                                   'SecondLargestPropertyUseType'])])),\n",
       "                ('adaboostregressor', AdaBoostRegressor(n_estimators=100))])"
      ]
     },
     "execution_count": 713,
     "metadata": {},
     "output_type": "execute_result"
    }
   ],
   "source": [
    "pipe_ada_opt.fit(X_train, y_train.ravel())"
   ]
  },
  {
   "cell_type": "code",
   "execution_count": 714,
   "id": "b81bfc9c",
   "metadata": {},
   "outputs": [
    {
     "data": {
      "text/plain": [
       "0.37377435936543046"
      ]
     },
     "execution_count": 714,
     "metadata": {},
     "output_type": "execute_result"
    }
   ],
   "source": [
    "pipe_ada_opt.score(X_test, y_test.ravel())"
   ]
  },
  {
   "cell_type": "markdown",
   "id": "74d55807",
   "metadata": {},
   "source": [
    "## Conclusion."
   ]
  },
  {
   "cell_type": "markdown",
   "id": "b08b3839",
   "metadata": {},
   "source": [
    "Pour l'analyse de prédiciton des émissions de CO2, le modèle à privilégier est Random Forest. AdaBoost n'est pas performant dans ce contexte d'analyse."
   ]
  },
  {
   "cell_type": "markdown",
   "id": "5c867700",
   "metadata": {},
   "source": [
    "## Analyse avec RF pour le non résidentiel"
   ]
  },
  {
   "cell_type": "markdown",
   "id": "0b0a729a",
   "metadata": {},
   "source": [
    "### Réduction dataset, exclusion des bâtiments destinés à l'habitation."
   ]
  },
  {
   "cell_type": "code",
   "execution_count": 715,
   "id": "85cdbfea",
   "metadata": {},
   "outputs": [],
   "source": [
    "# Nomenclature des bâtiments à usage non habitation (à partir de variable \"BuildingType\").\n",
    "non_residential = ['NonResidential', 'Nonresidential COS','SPS-District K-12', 'Campus','Nonresidential WA']\n"
   ]
  },
  {
   "cell_type": "code",
   "execution_count": 716,
   "id": "8174483b",
   "metadata": {},
   "outputs": [],
   "source": [
    "condition = (X['BuildingType'].isin(non_residential) == True)\n",
    "X_nr = X[condition]"
   ]
  },
  {
   "cell_type": "code",
   "execution_count": 717,
   "id": "b4f70e81",
   "metadata": {},
   "outputs": [
    {
     "data": {
      "text/plain": [
       "array(['NonResidential', 'Nonresidential COS', 'SPS-District K-12',\n",
       "       'Campus'], dtype=object)"
      ]
     },
     "execution_count": 717,
     "metadata": {},
     "output_type": "execute_result"
    }
   ],
   "source": [
    "X_nr['BuildingType'].unique()"
   ]
  },
  {
   "cell_type": "code",
   "execution_count": 718,
   "id": "961b0fe1",
   "metadata": {},
   "outputs": [
    {
     "name": "stdout",
     "output_type": "stream",
     "text": [
      "<class 'pandas.core.frame.DataFrame'>\n",
      "Int64Index: 1642 entries, 0 to 3344\n",
      "Data columns (total 24 columns):\n",
      " #   Column                           Non-Null Count  Dtype  \n",
      "---  ------                           --------------  -----  \n",
      " 0   Latitude                         1642 non-null   float64\n",
      " 1   Longitude                        1642 non-null   float64\n",
      " 2   YearBuilt                        1642 non-null   int64  \n",
      " 3   NumberofBuildings                1642 non-null   float64\n",
      " 4   NumberofFloors                   1642 non-null   int64  \n",
      " 5   PropertyGFAParking               1642 non-null   int64  \n",
      " 6   PropertyGFABuilding(s)           1642 non-null   int64  \n",
      " 7   LargestPropertyUseTypeGFA        1642 non-null   float64\n",
      " 8   SecondLargestPropertyUseTypeGFA  1642 non-null   float64\n",
      " 9   ThirdLargestPropertyUseTypeGFA   1642 non-null   float64\n",
      " 10  ENERGYSTARScore                  1642 non-null   float64\n",
      " 11  SiteEUI(kBtu/sf)                 1642 non-null   float64\n",
      " 12  SourceEUI(kBtu/sf)               1642 non-null   float64\n",
      " 13  SiteEnergyUse(kBtu)              1642 non-null   float64\n",
      " 14  SteamUse(kBtu)                   1642 non-null   float64\n",
      " 15  Electricity(kBtu)                1642 non-null   float64\n",
      " 16  NaturalGas(kBtu)                 1642 non-null   float64\n",
      " 17  TotalGHGEmissions                1642 non-null   float64\n",
      " 18  GHGEmissionsIntensity            1642 non-null   float64\n",
      " 19  BuildingType                     1642 non-null   object \n",
      " 20  PrimaryPropertyType              1642 non-null   object \n",
      " 21  Neighborhood                     1642 non-null   object \n",
      " 22  LargestPropertyUseType           1636 non-null   object \n",
      " 23  SecondLargestPropertyUseType     839 non-null    object \n",
      "dtypes: float64(15), int64(4), object(5)\n",
      "memory usage: 320.7+ KB\n"
     ]
    }
   ],
   "source": [
    "X_nr.info()"
   ]
  },
  {
   "cell_type": "code",
   "execution_count": 719,
   "id": "b81e92c6",
   "metadata": {},
   "outputs": [
    {
     "data": {
      "text/plain": [
       "(1642, 24)"
      ]
     },
     "execution_count": 719,
     "metadata": {},
     "output_type": "execute_result"
    }
   ],
   "source": [
    "X_nr.shape"
   ]
  },
  {
   "cell_type": "code",
   "execution_count": 720,
   "id": "0117dc2c",
   "metadata": {},
   "outputs": [],
   "source": [
    "label = 'GHGEmissionsIntensity'\n",
    "y = X_nr[label]"
   ]
  },
  {
   "cell_type": "code",
   "execution_count": 721,
   "id": "c77fe3e7",
   "metadata": {},
   "outputs": [],
   "source": [
    "X_nr_wo_y = X_nr.drop(label, axis=1)"
   ]
  },
  {
   "cell_type": "code",
   "execution_count": 722,
   "id": "d5806c0d",
   "metadata": {},
   "outputs": [
    {
     "name": "stdout",
     "output_type": "stream",
     "text": [
      "<class 'pandas.core.frame.DataFrame'>\n",
      "Int64Index: 1642 entries, 0 to 3344\n",
      "Data columns (total 23 columns):\n",
      " #   Column                           Non-Null Count  Dtype  \n",
      "---  ------                           --------------  -----  \n",
      " 0   Latitude                         1642 non-null   float64\n",
      " 1   Longitude                        1642 non-null   float64\n",
      " 2   YearBuilt                        1642 non-null   int64  \n",
      " 3   NumberofBuildings                1642 non-null   float64\n",
      " 4   NumberofFloors                   1642 non-null   int64  \n",
      " 5   PropertyGFAParking               1642 non-null   int64  \n",
      " 6   PropertyGFABuilding(s)           1642 non-null   int64  \n",
      " 7   LargestPropertyUseTypeGFA        1642 non-null   float64\n",
      " 8   SecondLargestPropertyUseTypeGFA  1642 non-null   float64\n",
      " 9   ThirdLargestPropertyUseTypeGFA   1642 non-null   float64\n",
      " 10  ENERGYSTARScore                  1642 non-null   float64\n",
      " 11  SiteEUI(kBtu/sf)                 1642 non-null   float64\n",
      " 12  SourceEUI(kBtu/sf)               1642 non-null   float64\n",
      " 13  SiteEnergyUse(kBtu)              1642 non-null   float64\n",
      " 14  SteamUse(kBtu)                   1642 non-null   float64\n",
      " 15  Electricity(kBtu)                1642 non-null   float64\n",
      " 16  NaturalGas(kBtu)                 1642 non-null   float64\n",
      " 17  TotalGHGEmissions                1642 non-null   float64\n",
      " 18  BuildingType                     1642 non-null   object \n",
      " 19  PrimaryPropertyType              1642 non-null   object \n",
      " 20  Neighborhood                     1642 non-null   object \n",
      " 21  LargestPropertyUseType           1636 non-null   object \n",
      " 22  SecondLargestPropertyUseType     839 non-null    object \n",
      "dtypes: float64(14), int64(4), object(5)\n",
      "memory usage: 307.9+ KB\n"
     ]
    }
   ],
   "source": [
    "X_nr_wo_y.info()"
   ]
  },
  {
   "cell_type": "markdown",
   "id": "e68cc9ee",
   "metadata": {},
   "source": [
    "### Preprocessing"
   ]
  },
  {
   "cell_type": "code",
   "execution_count": 723,
   "id": "9b65efcd",
   "metadata": {},
   "outputs": [],
   "source": [
    "robust_scaler = RobustScaler()\n",
    "y_reshaped = y.values.reshape(-1,1)\n",
    "y_scaled_T = robust_scaler.fit_transform(y_reshaped)"
   ]
  },
  {
   "cell_type": "code",
   "execution_count": 724,
   "id": "0ac54a73",
   "metadata": {},
   "outputs": [
    {
     "data": {
      "text/plain": [
       "(1642, 1)"
      ]
     },
     "execution_count": 724,
     "metadata": {},
     "output_type": "execute_result"
    }
   ],
   "source": [
    "y_scaled_T.shape"
   ]
  },
  {
   "cell_type": "markdown",
   "id": "34a98084",
   "metadata": {},
   "source": [
    "### Split dataset"
   ]
  },
  {
   "cell_type": "code",
   "execution_count": 725,
   "id": "c35a9a06",
   "metadata": {},
   "outputs": [],
   "source": [
    "X_nr_train, X_nr_test, y_nr_train, y_nr_test = train_test_split(X_nr_wo_y, y_scaled_T)"
   ]
  },
  {
   "cell_type": "markdown",
   "id": "db6b272e",
   "metadata": {},
   "source": [
    "### Application modèle, Random Forest"
   ]
  },
  {
   "cell_type": "code",
   "execution_count": 726,
   "id": "1dbf44e9",
   "metadata": {},
   "outputs": [],
   "source": [
    "# Instantiation du modèle avec 1000 arbres de décision.\n",
    "rf = RandomForestRegressor(n_estimators = 1000, random_state = 0)\n"
   ]
  },
  {
   "cell_type": "code",
   "execution_count": 727,
   "id": "3495c8cd",
   "metadata": {},
   "outputs": [],
   "source": [
    "pipe_rf = make_pipeline(preprocessor, rf)"
   ]
  },
  {
   "cell_type": "code",
   "execution_count": 728,
   "id": "fadb7097",
   "metadata": {},
   "outputs": [],
   "source": [
    "rf_fitted = pipe_rf.fit(X_nr_train, y_nr_train.ravel())"
   ]
  },
  {
   "cell_type": "markdown",
   "id": "d4499a23",
   "metadata": {},
   "source": [
    "### Score"
   ]
  },
  {
   "cell_type": "code",
   "execution_count": 729,
   "id": "78775360",
   "metadata": {},
   "outputs": [
    {
     "data": {
      "text/plain": [
       "0.8513186981673057"
      ]
     },
     "execution_count": 729,
     "metadata": {},
     "output_type": "execute_result"
    }
   ],
   "source": [
    "rf_fitted.score(X_nr_test, y_nr_test)"
   ]
  },
  {
   "cell_type": "markdown",
   "id": "bc75d591",
   "metadata": {},
   "source": [
    "## Synthèse résultats RF, consommation énergie et émissions CO2, tout bâtiment et hors résidentiel uniquement."
   ]
  },
  {
   "cell_type": "code",
   "execution_count": 730,
   "id": "d8cd9eb8",
   "metadata": {},
   "outputs": [
    {
     "name": "stdout",
     "output_type": "stream",
     "text": [
      "[('RF_All_Energy', [0.98]), ('RF_nr_Energy', [0.94]), ('RF_All_CO2', [0.67]), ('RF_nr_CO2', [0.78])]\n",
      "(4, 1)\n"
     ]
    }
   ],
   "source": [
    "d = {'RF_All_Energy':[0.98], 'RF_nr_Energy': [0.94], 'RF_All_CO2':[0.67], 'RF_nr_CO2':[0.78]}\n",
    "l=list(d.items())\n",
    "print(l)\n",
    "\n",
    "values=[element[1] for element in l]\n",
    "arr= np.array(values)\n",
    "print(arr.shape)\n",
    "\n",
    "names=[element[0] for element in l]\n",
    "\n",
    "df_rf_perf = pd.DataFrame(data=arr, index= names)\n",
    "df_rf_perf.rename(columns={0:'values'}, inplace=True)"
   ]
  },
  {
   "cell_type": "code",
   "execution_count": 731,
   "id": "9c4a7514",
   "metadata": {},
   "outputs": [
    {
     "data": {
      "text/html": [
       "<div>\n",
       "<style scoped>\n",
       "    .dataframe tbody tr th:only-of-type {\n",
       "        vertical-align: middle;\n",
       "    }\n",
       "\n",
       "    .dataframe tbody tr th {\n",
       "        vertical-align: top;\n",
       "    }\n",
       "\n",
       "    .dataframe thead th {\n",
       "        text-align: right;\n",
       "    }\n",
       "</style>\n",
       "<table border=\"1\" class=\"dataframe\">\n",
       "  <thead>\n",
       "    <tr style=\"text-align: right;\">\n",
       "      <th></th>\n",
       "      <th>values</th>\n",
       "    </tr>\n",
       "  </thead>\n",
       "  <tbody>\n",
       "    <tr>\n",
       "      <th>RF_All_Energy</th>\n",
       "      <td>0.98</td>\n",
       "    </tr>\n",
       "    <tr>\n",
       "      <th>RF_nr_Energy</th>\n",
       "      <td>0.94</td>\n",
       "    </tr>\n",
       "    <tr>\n",
       "      <th>RF_All_CO2</th>\n",
       "      <td>0.67</td>\n",
       "    </tr>\n",
       "    <tr>\n",
       "      <th>RF_nr_CO2</th>\n",
       "      <td>0.78</td>\n",
       "    </tr>\n",
       "  </tbody>\n",
       "</table>\n",
       "</div>"
      ],
      "text/plain": [
       "               values\n",
       "RF_All_Energy    0.98\n",
       "RF_nr_Energy     0.94\n",
       "RF_All_CO2       0.67\n",
       "RF_nr_CO2        0.78"
      ]
     },
     "execution_count": 731,
     "metadata": {},
     "output_type": "execute_result"
    }
   ],
   "source": [
    "df_rf_perf"
   ]
  },
  {
   "cell_type": "code",
   "execution_count": 749,
   "id": "dcc40436",
   "metadata": {},
   "outputs": [
    {
     "data": {
      "image/png": "[encoded data removed]",
      "text/plain": [
       "<Figure size 640x480 with 1 Axes>"
      ]
     },
     "metadata": {},
     "output_type": "display_data"
    }
   ],
   "source": [
    "sns.barplot(data= df_rf_perf,x=df_rf_perf.index, y='values')\n",
    "plt.title('Impact tout bâtiment ou hors résidentiel seulement, Conso. énerg. et CO2')\n",
    "plt.show()"
   ]
  },
  {
   "cell_type": "markdown",
   "id": "3bc8004e",
   "metadata": {},
   "source": [
    "## Importance variable EnergyStarScore, \"GHGEmissionsIntensity\", non résidentiel."
   ]
  },
  {
   "cell_type": "code",
   "execution_count": 732,
   "id": "b636a835",
   "metadata": {},
   "outputs": [],
   "source": [
    "X_nr_wo_y.drop('ENERGYSTARScore', axis=1, inplace=True)"
   ]
  },
  {
   "cell_type": "code",
   "execution_count": 733,
   "id": "67ae2a52",
   "metadata": {},
   "outputs": [
    {
     "name": "stdout",
     "output_type": "stream",
     "text": [
      "<class 'pandas.core.frame.DataFrame'>\n",
      "Int64Index: 1642 entries, 0 to 3344\n",
      "Data columns (total 22 columns):\n",
      " #   Column                           Non-Null Count  Dtype  \n",
      "---  ------                           --------------  -----  \n",
      " 0   Latitude                         1642 non-null   float64\n",
      " 1   Longitude                        1642 non-null   float64\n",
      " 2   YearBuilt                        1642 non-null   int64  \n",
      " 3   NumberofBuildings                1642 non-null   float64\n",
      " 4   NumberofFloors                   1642 non-null   int64  \n",
      " 5   PropertyGFAParking               1642 non-null   int64  \n",
      " 6   PropertyGFABuilding(s)           1642 non-null   int64  \n",
      " 7   LargestPropertyUseTypeGFA        1642 non-null   float64\n",
      " 8   SecondLargestPropertyUseTypeGFA  1642 non-null   float64\n",
      " 9   ThirdLargestPropertyUseTypeGFA   1642 non-null   float64\n",
      " 10  SiteEUI(kBtu/sf)                 1642 non-null   float64\n",
      " 11  SourceEUI(kBtu/sf)               1642 non-null   float64\n",
      " 12  SiteEnergyUse(kBtu)              1642 non-null   float64\n",
      " 13  SteamUse(kBtu)                   1642 non-null   float64\n",
      " 14  Electricity(kBtu)                1642 non-null   float64\n",
      " 15  NaturalGas(kBtu)                 1642 non-null   float64\n",
      " 16  TotalGHGEmissions                1642 non-null   float64\n",
      " 17  BuildingType                     1642 non-null   object \n",
      " 18  PrimaryPropertyType              1642 non-null   object \n",
      " 19  Neighborhood                     1642 non-null   object \n",
      " 20  LargestPropertyUseType           1636 non-null   object \n",
      " 21  SecondLargestPropertyUseType     839 non-null    object \n",
      "dtypes: float64(13), int64(4), object(5)\n",
      "memory usage: 295.0+ KB\n"
     ]
    }
   ],
   "source": [
    "X_nr_wo_y.info()"
   ]
  },
  {
   "cell_type": "code",
   "execution_count": 734,
   "id": "480ca367",
   "metadata": {},
   "outputs": [],
   "source": [
    "X_nr_train, X_nr_test, y_nr_train, y_nr_test = train_test_split(X_nr_wo_y, y_scaled_T)"
   ]
  },
  {
   "cell_type": "code",
   "execution_count": 735,
   "id": "abc03f90",
   "metadata": {},
   "outputs": [],
   "source": [
    "# Distinguer les formats \"Num\" et \"Cat\" pour X\n",
    "numerical_features = X_wo_Y.select_dtypes(include=['float64']).columns.tolist()\n",
    "categorical_features = X_wo_Y.select_dtypes(include=\"object\").columns.tolist()"
   ]
  },
  {
   "cell_type": "code",
   "execution_count": 736,
   "id": "c45fffd8",
   "metadata": {},
   "outputs": [],
   "source": [
    "# Pipeline numérique features\n",
    "\n",
    "numerical_pipeline = make_pipeline(SimpleImputer(strategy='median'),\n",
    "                                   RobustScaler())"
   ]
  },
  {
   "cell_type": "code",
   "execution_count": 737,
   "id": "e402bbb3",
   "metadata": {},
   "outputs": [],
   "source": [
    "# Pipeline categorical features\n",
    "\n",
    "categorical_pipeline = make_pipeline(SimpleImputer(strategy='most_frequent'), \n",
    "                                     OneHotEncoder(categories='auto', \n",
    "                                                   handle_unknown='infrequent_if_exist',\n",
    "                                                   sparse_output=False))"
   ]
  },
  {
   "cell_type": "code",
   "execution_count": 738,
   "id": "0f9e77a7",
   "metadata": {},
   "outputs": [],
   "source": [
    "preprocessor = make_column_transformer((numerical_pipeline, numerical_features),\n",
    "                                         (categorical_pipeline, categorical_features))"
   ]
  },
  {
   "cell_type": "code",
   "execution_count": 739,
   "id": "857d26db",
   "metadata": {},
   "outputs": [
    {
     "name": "stdout",
     "output_type": "stream",
     "text": [
      "Dimensions sur y: (1642, 1)\n"
     ]
    }
   ],
   "source": [
    "robust_scaler = RobustScaler()\n",
    "y_reshaped = y.values.reshape(-1,1)\n",
    "y_scaled_T = robust_scaler.fit_transform(y_reshaped)\n",
    "print(\"Dimensions sur y: {}\".format(y_scaled_T.shape))"
   ]
  },
  {
   "cell_type": "code",
   "execution_count": 740,
   "id": "db05b8bf",
   "metadata": {},
   "outputs": [],
   "source": [
    "rf = RandomForestRegressor(n_estimators=1000, random_state=0)"
   ]
  },
  {
   "cell_type": "code",
   "execution_count": 741,
   "id": "e7c10d99",
   "metadata": {},
   "outputs": [],
   "source": [
    "pipe_rf = make_pipeline(preprocessor, rf)"
   ]
  },
  {
   "cell_type": "code",
   "execution_count": 742,
   "id": "94e96e0e",
   "metadata": {},
   "outputs": [
    {
     "data": {
      "text/html": [
       "<style>#sk-container-id-54 {color: black;background-color: white;}#sk-container-id-54 pre{padding: 0;}#sk-container-id-54 div.sk-toggleable {background-color: white;}#sk-container-id-54 label.sk-toggleable__label {cursor: pointer;display: block;width: 100%;margin-bottom: 0;padding: 0.3em;box-sizing: border-box;text-align: center;}#sk-container-id-54 label.sk-toggleable__label-arrow:before {content: \"▸\";float: left;margin-right: 0.25em;color: #696969;}#sk-container-id-54 label.sk-toggleable__label-arrow:hover:before {color: black;}#sk-container-id-54 div.sk-estimator:hover label.sk-toggleable__label-arrow:before {color: black;}#sk-container-id-54 div.sk-toggleable__content {max-height: 0;max-width: 0;overflow: hidden;text-align: left;background-color: #f0f8ff;}#sk-container-id-54 div.sk-toggleable__content pre {margin: 0.2em;color: black;border-radius: 0.25em;background-color: #f0f8ff;}#sk-container-id-54 input.sk-toggleable__control:checked~div.sk-toggleable__content {max-height: 200px;max-width: 100%;overflow: auto;}#sk-container-id-54 input.sk-toggleable__control:checked~label.sk-toggleable__label-arrow:before {content: \"▾\";}#sk-container-id-54 div.sk-estimator input.sk-toggleable__control:checked~label.sk-toggleable__label {background-color: #d4ebff;}#sk-container-id-54 div.sk-label input.sk-toggleable__control:checked~label.sk-toggleable__label {background-color: #d4ebff;}#sk-container-id-54 input.sk-hidden--visually {border: 0;clip: rect(1px 1px 1px 1px);clip: rect(1px, 1px, 1px, 1px);height: 1px;margin: -1px;overflow: hidden;padding: 0;position: absolute;width: 1px;}#sk-container-id-54 div.sk-estimator {font-family: monospace;background-color: #f0f8ff;border: 1px dotted black;border-radius: 0.25em;box-sizing: border-box;margin-bottom: 0.5em;}#sk-container-id-54 div.sk-estimator:hover {background-color: #d4ebff;}#sk-container-id-54 div.sk-parallel-item::after {content: \"\";width: 100%;border-bottom: 1px solid gray;flex-grow: 1;}#sk-container-id-54 div.sk-label:hover label.sk-toggleable__label {background-color: #d4ebff;}#sk-container-id-54 div.sk-serial::before {content: \"\";position: absolute;border-left: 1px solid gray;box-sizing: border-box;top: 0;bottom: 0;left: 50%;z-index: 0;}#sk-container-id-54 div.sk-serial {display: flex;flex-direction: column;align-items: center;background-color: white;padding-right: 0.2em;padding-left: 0.2em;position: relative;}#sk-container-id-54 div.sk-item {position: relative;z-index: 1;}#sk-container-id-54 div.sk-parallel {display: flex;align-items: stretch;justify-content: center;background-color: white;position: relative;}#sk-container-id-54 div.sk-item::before, #sk-container-id-54 div.sk-parallel-item::before {content: \"\";position: absolute;border-left: 1px solid gray;box-sizing: border-box;top: 0;bottom: 0;left: 50%;z-index: -1;}#sk-container-id-54 div.sk-parallel-item {display: flex;flex-direction: column;z-index: 1;position: relative;background-color: white;}#sk-container-id-54 div.sk-parallel-item:first-child::after {align-self: flex-end;width: 50%;}#sk-container-id-54 div.sk-parallel-item:last-child::after {align-self: flex-start;width: 50%;}#sk-container-id-54 div.sk-parallel-item:only-child::after {width: 0;}#sk-container-id-54 div.sk-dashed-wrapped {border: 1px dashed gray;margin: 0 0.4em 0.5em 0.4em;box-sizing: border-box;padding-bottom: 0.4em;background-color: white;}#sk-container-id-54 div.sk-label label {font-family: monospace;font-weight: bold;display: inline-block;line-height: 1.2em;}#sk-container-id-54 div.sk-label-container {text-align: center;}#sk-container-id-54 div.sk-container {/* jupyter's `normalize.less` sets `[hidden] { display: none; }` but bootstrap.min.css set `[hidden] { display: none !important; }` so we also need the `!important` here to be able to override the default hidden behavior on the sphinx rendered scikit-learn.org. See: https://github.com/scikit-learn/scikit-learn/issues/21755 */display: inline-block !important;position: relative;}#sk-container-id-54 div.sk-text-repr-fallback {display: none;}</style><div id=\"sk-container-id-54\" class=\"sk-top-container\"><div class=\"sk-text-repr-fallback\"><pre>Pipeline(steps=[(&#x27;columntransformer&#x27;,\n",
       "                 ColumnTransformer(transformers=[(&#x27;pipeline-1&#x27;,\n",
       "                                                  Pipeline(steps=[(&#x27;simpleimputer&#x27;,\n",
       "                                                                   SimpleImputer(strategy=&#x27;median&#x27;)),\n",
       "                                                                  (&#x27;robustscaler&#x27;,\n",
       "                                                                   RobustScaler())]),\n",
       "                                                  [&#x27;Latitude&#x27;, &#x27;Longitude&#x27;,\n",
       "                                                   &#x27;NumberofBuildings&#x27;,\n",
       "                                                   &#x27;LargestPropertyUseTypeGFA&#x27;,\n",
       "                                                   &#x27;SecondLargestPropertyUseTypeGFA&#x27;,\n",
       "                                                   &#x27;ThirdLargestPropertyUseTypeGFA&#x27;,\n",
       "                                                   &#x27;ENERGYSTARScore&#x27;,\n",
       "                                                   &#x27;SiteEUI(...\n",
       "                                                  Pipeline(steps=[(&#x27;simpleimputer&#x27;,\n",
       "                                                                   SimpleImputer(strategy=&#x27;most_frequent&#x27;)),\n",
       "                                                                  (&#x27;onehotencoder&#x27;,\n",
       "                                                                   OneHotEncoder(handle_unknown=&#x27;infrequent_if_exist&#x27;,\n",
       "                                                                                 sparse_output=False))]),\n",
       "                                                  [&#x27;BuildingType&#x27;,\n",
       "                                                   &#x27;PrimaryPropertyType&#x27;,\n",
       "                                                   &#x27;Neighborhood&#x27;,\n",
       "                                                   &#x27;LargestPropertyUseType&#x27;,\n",
       "                                                   &#x27;SecondLargestPropertyUseType&#x27;])])),\n",
       "                (&#x27;randomforestregressor&#x27;,\n",
       "                 RandomForestRegressor(n_estimators=1000, random_state=0))])</pre><b>In a Jupyter environment, please rerun this cell to show the HTML representation or trust the notebook. <br />On GitHub, the HTML representation is unable to render, please try loading this page with nbviewer.org.</b></div><div class=\"sk-container\" hidden><div class=\"sk-item sk-dashed-wrapped\"><div class=\"sk-label-container\"><div class=\"sk-label sk-toggleable\"><input class=\"sk-toggleable__control sk-hidden--visually\" id=\"sk-estimator-id-514\" type=\"checkbox\" ><label for=\"sk-estimator-id-514\" class=\"sk-toggleable__label sk-toggleable__label-arrow\">Pipeline</label><div class=\"sk-toggleable__content\"><pre>Pipeline(steps=[(&#x27;columntransformer&#x27;,\n",
       "                 ColumnTransformer(transformers=[(&#x27;pipeline-1&#x27;,\n",
       "                                                  Pipeline(steps=[(&#x27;simpleimputer&#x27;,\n",
       "                                                                   SimpleImputer(strategy=&#x27;median&#x27;)),\n",
       "                                                                  (&#x27;robustscaler&#x27;,\n",
       "                                                                   RobustScaler())]),\n",
       "                                                  [&#x27;Latitude&#x27;, &#x27;Longitude&#x27;,\n",
       "                                                   &#x27;NumberofBuildings&#x27;,\n",
       "                                                   &#x27;LargestPropertyUseTypeGFA&#x27;,\n",
       "                                                   &#x27;SecondLargestPropertyUseTypeGFA&#x27;,\n",
       "                                                   &#x27;ThirdLargestPropertyUseTypeGFA&#x27;,\n",
       "                                                   &#x27;ENERGYSTARScore&#x27;,\n",
       "                                                   &#x27;SiteEUI(...\n",
       "                                                  Pipeline(steps=[(&#x27;simpleimputer&#x27;,\n",
       "                                                                   SimpleImputer(strategy=&#x27;most_frequent&#x27;)),\n",
       "                                                                  (&#x27;onehotencoder&#x27;,\n",
       "                                                                   OneHotEncoder(handle_unknown=&#x27;infrequent_if_exist&#x27;,\n",
       "                                                                                 sparse_output=False))]),\n",
       "                                                  [&#x27;BuildingType&#x27;,\n",
       "                                                   &#x27;PrimaryPropertyType&#x27;,\n",
       "                                                   &#x27;Neighborhood&#x27;,\n",
       "                                                   &#x27;LargestPropertyUseType&#x27;,\n",
       "                                                   &#x27;SecondLargestPropertyUseType&#x27;])])),\n",
       "                (&#x27;randomforestregressor&#x27;,\n",
       "                 RandomForestRegressor(n_estimators=1000, random_state=0))])</pre></div></div></div><div class=\"sk-serial\"><div class=\"sk-item sk-dashed-wrapped\"><div class=\"sk-label-container\"><div class=\"sk-label sk-toggleable\"><input class=\"sk-toggleable__control sk-hidden--visually\" id=\"sk-estimator-id-515\" type=\"checkbox\" ><label for=\"sk-estimator-id-515\" class=\"sk-toggleable__label sk-toggleable__label-arrow\">columntransformer: ColumnTransformer</label><div class=\"sk-toggleable__content\"><pre>ColumnTransformer(transformers=[(&#x27;pipeline-1&#x27;,\n",
       "                                 Pipeline(steps=[(&#x27;simpleimputer&#x27;,\n",
       "                                                  SimpleImputer(strategy=&#x27;median&#x27;)),\n",
       "                                                 (&#x27;robustscaler&#x27;,\n",
       "                                                  RobustScaler())]),\n",
       "                                 [&#x27;Latitude&#x27;, &#x27;Longitude&#x27;, &#x27;NumberofBuildings&#x27;,\n",
       "                                  &#x27;LargestPropertyUseTypeGFA&#x27;,\n",
       "                                  &#x27;SecondLargestPropertyUseTypeGFA&#x27;,\n",
       "                                  &#x27;ThirdLargestPropertyUseTypeGFA&#x27;,\n",
       "                                  &#x27;ENERGYSTARScore&#x27;, &#x27;SiteEUI(kBtu/sf)&#x27;,\n",
       "                                  &#x27;SourceEUI(kBtu/sf)&#x27;, &#x27;SiteE...\n",
       "                                  &#x27;SteamUse(kBtu)&#x27;, &#x27;Electricity(kBtu)&#x27;,\n",
       "                                  &#x27;NaturalGas(kBtu)&#x27;, &#x27;TotalGHGEmissions&#x27;]),\n",
       "                                (&#x27;pipeline-2&#x27;,\n",
       "                                 Pipeline(steps=[(&#x27;simpleimputer&#x27;,\n",
       "                                                  SimpleImputer(strategy=&#x27;most_frequent&#x27;)),\n",
       "                                                 (&#x27;onehotencoder&#x27;,\n",
       "                                                  OneHotEncoder(handle_unknown=&#x27;infrequent_if_exist&#x27;,\n",
       "                                                                sparse_output=False))]),\n",
       "                                 [&#x27;BuildingType&#x27;, &#x27;PrimaryPropertyType&#x27;,\n",
       "                                  &#x27;Neighborhood&#x27;, &#x27;LargestPropertyUseType&#x27;,\n",
       "                                  &#x27;SecondLargestPropertyUseType&#x27;])])</pre></div></div></div><div class=\"sk-parallel\"><div class=\"sk-parallel-item\"><div class=\"sk-item\"><div class=\"sk-label-container\"><div class=\"sk-label sk-toggleable\"><input class=\"sk-toggleable__control sk-hidden--visually\" id=\"sk-estimator-id-516\" type=\"checkbox\" ><label for=\"sk-estimator-id-516\" class=\"sk-toggleable__label sk-toggleable__label-arrow\">pipeline-1</label><div class=\"sk-toggleable__content\"><pre>[&#x27;Latitude&#x27;, &#x27;Longitude&#x27;, &#x27;NumberofBuildings&#x27;, &#x27;LargestPropertyUseTypeGFA&#x27;, &#x27;SecondLargestPropertyUseTypeGFA&#x27;, &#x27;ThirdLargestPropertyUseTypeGFA&#x27;, &#x27;ENERGYSTARScore&#x27;, &#x27;SiteEUI(kBtu/sf)&#x27;, &#x27;SourceEUI(kBtu/sf)&#x27;, &#x27;SiteEnergyUse(kBtu)&#x27;, &#x27;SteamUse(kBtu)&#x27;, &#x27;Electricity(kBtu)&#x27;, &#x27;NaturalGas(kBtu)&#x27;, &#x27;TotalGHGEmissions&#x27;]</pre></div></div></div><div class=\"sk-serial\"><div class=\"sk-item\"><div class=\"sk-serial\"><div class=\"sk-item\"><div class=\"sk-estimator sk-toggleable\"><input class=\"sk-toggleable__control sk-hidden--visually\" id=\"sk-estimator-id-517\" type=\"checkbox\" ><label for=\"sk-estimator-id-517\" class=\"sk-toggleable__label sk-toggleable__label-arrow\">SimpleImputer</label><div class=\"sk-toggleable__content\"><pre>SimpleImputer(strategy=&#x27;median&#x27;)</pre></div></div></div><div class=\"sk-item\"><div class=\"sk-estimator sk-toggleable\"><input class=\"sk-toggleable__control sk-hidden--visually\" id=\"sk-estimator-id-518\" type=\"checkbox\" ><label for=\"sk-estimator-id-518\" class=\"sk-toggleable__label sk-toggleable__label-arrow\">RobustScaler</label><div class=\"sk-toggleable__content\"><pre>RobustScaler()</pre></div></div></div></div></div></div></div></div><div class=\"sk-parallel-item\"><div class=\"sk-item\"><div class=\"sk-label-container\"><div class=\"sk-label sk-toggleable\"><input class=\"sk-toggleable__control sk-hidden--visually\" id=\"sk-estimator-id-519\" type=\"checkbox\" ><label for=\"sk-estimator-id-519\" class=\"sk-toggleable__label sk-toggleable__label-arrow\">pipeline-2</label><div class=\"sk-toggleable__content\"><pre>[&#x27;BuildingType&#x27;, &#x27;PrimaryPropertyType&#x27;, &#x27;Neighborhood&#x27;, &#x27;LargestPropertyUseType&#x27;, &#x27;SecondLargestPropertyUseType&#x27;]</pre></div></div></div><div class=\"sk-serial\"><div class=\"sk-item\"><div class=\"sk-serial\"><div class=\"sk-item\"><div class=\"sk-estimator sk-toggleable\"><input class=\"sk-toggleable__control sk-hidden--visually\" id=\"sk-estimator-id-520\" type=\"checkbox\" ><label for=\"sk-estimator-id-520\" class=\"sk-toggleable__label sk-toggleable__label-arrow\">SimpleImputer</label><div class=\"sk-toggleable__content\"><pre>SimpleImputer(strategy=&#x27;most_frequent&#x27;)</pre></div></div></div><div class=\"sk-item\"><div class=\"sk-estimator sk-toggleable\"><input class=\"sk-toggleable__control sk-hidden--visually\" id=\"sk-estimator-id-521\" type=\"checkbox\" ><label for=\"sk-estimator-id-521\" class=\"sk-toggleable__label sk-toggleable__label-arrow\">OneHotEncoder</label><div class=\"sk-toggleable__content\"><pre>OneHotEncoder(handle_unknown=&#x27;infrequent_if_exist&#x27;, sparse_output=False)</pre></div></div></div></div></div></div></div></div></div></div><div class=\"sk-item\"><div class=\"sk-estimator sk-toggleable\"><input class=\"sk-toggleable__control sk-hidden--visually\" id=\"sk-estimator-id-522\" type=\"checkbox\" ><label for=\"sk-estimator-id-522\" class=\"sk-toggleable__label sk-toggleable__label-arrow\">RandomForestRegressor</label><div class=\"sk-toggleable__content\"><pre>RandomForestRegressor(n_estimators=1000, random_state=0)</pre></div></div></div></div></div></div></div>"
      ],
      "text/plain": [
       "Pipeline(steps=[('columntransformer',\n",
       "                 ColumnTransformer(transformers=[('pipeline-1',\n",
       "                                                  Pipeline(steps=[('simpleimputer',\n",
       "                                                                   SimpleImputer(strategy='median')),\n",
       "                                                                  ('robustscaler',\n",
       "                                                                   RobustScaler())]),\n",
       "                                                  ['Latitude', 'Longitude',\n",
       "                                                   'NumberofBuildings',\n",
       "                                                   'LargestPropertyUseTypeGFA',\n",
       "                                                   'SecondLargestPropertyUseTypeGFA',\n",
       "                                                   'ThirdLargestPropertyUseTypeGFA',\n",
       "                                                   'ENERGYSTARScore',\n",
       "                                                   'SiteEUI(...\n",
       "                                                  Pipeline(steps=[('simpleimputer',\n",
       "                                                                   SimpleImputer(strategy='most_frequent')),\n",
       "                                                                  ('onehotencoder',\n",
       "                                                                   OneHotEncoder(handle_unknown='infrequent_if_exist',\n",
       "                                                                                 sparse_output=False))]),\n",
       "                                                  ['BuildingType',\n",
       "                                                   'PrimaryPropertyType',\n",
       "                                                   'Neighborhood',\n",
       "                                                   'LargestPropertyUseType',\n",
       "                                                   'SecondLargestPropertyUseType'])])),\n",
       "                ('randomforestregressor',\n",
       "                 RandomForestRegressor(n_estimators=1000, random_state=0))])"
      ]
     },
     "execution_count": 742,
     "metadata": {},
     "output_type": "execute_result"
    }
   ],
   "source": [
    "pipe_rf.fit(X_train, y_train.ravel())"
   ]
  },
  {
   "cell_type": "code",
   "execution_count": 743,
   "id": "84c60736",
   "metadata": {
    "scrolled": true
   },
   "outputs": [
    {
     "data": {
      "text/plain": [
       "0.6705059239564557"
      ]
     },
     "execution_count": 743,
     "metadata": {},
     "output_type": "execute_result"
    }
   ],
   "source": [
    "pipe_rf.score(X_test, y_test.ravel())"
   ]
  },
  {
   "cell_type": "markdown",
   "id": "d6f24e53",
   "metadata": {},
   "source": [
    "## Synthèse résultats RF, consommation énergie et émissions CO2, tout bâtiment et hors résidentiel uniquement, avec et sans variable \"ENERGYSTARScore\"."
   ]
  },
  {
   "cell_type": "code",
   "execution_count": 744,
   "id": "75f108f2",
   "metadata": {},
   "outputs": [
    {
     "name": "stdout",
     "output_type": "stream",
     "text": [
      "[('RF_En_nr_w_ESS', [0.945]), ('RF_En_nr_wo_ESS', [0.949]), ('RF_CO2_w_ESS', [0.85]), ('RF_CO2_wo_ESS', [0.67])]\n",
      "(4, 1)\n"
     ]
    }
   ],
   "source": [
    "d = {'RF_En_nr_w_ESS':[0.945], 'RF_En_nr_wo_ESS': [0.949], 'RF_CO2_w_ESS':[0.85], 'RF_CO2_wo_ESS':[0.67]}\n",
    "l=list(d.items())\n",
    "print(l)\n",
    "\n",
    "values=[element[1] for element in l]\n",
    "arr= np.array(values)\n",
    "print(arr.shape)\n",
    "\n",
    "names=[element[0] for element in l]\n",
    "\n",
    "df_rf_perf = pd.DataFrame(data=arr, index= names)\n",
    "df_rf_perf.rename(columns={0:'values'}, inplace=True)"
   ]
  },
  {
   "cell_type": "code",
   "execution_count": 745,
   "id": "a2fa569b",
   "metadata": {},
   "outputs": [
    {
     "data": {
      "text/html": [
       "<div>\n",
       "<style scoped>\n",
       "    .dataframe tbody tr th:only-of-type {\n",
       "        vertical-align: middle;\n",
       "    }\n",
       "\n",
       "    .dataframe tbody tr th {\n",
       "        vertical-align: top;\n",
       "    }\n",
       "\n",
       "    .dataframe thead th {\n",
       "        text-align: right;\n",
       "    }\n",
       "</style>\n",
       "<table border=\"1\" class=\"dataframe\">\n",
       "  <thead>\n",
       "    <tr style=\"text-align: right;\">\n",
       "      <th></th>\n",
       "      <th>values</th>\n",
       "    </tr>\n",
       "  </thead>\n",
       "  <tbody>\n",
       "    <tr>\n",
       "      <th>RF_En_nr_w_ESS</th>\n",
       "      <td>0.945</td>\n",
       "    </tr>\n",
       "    <tr>\n",
       "      <th>RF_En_nr_wo_ESS</th>\n",
       "      <td>0.949</td>\n",
       "    </tr>\n",
       "    <tr>\n",
       "      <th>RF_CO2_w_ESS</th>\n",
       "      <td>0.850</td>\n",
       "    </tr>\n",
       "    <tr>\n",
       "      <th>RF_CO2_wo_ESS</th>\n",
       "      <td>0.670</td>\n",
       "    </tr>\n",
       "  </tbody>\n",
       "</table>\n",
       "</div>"
      ],
      "text/plain": [
       "                 values\n",
       "RF_En_nr_w_ESS    0.945\n",
       "RF_En_nr_wo_ESS   0.949\n",
       "RF_CO2_w_ESS      0.850\n",
       "RF_CO2_wo_ESS     0.670"
      ]
     },
     "execution_count": 745,
     "metadata": {},
     "output_type": "execute_result"
    }
   ],
   "source": [
    "df_rf_perf"
   ]
  },
  {
   "cell_type": "code",
   "execution_count": 750,
   "id": "b85f60ad",
   "metadata": {},
   "outputs": [
    {
     "data": {
      "image/png": "[encoded data removed]",
      "text/plain": [
       "<Figure size 640x480 with 1 Axes>"
      ]
     },
     "metadata": {},
     "output_type": "display_data"
    }
   ],
   "source": [
    "sns.barplot(data= df_rf_perf,x=df_rf_perf.index, y='values')\n",
    "plt.title('Impact avec ou sans EnergyStarScore, non résidentiel uniquemnet')\n",
    "plt.show()"
   ]
  },
  {
   "cell_type": "markdown",
   "id": "3f4fd1bc",
   "metadata": {},
   "source": [
    "Pour le set de données correspondant au non résidentiel uniquement, on observe un impact de la présence ou non de la variable EnergyStarScore. Faut il finalement inclure cette variable dans les analyses ? Cette variable est fabriquée à partir d'échantillons d'observations, ce n'est pas une variable \"pure\", elle est entachée d'erreur. Mon avis est que les analyses devraient se faire en excluant cette variable."
   ]
  },
  {
   "cell_type": "code",
   "execution_count": null,
   "id": "951ee6d7",
   "metadata": {},
   "outputs": [],
   "source": []
  }
 ],
 "metadata": {
  "kernelspec": {
   "display_name": "Python 3 (ipykernel)",
   "language": "python",
   "name": "python3"
  },
  "language_info": {
   "codemirror_mode": {
    "name": "ipython",
    "version": 3
   },
   "file_extension": ".py",
   "mimetype": "text/x-python",
   "name": "python",
   "nbconvert_exporter": "python",
   "pygments_lexer": "ipython3",
   "version": "3.9.15"
  },
  "toc": {
   "base_numbering": 1,
   "nav_menu": {
    "height": "588px",
    "width": "562px"
   },
   "number_sections": true,
   "sideBar": true,
   "skip_h1_title": false,
   "title_cell": "Table of Contents",
   "title_sidebar": "Contents",
   "toc_cell": false,
   "toc_position": {},
   "toc_section_display": true,
   "toc_window_display": false
  }
 },
 "nbformat": 4,
 "nbformat_minor": 5
}
